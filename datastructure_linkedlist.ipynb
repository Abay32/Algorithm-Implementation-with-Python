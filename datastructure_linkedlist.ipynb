{
 "cells": [
  {
   "cell_type": "markdown",
   "metadata": {},
   "source": [
    "# Data structure in python \n",
    "\n",
    "There are two types of data structure such as inbult and user defined \n",
    "\n",
    "In this tutorial, we will see some of these data structures"
   ]
  },
  {
   "cell_type": "markdown",
   "metadata": {},
   "source": [
    "# list methods\n",
    "\n",
    "- append() - add an element to the end of the list\n",
    "- extend() - add all elements of a vist to another list \n",
    "- insert() - insert an item at the defined index \n",
    "- remove() - removes an item from the list \n",
    "- pop() - removes and returns an element at the given index \n",
    "- clear() -removes all items from the list \n",
    "- index() - returns the index of the first matched item in the list\n",
    "- count() - returns the count of the number of items passed as an argument\n",
    "- sort() - sort items in a list in ascending order \n",
    "- reverse() - used to reverse the order of items in a list \n",
    "- copy() - returns the copy of the list \n",
    "\n"
   ]
  },
  {
   "cell_type": "code",
   "execution_count": 1,
   "metadata": {
    "scrolled": true
   },
   "outputs": [
    {
     "name": "stdout",
     "output_type": "stream",
     "text": [
      "[3, 0, 1, 2, 3, 4, 5, 6, 7, 8, 9]\n"
     ]
    }
   ],
   "source": [
    "# append method\n",
    "list_eg = [] # creating empty list \n",
    "list_eg.append(3) # it add item 3 in the empty list \n",
    "\n",
    "for i in range(10):\n",
    "    list_eg.append(i)\n",
    "print(list_eg)\n"
   ]
  },
  {
   "cell_type": "code",
   "execution_count": 2,
   "metadata": {},
   "outputs": [
    {
     "name": "stdout",
     "output_type": "stream",
     "text": [
      "[3, 0, 1, 2, 3, 4, 5, 6, 7, 8, 9, 'a', 'b', 'c', 'g']\n"
     ]
    }
   ],
   "source": [
    "# extend method \n",
    "a = ['a', 'b', 'c', 'g']\n",
    "list_eg.extend(a)\n",
    "print(list_eg)"
   ]
  },
  {
   "cell_type": "code",
   "execution_count": 3,
   "metadata": {},
   "outputs": [
    {
     "name": "stdout",
     "output_type": "stream",
     "text": [
      "[3, 0, 1, 'abay', 2, 3, 4, 5, 6, 7, 8, 9, 'a', 'b', 'c', 'g']\n"
     ]
    }
   ],
   "source": [
    "# insert method \n",
    "list_eg.insert(3, 'abay') # this method inserts the item 'abay' in the list_eg of position 3\n",
    "print(list_eg)"
   ]
  },
  {
   "cell_type": "code",
   "execution_count": 4,
   "metadata": {},
   "outputs": [
    {
     "name": "stdout",
     "output_type": "stream",
     "text": [
      "[3, 0, 1, 2, 3, 4, 5, 6, 7, 8, 9, 'a', 'b', 'c', 'g']\n"
     ]
    }
   ],
   "source": [
    "# Remove method\n",
    "list_eg.remove('abay')\n",
    "print(list_eg)"
   ]
  },
  {
   "cell_type": "code",
   "execution_count": 5,
   "metadata": {},
   "outputs": [
    {
     "name": "stdout",
     "output_type": "stream",
     "text": [
      "[0, 1, 2, 3, 4, 5, 6, 7, 8, 9, 'a', 'b', 'c', 'g']\n",
      "[0, 1, 2, 3, 4, 5, 6, 7, 8, 9, 'a', 'b', 'c']\n"
     ]
    }
   ],
   "source": [
    "# The pop method \n",
    "\n",
    "list_eg.pop(0) # removes the element of list_eg at the position 0\n",
    "print(list_eg)\n",
    "\n",
    "list_eg.pop() # removes the last item in the list \n",
    "print(list_eg)"
   ]
  },
  {
   "cell_type": "code",
   "execution_count": 6,
   "metadata": {},
   "outputs": [
    {
     "data": {
      "text/plain": [
       "3"
      ]
     },
     "execution_count": 6,
     "metadata": {},
     "output_type": "execute_result"
    }
   ],
   "source": [
    "# count method \n",
    "x = ['a', 'a', 'a', 'b', 'b']\n",
    "x.count('a')"
   ]
  },
  {
   "cell_type": "code",
   "execution_count": null,
   "metadata": {},
   "outputs": [],
   "source": []
  },
  {
   "cell_type": "code",
   "execution_count": 10,
   "metadata": {},
   "outputs": [
    {
     "name": "stdout",
     "output_type": "stream",
     "text": [
      "None\n"
     ]
    }
   ],
   "source": [
    "# reverse mmethod\n",
    "\n",
    "a = int_item.reverse()\n",
    "print(a)"
   ]
  },
  {
   "cell_type": "markdown",
   "metadata": {},
   "source": [
    "# list comprehension \n",
    "\n",
    "- List comprehension in Python is also surrounded by brackets\n",
    "    - you enter an expression followed by for loop and if-else clauses.\n",
    "\n",
    "#e.g.,"
   ]
  },
  {
   "cell_type": "code",
   "execution_count": 11,
   "metadata": {},
   "outputs": [
    {
     "data": {
      "text/plain": [
       "[[0, 0], [2, 4], [4, 16], [6, 36], [8, 64]]"
      ]
     },
     "execution_count": 11,
     "metadata": {},
     "output_type": "execute_result"
    }
   ],
   "source": [
    "a = [[x, x**2] for x in range(10) if x%2 == 0] # nested list\n",
    "a"
   ]
  },
  {
   "cell_type": "markdown",
   "metadata": {},
   "source": [
    "#  Lambda and map functions\n",
    "\n",
    "- Lambda functions -- \"anonymous functions\" or \"functions without a name\". \n",
    "- Lambda functions borrow their name from the lambda keyword in Python\n",
    "- Lambda function replaces the standard def keyword but can only handle a single expression \n",
    "\n",
    "# e.g., \n"
   ]
  },
  {
   "cell_type": "code",
   "execution_count": 12,
   "metadata": {},
   "outputs": [
    {
     "data": {
      "text/plain": [
       "[0.023, 0.052, 0.1, 1.0, 34.5]"
      ]
     },
     "execution_count": 12,
     "metadata": {},
     "output_type": "execute_result"
    }
   ],
   "source": [
    "# covert a list of meters to killometer scale \n",
    "\n",
    "meter = [23, 52, 100, 1000, 34500] # m\n",
    "\n",
    "km = list(map(lambda x: x/1000.0, meter))\n",
    "km         "
   ]
  },
  {
   "cell_type": "markdown",
   "metadata": {},
   "source": [
    "# Excercise \n",
    "\n",
    "- convert the list of tempratures in degree centigrades to degree fahrenheit \n",
    "\n",
    "Hint: $T{o_F} = 9To_{c}/5 + 32$"
   ]
  },
  {
   "cell_type": "markdown",
   "metadata": {},
   "source": [
    "# Lambda and filter functions \n",
    "\n",
    "- filter function is used to filter out the items in the list based on the expression applied through the lambda function \n",
    "\n",
    "# e.g., \n"
   ]
  },
  {
   "cell_type": "code",
   "execution_count": 4,
   "metadata": {},
   "outputs": [
    {
     "name": "stdout",
     "output_type": "stream",
     "text": [
      "[3, 7, 5, 9, 11, 101, 33]\n"
     ]
    }
   ],
   "source": [
    "x = [0, -2, 3, 4, 7, 5, 8, 9, 11, 101, 30, 40, 33] # given a list x\n",
    "\n",
    "# return the list of odd numberse in from list x \n",
    "\n",
    "odd = filter(lambda y: y%2 != 0, x)\n",
    "print(list(odd))"
   ]
  },
  {
   "cell_type": "markdown",
   "metadata": {},
   "source": [
    "# Nested if conditional\n",
    "    - in the list comprehension\n"
   ]
  },
  {
   "cell_type": "code",
   "execution_count": 14,
   "metadata": {},
   "outputs": [
    {
     "data": {
      "text/plain": [
       "[1, 2, 3, 4, 5, 10, 11, 12, 13, 14]"
      ]
     },
     "execution_count": 14,
     "metadata": {},
     "output_type": "execute_result"
    }
   ],
   "source": [
    "# The list of integers that are even and multipve of 6\n",
    "\n",
    "z = [x for x in range(100) if x%2==0 and x%6==0]\n",
    "z\n",
    "\n",
    "x = [x+1 if x<5 else x + 5 for x in range(10)]\n",
    "x"
   ]
  },
  {
   "cell_type": "markdown",
   "metadata": {},
   "source": [
    "# String \n",
    "\n",
    "- Besides numbers, Python can also manipulate strings,\n",
    "\n",
    "- '+' used to add(merge) two strings \n",
    "- '*' used to repeat the string multiple times \n",
    "- [:] used to slice the string \n",
    "- 'in' memebership check, returns True if the object exists\n",
    "- 'not in' membersgip check and returns True if the object doen't exist \n",
    "- '%' performs string formating. \n",
    "\n",
    "- please check for more string oprations http://www.python-ds.com/python-3-string-methods"
   ]
  },
  {
   "cell_type": "code",
   "execution_count": 17,
   "metadata": {},
   "outputs": [
    {
     "name": "stdout",
     "output_type": "stream",
     "text": [
      "aBAYkASSA\n",
      "abaykassa\n"
     ]
    },
    {
     "data": {
      "text/plain": [
       "'ABAYKASSA'"
      ]
     },
     "execution_count": 17,
     "metadata": {},
     "output_type": "execute_result"
    }
   ],
   "source": [
    "x = 'Abay'\n",
    "y = 'Kassa'\n",
    "\n",
    "x += y # adds the two stimgs \n",
    "swap = x.swapcase() # Swamp the cases in the string\n",
    "print(swap)\n",
    "\n",
    "loweCase = x.lower() # coverts all characters to the lower case \n",
    "print(loweCase)\n",
    "\n",
    "upperCase"
   ]
  },
  {
   "cell_type": "markdown",
   "metadata": {},
   "source": [
    " # Dictionary\n",
    "    \n",
    "Dictionary dict(), $\\{\\}$ is an inbuilt python datastructure \n",
    "    - it has a key value pair \n",
    "\n",
    "# Functions \n",
    "    - that can be used to manupulate the dict are listed below \n",
    "    \n",
    "- cop() -- returns the copy of the dict \n",
    "- fromkeys()-- returns a dict with the specified keys and value\n",
    "- get()-- returns the value of the specified key\n",
    "- pop() -- removes the specifid element \n",
    "- popitem() -- used to remove the last inserted key-value pairs \n",
    "- vaules() -- used to return the list of the values in  the dict\n",
    "\n",
    "# E.g., \n"
   ]
  },
  {
   "cell_type": "code",
   "execution_count": 21,
   "metadata": {},
   "outputs": [
    {
     "data": {
      "text/plain": [
       "{'Kassa': 'B',\n",
       " 'David': 'B',\n",
       " 'Birane': 'A',\n",
       " 'Mic': 'C',\n",
       " 'Tim': 'D',\n",
       " 'Trond': 'F'}"
      ]
     },
     "execution_count": 21,
     "metadata": {},
     "output_type": "execute_result"
    }
   ],
   "source": [
    "course_A = {'Kassa': 'B', 'David': 'B', 'Birane': 'A', 'Mic': 'C', 'Tim':'D', 'Trond': 'F'}\n",
    "course_A"
   ]
  },
  {
   "cell_type": "code",
   "execution_count": 28,
   "metadata": {},
   "outputs": [
    {
     "data": {
      "text/html": [
       "<div>\n",
       "<style scoped>\n",
       "    .dataframe tbody tr th:only-of-type {\n",
       "        vertical-align: middle;\n",
       "    }\n",
       "\n",
       "    .dataframe tbody tr th {\n",
       "        vertical-align: top;\n",
       "    }\n",
       "\n",
       "    .dataframe thead th {\n",
       "        text-align: right;\n",
       "    }\n",
       "</style>\n",
       "<table border=\"1\" class=\"dataframe\">\n",
       "  <thead>\n",
       "    <tr style=\"text-align: right;\">\n",
       "      <th></th>\n",
       "      <th>Name</th>\n",
       "      <th>Grade</th>\n",
       "    </tr>\n",
       "  </thead>\n",
       "  <tbody>\n",
       "    <tr>\n",
       "      <th>0</th>\n",
       "      <td>Kassa</td>\n",
       "      <td>B</td>\n",
       "    </tr>\n",
       "    <tr>\n",
       "      <th>1</th>\n",
       "      <td>David</td>\n",
       "      <td>B</td>\n",
       "    </tr>\n",
       "    <tr>\n",
       "      <th>2</th>\n",
       "      <td>Birane</td>\n",
       "      <td>A</td>\n",
       "    </tr>\n",
       "    <tr>\n",
       "      <th>3</th>\n",
       "      <td>Mic</td>\n",
       "      <td>C</td>\n",
       "    </tr>\n",
       "    <tr>\n",
       "      <th>4</th>\n",
       "      <td>Tim</td>\n",
       "      <td>D</td>\n",
       "    </tr>\n",
       "    <tr>\n",
       "      <th>5</th>\n",
       "      <td>Trond</td>\n",
       "      <td>F</td>\n",
       "    </tr>\n",
       "  </tbody>\n",
       "</table>\n",
       "</div>"
      ],
      "text/plain": [
       "     Name Grade\n",
       "0   Kassa     B\n",
       "1   David     B\n",
       "2  Birane     A\n",
       "3     Mic     C\n",
       "4     Tim     D\n",
       "5   Trond     F"
      ]
     },
     "execution_count": 28,
     "metadata": {},
     "output_type": "execute_result"
    }
   ],
   "source": [
    "import pandas as pd\n",
    "data_fra = pd.DataFrame(list(course_A.items()), columns=['Name', 'Grade'])\n",
    "data_fra"
   ]
  },
  {
   "cell_type": "code",
   "execution_count": 47,
   "metadata": {},
   "outputs": [],
   "source": [
    "# Given a tupe say\n",
    "Name = ['Kassa', 'David', 'Birane', 'Mic', 'Tim', 'Trond']\n",
    "Grade =['B', 'B', 'B', 'C', 'A', 'A']\n",
    "\n",
    "gradrepo ={}\n",
    "for i in range(len(Name)):\n",
    "    a = { Name[i]: Grade[i]}\n",
    "    gradrepo.update(a)"
   ]
  },
  {
   "cell_type": "code",
   "execution_count": 50,
   "metadata": {},
   "outputs": [
    {
     "data": {
      "text/plain": [
       "{'Kassa': 'B',\n",
       " 'David': 'B',\n",
       " 'Birane': 'B',\n",
       " 'Mic': 'C',\n",
       " 'Tim': 'A',\n",
       " 'Trond': 'A'}"
      ]
     },
     "execution_count": 50,
     "metadata": {},
     "output_type": "execute_result"
    }
   ],
   "source": [
    "gradrepo"
   ]
  },
  {
   "cell_type": "code",
   "execution_count": 1,
   "metadata": {},
   "outputs": [
    {
     "name": "stdout",
     "output_type": "stream",
     "text": [
      "['2', '0', '7', '3', '3']\n",
      "20733\n"
     ]
    }
   ],
   "source": [
    "# Get all numeric values\n",
    "\n",
    "x = 'I love 2 go t0 the store 7 times a w33ek'\n",
    "\n",
    "nums = [k for k in x if k.isnumeric()]\n",
    "s = ''.join(nums) # to string\n",
    "print(nums)\n",
    "print(s) "
   ]
  },
  {
   "cell_type": "code",
   "execution_count": 3,
   "metadata": {},
   "outputs": [
    {
     "name": "stdout",
     "output_type": "stream",
     "text": [
      "[1]\n"
     ]
    }
   ],
   "source": [
    "names = ['Cosmo', 'Pedro', 'Anu', 'Kanu', 'Okatcha']\n",
    "\n",
    "index = [k for k, v in enumerate(names) if v == 'Pedro']\n",
    "print(index)"
   ]
  },
  {
   "cell_type": "markdown",
   "metadata": {},
   "source": [
    "# LIFO--stack \n",
    "\n",
    "write a python class that has a push(), pop(), and peek() methods"
   ]
  },
  {
   "cell_type": "code",
   "execution_count": 27,
   "metadata": {},
   "outputs": [],
   "source": [
    "class Stack:\n",
    "    def __init__(self):\n",
    "        self.stack = [] # empty list \n",
    "    def push(self, item):\n",
    "        return self.stack.append(item)\n",
    "         \n",
    "    def pop(self):\n",
    "        if self.stack != []:\n",
    "            return self.stack.pop()\n",
    "        else:\n",
    "            return None\n",
    "    def peek(self):\n",
    "        if len(self.stack) > 0:\n",
    "            return self.stack[len(self.stack)-1]\n",
    "        else:\n",
    "            return \"This is empty stack!\"\n",
    "        \n",
    "    def __str__(self):\n",
    "        return str(self.stack)\n",
    "            \n",
    "                "
   ]
  },
  {
   "cell_type": "code",
   "execution_count": 32,
   "metadata": {},
   "outputs": [
    {
     "name": "stdout",
     "output_type": "stream",
     "text": [
      "[2, [1, 2]]\n"
     ]
    }
   ],
   "source": [
    "stack = Stack()\n",
    "\n",
    "stack.push(2)\n",
    "stack.push([1,2])\n",
    "print(stack)"
   ]
  },
  {
   "cell_type": "code",
   "execution_count": 33,
   "metadata": {},
   "outputs": [
    {
     "name": "stdout",
     "output_type": "stream",
     "text": [
      "[2, [1, 2]]\n"
     ]
    }
   ],
   "source": [
    "print(stack)\n"
   ]
  },
  {
   "cell_type": "code",
   "execution_count": 34,
   "metadata": {},
   "outputs": [
    {
     "name": "stdout",
     "output_type": "stream",
     "text": [
      "[1, 2]\n"
     ]
    }
   ],
   "source": [
    " "
   ]
  },
  {
   "cell_type": "markdown",
   "metadata": {},
   "source": [
    "# MaxHeap function \n",
    "\n",
    "- complete binary tree\n",
    "- every node <= its parent\n",
    "\n",
    "- insert in O(log n)\n",
    "- get max in O(1)\n",
    "- Remove Max in O(log n) --> faster \n",
    "\n",
    "\n",
    "- Easy to impement usinglist\n",
    "- add a value to end of array \n",
    "    - float it up to its proper position\n",
    "    \n",
    "# Oprations\n",
    "\n",
    "- push \n",
    "- delete\n",
    "- pop"
   ]
  },
  {
   "cell_type": "code",
   "execution_count": 35,
   "metadata": {},
   "outputs": [],
   "source": [
    "class MaxHeap:\n",
    "    def __init__(self, items = []):\n",
    "        super().__init__() # \n",
    "        self.heap = [0]\n",
    "        for item in items:\n",
    "            self.heap.append(item)\n",
    "            self.__floatUp(len(self.heap) - 1)\n",
    "            \n",
    "    def push(self, data):\n",
    "        self.heap.append(data)\n",
    "        self.__floatUp(len(self.heap) - 1)\n",
    "    \n",
    "    def peak(self):\n",
    "        if self.heap[1]:\n",
    "            return self.heap[1]\n",
    "        else:\n",
    "            return False\n",
    "        \n",
    "    def pop(self):\n",
    "        if len(self.heap) > 2:\n",
    "            self.__swamp(1, len(self.heap) - 1)\n",
    "            max = self.heap.pop()\n",
    "            self.__bubbleDown(1)\n",
    "        elif len(self.heap) == 2:\n",
    "            max = self.heap.pop()\n",
    "        else:\n",
    "            max = False\n",
    "        return max \n",
    "    \n",
    "    def __swamp(self, i, j):\n",
    "        self.heap[i], self.heap[j] = self.heap[j], self.heap[i]\n",
    "    \n",
    "    def __floatUp(self, ind):\n",
    "        parent = ind // 2\n",
    "        if ind <= 1:\n",
    "            return\n",
    "        elif self.heap[ind] > self.heap[parent]:\n",
    "            self.__swamp(ind, parent)\n",
    "            self.__floatUp(parent)\n",
    "            \n",
    "    def __bubbleDown(self, ind):\n",
    "        left = ind*2 # left child \n",
    "        right = ind*2 + 1\n",
    "        largest = ind\n",
    "        if len(self.heap) > left and self.heap(largest) < self.heap[left]:\n",
    "            largest = left\n",
    "        if len(self.heap)> right and self.heap(largest) < self.heap[right]:\n",
    "            largest = right\n",
    "        if largest != ind:\n",
    "            self.__swamp(ind, largest)\n",
    "            self.__bubbleDown(largest)\n",
    "    \n",
    "    def __str__(self):\n",
    "        return str(self.heap)"
   ]
  },
  {
   "cell_type": "code",
   "execution_count": 37,
   "metadata": {},
   "outputs": [
    {
     "name": "stdout",
     "output_type": "stream",
     "text": [
      "[0, 9, 8, 6, 7, 3, 2, 5, 1, 4]\n"
     ]
    }
   ],
   "source": [
    "m = MaxHeap([1,2,3,4,5,6,7,8,9])\n",
    "print(m)"
   ]
  },
  {
   "cell_type": "markdown",
   "metadata": {},
   "source": [
    "# linked list\n",
    "\n",
    "- Every node has 2 parts \n",
    "\n",
    "- Data and a pointer to \n",
    "\n",
    "# Attributes \n",
    "\n",
    "- root -- pointer to the beginning of the list\n",
    "\n",
    "- root -- number of nodes in list\n",
    "\n",
    "# Oprations\n",
    "\n",
    "- find(data) \n",
    "- add(data) \n",
    "- remove(data)\n",
    "- print_list()"
   ]
  },
  {
   "cell_type": "code",
   "execution_count": 38,
   "metadata": {},
   "outputs": [],
   "source": [
    "class Node:\n",
    "    def __init__(self, d, n = None, p = None):\n",
    "        self.data = d\n",
    "        self.next_node = n\n",
    "        self.prev_node = p\n",
    "    \n",
    "    def __str__(self):\n",
    "        return ('(' + str(self.data) + ')')\n",
    "    \n",
    "# Regular linked list method \n",
    "\n",
    "class LinkedlList:\n",
    "    def __init__(self, r = None):\n",
    "        self.root = r\n",
    "        self.size = 0\n",
    "        \n",
    "    def add(self, d):\n",
    "        new_node = Node(d, self.root)\n",
    "        self.root = new_node\n",
    "        self.size += 1\n",
    "        \n",
    "    def find(self, d):\n",
    "        this_node = self.root\n",
    "        while this_node is not None:\n",
    "            if this_node.data == d:\n",
    "                return d\n",
    "            else:\n",
    "                this_node = this_node.next_node\n",
    "        return None\n",
    "    \n",
    "    def remove(self, d):\n",
    "        this_node = self.root\n",
    "        prev_node = None        \n",
    "        \n",
    "        while this_node is not None:\n",
    "            if this_node.data == d: # found\n",
    "                if prev_node is not None: # data is in \n",
    "                    prev_node.next_node = this_node.next_node\n",
    "                else: # data is in root node\n",
    "                    self.root = this_node.next_node\n",
    "                self.size -= 1\n",
    "                return True # data removed\n",
    "            else:\n",
    "                prev_node = this_node\n",
    "                this_node = this_node.next_node\n",
    "        return False # data not found\n",
    "    \n",
    "    def print_list(self):\n",
    "        this_node = self.root\n",
    "        while this_node is not None:\n",
    "            print(this_node, end='->')\n",
    "            this_node = this_node.next_node\n",
    "        print('None')  "
   ]
  },
  {
   "cell_type": "code",
   "execution_count": 39,
   "metadata": {},
   "outputs": [
    {
     "name": "stdout",
     "output_type": "stream",
     "text": [
      "(12)->(8)->(5)->None\n",
      "size = 3\n",
      "size=2\n",
      "5\n",
      "(12)\n"
     ]
    }
   ],
   "source": [
    "mylist = LinkedlList()\n",
    "mylist.add(5)\n",
    "mylist.add(8)\n",
    "mylist.add(12)\n",
    "mylist.print_list()\n",
    "\n",
    "print('size = ' + str(mylist.size))\n",
    "mylist.remove(8)\n",
    "\n",
    "print('size='+str(mylist.size))\n",
    "\n",
    "print(mylist.find(5))\n",
    "print(mylist.root)"
   ]
  },
  {
   "cell_type": "markdown",
   "metadata": {},
   "source": [
    "# Circular linked list\n",
    "\n",
    "- includes attributes root and size \n",
    "- includes methods such as: add, find, remove, and print_list"
   ]
  },
  {
   "cell_type": "code",
   "execution_count": 40,
   "metadata": {},
   "outputs": [],
   "source": [
    "class CircularLinkedList:\n",
    "    \n",
    "    def __init__(self, r = None):\n",
    "        self.root = r\n",
    "        self.size = 0\n",
    "        \n",
    "    def add(self, d):\n",
    "        if self.size == 0:\n",
    "            self.root = Node(d)\n",
    "            self.root.next_node = self.root\n",
    "        else:\n",
    "            new_node = Node(d, self.root.next_node)\n",
    "            self.root.next_node = new_node\n",
    "        self.size +=  1\n",
    "        \n",
    "    def find(self, d):\n",
    "        this_node = self.root\n",
    "        while True:\n",
    "            if this_node.data == d:\n",
    "                return d\n",
    "            elif this_node.next_node == self.root:\n",
    "                return False\n",
    "            this_node = this_node.next_node\n",
    "            \n",
    "    def remove(self, d):\n",
    "        this_node = self.root\n",
    "        prev_node = None\n",
    "        \n",
    "        while True:\n",
    "            if this_node.data == d:\n",
    "                if prev_node is not None:\n",
    "                    prev_node.next_node = this_node.next_node\n",
    "                else:\n",
    "                    while this_node.next_node != self.root:\n",
    "                        this_node = this_node.next_node\n",
    "                    this_node.next_node = self.root.next_node\n",
    "                    self.root = self.root.next_node\n",
    "                self.size -= 1\n",
    "                return True\n",
    "            elif this_node.next_node == self.root:\n",
    "                return False\n",
    "            prev_node = this_node\n",
    "            this_node = this_node.next_node\n",
    "            \n",
    "        def print_list(self):\n",
    "            if self.root is None:\n",
    "                return\n",
    "            this_node = self.root\n",
    "            print(this_node, end = '->')\n",
    "            while this_node.next_node!= self.root:\n",
    "                this_node = this_node.next_node\n",
    "                print(this_node, end='->')\n",
    "            print()"
   ]
  },
  {
   "cell_type": "code",
   "execution_count": 41,
   "metadata": {},
   "outputs": [
    {
     "name": "stdout",
     "output_type": "stream",
     "text": [
      "size=5\n",
      "8\n",
      "False\n",
      "(5)->(9)->(8)->(3)->(7)->(5)->(9)->(8)->(3)->\n"
     ]
    }
   ],
   "source": [
    "cll = CircularLinkedList()\n",
    "for i in [5,7,3,8,9]:\n",
    "    cll.add(i)\n",
    "    \n",
    "print('size='+str(cll.size))\n",
    "print(cll.find(8))\n",
    "print(cll.find(12))\n",
    "\n",
    "my_node = cll.root\n",
    "print(my_node, end='->')\n",
    "for i in range(8):\n",
    "    my_node = my_node.next_node\n",
    "    print(my_node, end='->')\n",
    "print()"
   ]
  },
  {
   "cell_type": "markdown",
   "metadata": {},
   "source": [
    "# Doubly Linked list "
   ]
  },
  {
   "cell_type": "code",
   "execution_count": 42,
   "metadata": {},
   "outputs": [],
   "source": [
    "class DoublyLinkedList:\n",
    "    def __init__(self, r = None):\n",
    "        self.root = r\n",
    "        self.last = r\n",
    "        self.size = 0\n",
    "        \n",
    "    def add(self, d):\n",
    "        if self.size == 0:\n",
    "            self.root = Node(d)\n",
    "            self.last = self.root\n",
    "        else: \n",
    "            new_node = Node(d, self.root)\n",
    "            self.root.prev_node = new_node\n",
    "            self.root = new_node\n",
    "        self.size += 1\n",
    "        \n",
    "    def find(self, d):\n",
    "        this_node = self.root\n",
    "        while this_node is not None:\n",
    "            if this_node.data == d:\n",
    "                return d\n",
    "            elif this_node.next_node == None:\n",
    "                return False\n",
    "            else:\n",
    "                this_node = this_node.next_node\n",
    "                \n",
    "    def remove(self, d):\n",
    "        this_node = self.root\n",
    "        while this_node is not None:\n",
    "            if this_node.data == d:\n",
    "                if this_node.prev_node is not None: \n",
    "                    if this_node.next_node is not None: # delete the middle\n",
    "                        this_node.prev_node.next_node = this_node.next_node\n",
    "                        this_node.next_node.prev_node = this_node.prev_node\n",
    "                    else:\n",
    "                        this_node.prev_node.next_node = None\n",
    "                        self.last = this_node.prev_node\n",
    "                else:  # delete root node\n",
    "                    self.root = this_node.new_node\n",
    "                    this_node.new_node.prev_node = self.root\n",
    "                self.size -= 1\n",
    "                return True # datta removed \n",
    "            else:\n",
    "                this_node = this_node.next_node\n",
    "        return False # data not found \n",
    "    def print_list(self):\n",
    "        if self.root is None:\n",
    "            return\n",
    "        this_node = self.root\n",
    "        print(this_node, end='->')\n",
    "        while this_node.next_node is not None:\n",
    "            this_node = this_node.next_node\n",
    "            print(this_node, end='->')\n",
    "        print()"
   ]
  },
  {
   "cell_type": "code",
   "execution_count": 43,
   "metadata": {},
   "outputs": [
    {
     "name": "stdout",
     "output_type": "stream",
     "text": [
      "size=5\n",
      "(9)->(8)->(3)->(9)->(5)->\n",
      "size=4\n"
     ]
    }
   ],
   "source": [
    "dll = DoublyLinkedList()\n",
    "for i in [5,9,3,8,9]:\n",
    "    dll.add(i)\n",
    "\n",
    "print('size='+str(dll.size))\n",
    "dll.print_list()\n",
    "dll.remove(8)\n",
    "print('size='+str(dll.size))"
   ]
  },
  {
   "cell_type": "markdown",
   "metadata": {},
   "source": [
    "# XML 1 - Find the Score\n",
    "\n",
    "https://www.hackerrank.com/challenges/xml-1-find-the-score/problem?h_r=next-challenge&h_v=zen&h_r=next-challenge&h_v=zen&h_r=next-challenge&h_v=zen"
   ]
  },
  {
   "cell_type": "code",
   "execution_count": null,
   "metadata": {},
   "outputs": [],
   "source": [
    "import sys\n",
    "import xml.etree.ElementTree as etree\n",
    "\n",
    "def get_attr_number(node):\n",
    "    # your code goes here\n",
    "    #tree = etree.ElementTree(etree.fromstring(node))\n",
    "    return sum([len(elem.items()) for elem in node.iter()])\n",
    "\n",
    "if __name__ == '__main__':\n",
    "    sys.stdin.readline()\n",
    "    xml = sys.stdin.read()\n",
    "    tree = etree.ElementTree(etree.fromstring(xml))\n",
    "    root = tree.getroot()\n",
    "    print(get_attr_number(root))"
   ]
  },
  {
   "cell_type": "markdown",
   "metadata": {},
   "source": [
    "# XML2 - Find the Maximum Depth\n",
    "\n",
    "https://www.hackerrank.com/challenges/xml2-find-the-maximum-depth/problem?h_r=next-challenge&h_v=zen&h_r=next-challenge&h_v=zen&h_r=next-challenge&h_v=zen&h_r=next-challenge&h_v=zen"
   ]
  },
  {
   "cell_type": "code",
   "execution_count": 3,
   "metadata": {},
   "outputs": [],
   "source": [
    "import xml.etree.ElementTree as etree\n",
    "\n",
    "maxdepth = 0\n",
    "def depth(elem, level):\n",
    "    global maxdepth\n",
    "    # your code goes here\n",
    "    level += 1\n",
    "    if level >= maxdepth:\n",
    "        maxdepth = level\n",
    "    for child in elem:\n",
    "        depth(child, level)\n",
    "    return maxdepth\n",
    "\n",
    "if __name__ == '__main__':\n",
    "    n = int(input())\n",
    "    xml = \"\"\n",
    "    for i in range(n):\n",
    "        xml =  xml + input() + \"\\n\"\n",
    "    tree = etree.ElementTree(etree.fromstring(xml))\n",
    "    depth(tree.getroot(), -1)\n",
    "    print(maxdepth)"
   ]
  },
  {
   "cell_type": "code",
   "execution_count": null,
   "metadata": {},
   "outputs": [],
   "source": []
  }
 ],
 "metadata": {
  "kernelspec": {
   "display_name": "Python 3",
   "language": "python",
   "name": "python3"
  },
  "language_info": {
   "codemirror_mode": {
    "name": "ipython",
    "version": 3
   },
   "file_extension": ".py",
   "mimetype": "text/x-python",
   "name": "python",
   "nbconvert_exporter": "python",
   "pygments_lexer": "ipython3",
   "version": "3.6.9"
  }
 },
 "nbformat": 4,
 "nbformat_minor": 2
}
