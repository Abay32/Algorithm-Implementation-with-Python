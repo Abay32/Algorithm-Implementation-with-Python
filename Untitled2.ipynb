{
  "nbformat": 4,
  "nbformat_minor": 0,
  "metadata": {
    "colab": {
      "name": "Untitled2.ipynb",
      "provenance": [],
      "authorship_tag": "ABX9TyN+3TP+NVwn1YJlC+ogcAKc",
      "include_colab_link": true
    },
    "kernelspec": {
      "name": "python3",
      "display_name": "Python 3"
    },
    "language_info": {
      "name": "python"
    }
  },
  "cells": [
    {
      "cell_type": "markdown",
      "metadata": {
        "id": "view-in-github",
        "colab_type": "text"
      },
      "source": [
        "<a href=\"https://colab.research.google.com/github/Abay32/Algorithm-Implementation-with-Python/blob/master/Untitled2.ipynb\" target=\"_parent\"><img src=\"https://colab.research.google.com/assets/colab-badge.svg\" alt=\"Open In Colab\"/></a>"
      ]
    },
    {
      "cell_type": "markdown",
      "source": [
        "# Where to focus a marketing campaign?\n",
        "\n",
        "## 📖 Background\n",
        "You are a data analyst at a crowdfunding site. For the next quarter, your company will be running a marketing campaign. The marketing manager wants to target those segments that have donated the most in the past year. She turned to you to help her with her upcoming meeting with the CEO.\n",
        "\n",
        "## 💪 Challenge\n",
        "Create a **single** visualization that the marketing manager can use to explore the data. Include:\n",
        "\n",
        "1. What are the top three categories in terms of total donations? \n",
        "2. What device type has historically provided the most contributions? \n",
        "3. What age bracket should the campaign target?\n",
        "\n",
        "## 🧑‍⚖️ Judging criteria\n",
        "\n",
        "This is a community-based competition. The top 5 most upvoted entries will win.\n",
        "\n",
        "The winners will receive DataCamp merchandise.\n",
        "\n",
        "## ✅ Checklist before publishing\n",
        "- Rename your workspace to make it descriptive of your work. N.B. you should leave the notebook name as notebook.ipynb.\n",
        "- Remove redundant cells like the judging criteria, so the workbook is focused on your answers.\n",
        "- Check that all the cells run without error."
      ],
      "metadata": {
        "id": "tgbzxOb8pCco"
      }
    },
    {
      "cell_type": "code",
      "execution_count": null,
      "metadata": {
        "id": "KQJXnRpzo5wu"
      },
      "outputs": [],
      "source": [
        "import pandas as pd\n",
        "import plotly.express as px\n",
        "df = pd.read_csv('./data/crowdfunding.csv')\n",
        "df.head()"
      ]
    },
    {
      "cell_type": "markdown",
      "source": [
        "## Task 1: What are the top three categories in terms of total donation"
      ],
      "metadata": {
        "id": "KRUePsq0p_mZ"
      }
    },
    {
      "cell_type": "code",
      "source": [
        "total_dona = df.groupby('category')['amount'].sum().to_frame('total donation').reset_index().sort_values('total donation', ascending = False)\n",
        "top3 = total_dona.iloc[0:3, :]\n",
        "top3"
      ],
      "metadata": {
        "id": "_lRqQhrjp-th"
      },
      "execution_count": null,
      "outputs": []
    },
    {
      "cell_type": "markdown",
      "source": [
        "#Task 2. What device type has historically provided the most contributions?\n"
      ],
      "metadata": {
        "id": "3RD9TCyEqJ7w"
      }
    },
    {
      "cell_type": "code",
      "source": [
        "# Add artificial column that used to count the number of devices in each category\n",
        "df['n_device'] = 1\n",
        "cnt_device = df.groupby('device')['n_device'].count().reset_index()\n",
        "cnt_device"
      ],
      "metadata": {
        "id": "xNd0XymKqO5C"
      },
      "execution_count": null,
      "outputs": []
    },
    {
      "cell_type": "markdown",
      "source": [
        "#Task 3: What age bracket should the campaign target?"
      ],
      "metadata": {
        "id": "YjfByV9rqgm0"
      }
    },
    {
      "cell_type": "code",
      "source": [
        "age_target = df.groupby('age')['amount'].sum().to_frame('total_amount').reset_index()\n",
        "age_target"
      ],
      "metadata": {
        "id": "t9KG_paZqmMr"
      },
      "execution_count": null,
      "outputs": []
    },
    {
      "cell_type": "markdown",
      "source": [
        "# Data visualization"
      ],
      "metadata": {
        "id": "cOoAGGkMqv3m"
      }
    },
    {
      "cell_type": "code",
      "source": [
        "import matplotlib.pyplot as plt\n",
        "import numpy as np\n",
        "import math\n",
        "  \n",
        "# Placing the plots in the plane\n",
        "f, axs = plt.subplots(ncols=3, figsize=(16,8))\n",
        "keys, values = [top3.category, cnt_device.device, age_target.age], [top3['total donation'], cnt_device.n_device, age_target.total_amount]\n",
        "title = ['Top 3 categories', 'Device type', 'Age range']\n",
        "xlabel, ylabel= ['Catergories', 'Device type', 'Age range'], ['Total donation', '# devices', 'Total donation']\n",
        "color = ['g', 'y', 'r']\n",
        "num = [3, 2, 5]\n",
        "for i in range(3):\n",
        "    ax = axs[i]\n",
        "    ax.set_xticks(range(num[i]))\n",
        "    ax.set_xticklabels(keys[i], rotation =56, size = 12)\n",
        "    ax.bar(range(num[i]), values[i], color = color[i])    \n",
        "    ax.set_title(tit[i], fontsize = 20.0)\n",
        "    ax.set_xlabel(xlabel[i], fontsize = 20.0)\n",
        "    ax.set_ylabel(ylabel[i], fontsize = 20.0)\n",
        "    f.tight_layout(pad=3.0)\n",
        "plt.show()\n",
        "plt.savefig('Marketing_campaign.eps')"
      ],
      "metadata": {
        "id": "rC6ZlvYdqq-e"
      },
      "execution_count": null,
      "outputs": []
    }
  ]
}