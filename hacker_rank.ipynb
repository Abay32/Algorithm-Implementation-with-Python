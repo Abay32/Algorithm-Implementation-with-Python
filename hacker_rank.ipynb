{
 "cells": [
  {
   "cell_type": "markdown",
   "metadata": {},
   "source": [
    "# Price down\n",
    "\n",
    "write a python code that cacuates the price of a house \n",
    "\n",
    "A house worths $1M, if the buyer has good credit, the seller need to put down the price by 10%, otherwise they shoud down by 20%"
   ]
  },
  {
   "cell_type": "code",
   "execution_count": 1,
   "metadata": {},
   "outputs": [
    {
     "name": "stdout",
     "output_type": "stream",
     "text": [
      "100000.0\n"
     ]
    }
   ],
   "source": [
    "origina_price = 1e+6\n",
    "good_credit = True\n",
    "\n",
    "if good_credit:\n",
    "    down_payment = origina_price*0.1\n",
    "else:\n",
    "    down_payment = origina_price*0.2\n",
    "print(down_payment)"
   ]
  },
  {
   "cell_type": "markdown",
   "metadata": {},
   "source": [
    "# n-th rare elemen\n",
    "\n",
    "Write a python app that returns the n-th most rare "
   ]
  },
  {
   "cell_type": "code",
   "execution_count": 3,
   "metadata": {},
   "outputs": [
    {
     "name": "stdout",
     "output_type": "stream",
     "text": [
      "4\n"
     ]
    }
   ],
   "source": [
    "import collections\n",
    "def nth_most_rare(elements, n):\n",
    "     \n",
    "    a = [(v, k) for k, v in collections.Counter(elements).items()] # count the number of occurences \n",
    "    sort_tupe = sorted(a, reverse=False)\n",
    "    nth = sort_tupe[n-1][1]\n",
    "\n",
    "    return nth # sorted([(v, k) for k, v in collections.Counter(elements).items()], reverse=False)[n-1][1]\n",
    "\n",
    "\n",
    "print(nth_most_rare([5, 3, 2, 1, 5, 4, 3, 2, 5, 4, 3, 5, 4, 5], 4))"
   ]
  },
  {
   "cell_type": "markdown",
   "metadata": {},
   "source": [
    "# Nested list comprehension \n",
    "\n",
    "You are given three integeres $x,y$ and $z$ representing the dimensions of a cuboid along with an integer $n$. Print a list of all\n",
    "possible coordinates given by a $[i,j,k]$ on a 3D drid where the sum, $i+j+k$ $!=n$"
   ]
  },
  {
   "cell_type": "code",
   "execution_count": 5,
   "metadata": {},
   "outputs": [
    {
     "name": "stdout",
     "output_type": "stream",
     "text": [
      "Give the x dimension: 2\n",
      "Give the y dimension: 2\n",
      "Give the z dimension: 3\n",
      "enter n: 4\n",
      "[[0, 0, 0], [0, 0, 1], [0, 0, 2], [0, 0, 3], [0, 1, 0], [0, 1, 1], [0, 1, 2], [0, 2, 0], [0, 2, 1], [0, 2, 3], [1, 0, 0], [1, 0, 1], [1, 0, 2], [1, 1, 0], [1, 1, 1], [1, 1, 3], [1, 2, 0], [1, 2, 2], [1, 2, 3], [2, 0, 0], [2, 0, 1], [2, 0, 3], [2, 1, 0], [2, 1, 2], [2, 1, 3], [2, 2, 1], [2, 2, 2], [2, 2, 3]]\n"
     ]
    }
   ],
   "source": [
    "def list_of_coordinates(x,y,z, n):\n",
    "    list_xyz = [[i,j,k] for i in range(x+1) for j in range(y+1) for k in range(z+1) if i+j+k != n]\n",
    "    return list_xyz\n",
    "\n",
    "if __name__ == '__main__':\n",
    "    x = int(input('Give the x dimension: '))\n",
    "    y = int(input('Give the y dimension: '))\n",
    "    z = int(input('Give the z dimension: '))\n",
    "    n = int(input('enter n: '))\n",
    "    \n",
    "    list_of_coord = list_of_coordinates(x,y,z,n)\n",
    "    print(list_of_coord)\n"
   ]
  },
  {
   "cell_type": "markdown",
   "metadata": {},
   "source": [
    "# Abstract Classes\n",
    "\n",
    "Abstraction and inheritance in OOP\n",
    "\n",
    "# Task\n",
    "\n",
    "Given a Book class and a Solution class, write a MyBook class that does the following:\n",
    "\n",
    "- Inherits from Book\n",
    "- Has a parameterized constructor taking these parameters:\n",
    "    - string- $title$\n",
    "    - string- $author$\n",
    "    - int- $price$\n",
    "\n",
    "Implements the Book class' abstract display() method so it prints these lines:\n",
    "\n",
    "- Title:, a space, and then the current instance's\n",
    "- Author:, a space, and then the current instance's\n",
    "- Price: a space, and then the current instance's \n",
    "\n",
    "Input Format\n",
    "\n",
    "You are not responsible for reading any input from stdin. \n",
    "The Solution class creates a Book object and calls the MyBook class constructor (passing it the necessary arguments). \n",
    "It then calls the display method on the Book object."
   ]
  },
  {
   "cell_type": "code",
   "execution_count": null,
   "metadata": {},
   "outputs": [],
   "source": []
  },
  {
   "cell_type": "markdown",
   "metadata": {},
   "source": [
    "# Email address checker"
   ]
  },
  {
   "cell_type": "code",
   "execution_count": 7,
   "metadata": {},
   "outputs": [
    {
     "ename": "KeyboardInterrupt",
     "evalue": "Interrupted by user",
     "output_type": "error",
     "traceback": [
      "\u001b[0;31m---------------------------------------------------------------------------\u001b[0m",
      "\u001b[0;31mKeyboardInterrupt\u001b[0m                         Traceback (most recent call last)",
      "\u001b[0;32m<ipython-input-7-88feb17804e9>\u001b[0m in \u001b[0;36m<module>\u001b[0;34m\u001b[0m\n\u001b[1;32m      3\u001b[0m \u001b[0;32mimport\u001b[0m \u001b[0mre\u001b[0m\u001b[0;34m\u001b[0m\u001b[0;34m\u001b[0m\u001b[0m\n\u001b[1;32m      4\u001b[0m \u001b[0;34m\u001b[0m\u001b[0m\n\u001b[0;32m----> 5\u001b[0;31m \u001b[0mn\u001b[0m \u001b[0;34m=\u001b[0m \u001b[0mint\u001b[0m\u001b[0;34m(\u001b[0m\u001b[0minput\u001b[0m\u001b[0;34m(\u001b[0m\u001b[0;34m)\u001b[0m\u001b[0;34m)\u001b[0m\u001b[0;34m\u001b[0m\u001b[0;34m\u001b[0m\u001b[0m\n\u001b[0m\u001b[1;32m      6\u001b[0m \u001b[0;32mfor\u001b[0m \u001b[0mi\u001b[0m \u001b[0;32min\u001b[0m \u001b[0mrange\u001b[0m\u001b[0;34m(\u001b[0m\u001b[0mn\u001b[0m\u001b[0;34m)\u001b[0m\u001b[0;34m:\u001b[0m\u001b[0;34m\u001b[0m\u001b[0;34m\u001b[0m\u001b[0m\n\u001b[1;32m      7\u001b[0m     \u001b[0mName\u001b[0m\u001b[0;34m,\u001b[0m \u001b[0mEmail\u001b[0m \u001b[0;34m=\u001b[0m \u001b[0minput\u001b[0m\u001b[0;34m(\u001b[0m\u001b[0;34m)\u001b[0m\u001b[0;34m.\u001b[0m\u001b[0msplit\u001b[0m\u001b[0;34m(\u001b[0m\u001b[0;34m' '\u001b[0m\u001b[0;34m)\u001b[0m\u001b[0;34m\u001b[0m\u001b[0;34m\u001b[0m\u001b[0m\n",
      "\u001b[0;32m~/.local/lib/python3.6/site-packages/ipykernel/kernelbase.py\u001b[0m in \u001b[0;36mraw_input\u001b[0;34m(self, prompt)\u001b[0m\n\u001b[1;32m    858\u001b[0m             \u001b[0mself\u001b[0m\u001b[0;34m.\u001b[0m\u001b[0m_parent_ident\u001b[0m\u001b[0;34m,\u001b[0m\u001b[0;34m\u001b[0m\u001b[0;34m\u001b[0m\u001b[0m\n\u001b[1;32m    859\u001b[0m             \u001b[0mself\u001b[0m\u001b[0;34m.\u001b[0m\u001b[0m_parent_header\u001b[0m\u001b[0;34m,\u001b[0m\u001b[0;34m\u001b[0m\u001b[0;34m\u001b[0m\u001b[0m\n\u001b[0;32m--> 860\u001b[0;31m             \u001b[0mpassword\u001b[0m\u001b[0;34m=\u001b[0m\u001b[0;32mFalse\u001b[0m\u001b[0;34m,\u001b[0m\u001b[0;34m\u001b[0m\u001b[0;34m\u001b[0m\u001b[0m\n\u001b[0m\u001b[1;32m    861\u001b[0m         )\n\u001b[1;32m    862\u001b[0m \u001b[0;34m\u001b[0m\u001b[0m\n",
      "\u001b[0;32m~/.local/lib/python3.6/site-packages/ipykernel/kernelbase.py\u001b[0m in \u001b[0;36m_input_request\u001b[0;34m(self, prompt, ident, parent, password)\u001b[0m\n\u001b[1;32m    899\u001b[0m             \u001b[0;32mexcept\u001b[0m \u001b[0mKeyboardInterrupt\u001b[0m\u001b[0;34m:\u001b[0m\u001b[0;34m\u001b[0m\u001b[0;34m\u001b[0m\u001b[0m\n\u001b[1;32m    900\u001b[0m                 \u001b[0;31m# re-raise KeyboardInterrupt, to truncate traceback\u001b[0m\u001b[0;34m\u001b[0m\u001b[0;34m\u001b[0m\u001b[0;34m\u001b[0m\u001b[0m\n\u001b[0;32m--> 901\u001b[0;31m                 \u001b[0;32mraise\u001b[0m \u001b[0mKeyboardInterrupt\u001b[0m\u001b[0;34m(\u001b[0m\u001b[0;34m\"Interrupted by user\"\u001b[0m\u001b[0;34m)\u001b[0m \u001b[0;32mfrom\u001b[0m \u001b[0;32mNone\u001b[0m\u001b[0;34m\u001b[0m\u001b[0;34m\u001b[0m\u001b[0m\n\u001b[0m\u001b[1;32m    902\u001b[0m             \u001b[0;32mexcept\u001b[0m \u001b[0mException\u001b[0m \u001b[0;32mas\u001b[0m \u001b[0me\u001b[0m\u001b[0;34m:\u001b[0m\u001b[0;34m\u001b[0m\u001b[0;34m\u001b[0m\u001b[0m\n\u001b[1;32m    903\u001b[0m                 \u001b[0mself\u001b[0m\u001b[0;34m.\u001b[0m\u001b[0mlog\u001b[0m\u001b[0;34m.\u001b[0m\u001b[0mwarning\u001b[0m\u001b[0;34m(\u001b[0m\u001b[0;34m\"Invalid Message:\"\u001b[0m\u001b[0;34m,\u001b[0m \u001b[0mexc_info\u001b[0m\u001b[0;34m=\u001b[0m\u001b[0;32mTrue\u001b[0m\u001b[0;34m)\u001b[0m\u001b[0;34m\u001b[0m\u001b[0;34m\u001b[0m\u001b[0m\n",
      "\u001b[0;31mKeyboardInterrupt\u001b[0m: Interrupted by user"
     ]
    }
   ],
   "source": [
    " # Enter your code here. Read input from STDIN. Print output to STDOUT\n",
    "import re\n",
    "\n",
    "n = int(input())\n",
    "for i in range(n):\n",
    "    Name, Email = input().split(' ')\n",
    "    m = re.match(r'<[A-Za-z](\\w|-|\\.|_)+@[A-Za-z]+\\.[A-Za-z]{1,3}>', Email)\n",
    "    if m:\n",
    "        print(Name,Email)"
   ]
  },
  {
   "cell_type": "code",
   "execution_count": null,
   "metadata": {},
   "outputs": [],
   "source": [
    "#CSS colors are defined using a hexadecimal (HEX) notation for the combination of \n",
    "#Red, Green, and Blue color values (RGB). \n",
    "#Specifications of HEX Color Code\n",
    "\n",
    "# Enter your code here. Read input from STDIN. Print output to STDOUT\n",
    "import re\n",
    "n = int(input())\n",
    "for i in range(n):\n",
    "    #name, color = input().split(' ')\n",
    "    match = re.findall(r':?.(#[0-9a-fA-F]{6}|#[0-9a-fA-F]{3})', input())\n",
    "    if match:\n",
    "        print(*match, sep='\\n')\n",
    "    "
   ]
  },
  {
   "cell_type": "code",
   "execution_count": null,
   "metadata": {},
   "outputs": [],
   "source": [
    "# Average function\n",
    "\n",
    "#!/bin/python3\n",
    "\n",
    "import math\n",
    "import os\n",
    "import random\n",
    "import re\n",
    "import sys\n",
    "\n",
    "\n",
    "# write your code here\n",
    "def avg(*nums):\n",
    "    #n = list(input())\n",
    "    add=0\n",
    "    for i in nums:\n",
    "        add += i\n",
    "        \n",
    "    return add/len(nums)\n",
    "    \n",
    "if __name__ == '__main__':\n",
    "    fptr = open(os.environ['OUTPUT_PATH'], 'w')\n",
    "    \n",
    "    nums = list(map(int, input().split()))\n",
    "    res = avg(*nums)\n",
    "    \n",
    "    fptr.write('%.2f' % res + '\\n')"
   ]
  },
  {
   "cell_type": "code",
   "execution_count": 1,
   "metadata": {},
   "outputs": [],
   "source": [
    "def print_out(self):\n",
    "    return 'Car with the maximum speed of' ' '.join(self)"
   ]
  },
  {
   "cell_type": "code",
   "execution_count": 3,
   "metadata": {},
   "outputs": [
    {
     "data": {
      "text/plain": [
       "'aCar with the maximum speed of bCar with the maximum speed of aCar with the maximum speed of y'"
      ]
     },
     "execution_count": 3,
     "metadata": {},
     "output_type": "execute_result"
    }
   ],
   "source": [
    "print_out('abay')"
   ]
  },
  {
   "cell_type": "code",
   "execution_count": 5,
   "metadata": {},
   "outputs": [
    {
     "name": "stdout",
     "output_type": "stream",
     "text": [
      "Abay\n",
      "Stuart 6\n"
     ]
    }
   ],
   "source": [
    "# Count of words starting with consonant and voul \n",
    "    \n",
    "    \n",
    "def minion_game(string):\n",
    "    # your code goes here\n",
    "    s = string\n",
    "    player2 = 0\n",
    "    player1 = 0\n",
    "    Voul = 'AEIOU'\n",
    "    for i in range(len(s)):\n",
    "        if s[i] in Voul:\n",
    "            player2 += len(s) - i\n",
    "        else:\n",
    "            player1 += len(s) - i\n",
    "    \n",
    "    if player1 > player2:\n",
    "        print(f'Stuart {player1}')\n",
    "    elif player1 < player2:\n",
    "        print(f'Kevin {player2}')\n",
    "    else:\n",
    "        print('Daraw')\n",
    "                \n",
    "\n",
    "if __name__ == '__main__':\n",
    "    s = input()\n",
    "    minion_game(s)"
   ]
  },
  {
   "cell_type": "markdown",
   "metadata": {},
   "source": [
    "# string segmentations"
   ]
  },
  {
   "cell_type": "code",
   "execution_count": 4,
   "metadata": {},
   "outputs": [
    {
     "name": "stdout",
     "output_type": "stream",
     "text": [
      "Abay Mojja\n",
      "2\n",
      "Ab\n",
      "ay\n",
      " M\n",
      "oj\n",
      "ja\n"
     ]
    }
   ],
   "source": [
    "\n",
    "def merge_the_tools(string, k):\n",
    "    # your code goes here\n",
    "    n = len(string)\n",
    "    seg  = int(n/k)\n",
    "    for i in range(seg):\n",
    "        u = ''\n",
    "        t = string[i*k:(i+1)*k]\n",
    "        for letter in t:\n",
    "            if letter not in u:\n",
    "                u+=letter\n",
    "                \n",
    "        print(u)\n",
    "        \n",
    "\n",
    "if __name__ == '__main__':\n",
    "    string, k = input(), int(input())\n",
    "    merge_the_tools(string, k)"
   ]
  },
  {
   "cell_type": "code",
   "execution_count": 2,
   "metadata": {},
   "outputs": [],
   "source": [
    "import string \n",
    "a = list(string.ascii_lowercase)"
   ]
  },
  {
   "cell_type": "markdown",
   "metadata": {},
   "source": [
    "# Alohabet Rangoli\n"
   ]
  },
  {
   "cell_type": "code",
   "execution_count": 6,
   "metadata": {},
   "outputs": [
    {
     "name": "stdout",
     "output_type": "stream",
     "text": [
      "5\n",
      "--------e--------\n",
      "------e-d-e------\n",
      "----e-d-c-d-e----\n",
      "--e-d-c-b-c-d-e--\n",
      "e-d-c-b-a-b-c-d-e\n",
      "--e-d-c-b-c-d-e--\n",
      "----e-d-c-d-e----\n",
      "------e-d-e------\n",
      "--------e--------\n"
     ]
    }
   ],
   "source": [
    "\n",
    "def print_rangoli(size):\n",
    "    # your code goes here\n",
    "    alphabet = 'abcdefghijklmnopqrstuvwxyz'\n",
    "    n = size\n",
    "    part_alphabet = [alphabet[i] for i in range(n)]\n",
    "    index = list(range(n))\n",
    "    index = index[:n-1] + index[::-1]\n",
    "    \n",
    "    for i in index:\n",
    "        item = part_alphabet[-(i+1):]\n",
    "        temp = item[::-1] + item[1:]\n",
    "        print('-'.join(temp).center(n*4-3, '-'))\n",
    "\n",
    "if __name__ == '__main__':\n",
    "    n = int(input())\n",
    "    print_rangoli(n)"
   ]
  },
  {
   "cell_type": "markdown",
   "metadata": {},
   "source": [
    "# Checking the name and capitalization "
   ]
  },
  {
   "cell_type": "code",
   "execution_count": 1,
   "metadata": {},
   "outputs": [
    {
     "ename": "KeyError",
     "evalue": "'OUTPUT_PATH'",
     "output_type": "error",
     "traceback": [
      "\u001b[0;31m---------------------------------------------------------------------------\u001b[0m",
      "\u001b[0;31mKeyError\u001b[0m                                  Traceback (most recent call last)",
      "\u001b[0;32m<ipython-input-1-bb07fe2b2b67>\u001b[0m in \u001b[0;36m<module>\u001b[0;34m()\u001b[0m\n\u001b[1;32m     17\u001b[0m \u001b[0;34m\u001b[0m\u001b[0m\n\u001b[1;32m     18\u001b[0m \u001b[0;32mif\u001b[0m \u001b[0m__name__\u001b[0m \u001b[0;34m==\u001b[0m \u001b[0;34m'__main__'\u001b[0m\u001b[0;34m:\u001b[0m\u001b[0;34m\u001b[0m\u001b[0;34m\u001b[0m\u001b[0m\n\u001b[0;32m---> 19\u001b[0;31m     \u001b[0mfptr\u001b[0m \u001b[0;34m=\u001b[0m \u001b[0mopen\u001b[0m\u001b[0;34m(\u001b[0m\u001b[0mos\u001b[0m\u001b[0;34m.\u001b[0m\u001b[0menviron\u001b[0m\u001b[0;34m[\u001b[0m\u001b[0;34m'OUTPUT_PATH'\u001b[0m\u001b[0;34m]\u001b[0m\u001b[0;34m,\u001b[0m \u001b[0;34m'w'\u001b[0m\u001b[0;34m)\u001b[0m\u001b[0;34m\u001b[0m\u001b[0;34m\u001b[0m\u001b[0m\n\u001b[0m\u001b[1;32m     20\u001b[0m \u001b[0;34m\u001b[0m\u001b[0m\n\u001b[1;32m     21\u001b[0m     \u001b[0ms\u001b[0m \u001b[0;34m=\u001b[0m \u001b[0minput\u001b[0m\u001b[0;34m(\u001b[0m\u001b[0;34m)\u001b[0m\u001b[0;34m\u001b[0m\u001b[0;34m\u001b[0m\u001b[0m\n",
      "\u001b[0;32m/usr/lib/python3.6/os.py\u001b[0m in \u001b[0;36m__getitem__\u001b[0;34m(self, key)\u001b[0m\n\u001b[1;32m    667\u001b[0m         \u001b[0;32mexcept\u001b[0m \u001b[0mKeyError\u001b[0m\u001b[0;34m:\u001b[0m\u001b[0;34m\u001b[0m\u001b[0;34m\u001b[0m\u001b[0m\n\u001b[1;32m    668\u001b[0m             \u001b[0;31m# raise KeyError with the original key value\u001b[0m\u001b[0;34m\u001b[0m\u001b[0;34m\u001b[0m\u001b[0;34m\u001b[0m\u001b[0m\n\u001b[0;32m--> 669\u001b[0;31m             \u001b[0;32mraise\u001b[0m \u001b[0mKeyError\u001b[0m\u001b[0;34m(\u001b[0m\u001b[0mkey\u001b[0m\u001b[0;34m)\u001b[0m \u001b[0;32mfrom\u001b[0m \u001b[0;32mNone\u001b[0m\u001b[0;34m\u001b[0m\u001b[0;34m\u001b[0m\u001b[0m\n\u001b[0m\u001b[1;32m    670\u001b[0m         \u001b[0;32mreturn\u001b[0m \u001b[0mself\u001b[0m\u001b[0;34m.\u001b[0m\u001b[0mdecodevalue\u001b[0m\u001b[0;34m(\u001b[0m\u001b[0mvalue\u001b[0m\u001b[0;34m)\u001b[0m\u001b[0;34m\u001b[0m\u001b[0;34m\u001b[0m\u001b[0m\n\u001b[1;32m    671\u001b[0m \u001b[0;34m\u001b[0m\u001b[0m\n",
      "\u001b[0;31mKeyError\u001b[0m: 'OUTPUT_PATH'"
     ]
    }
   ],
   "source": [
    "#!/bin/python3\n",
    "\n",
    "import math\n",
    "import os\n",
    "import random\n",
    "import re\n",
    "import sys\n",
    "\n",
    "# Complete the solve function below.\n",
    "def solve(s):\n",
    "    list_words = s.split(' ')\n",
    "    Modefied_nmae = ''\n",
    "    for item in list_words:\n",
    "        Modefied_nmae += item.capitalize() + ' '\n",
    "    return Modefied_nmae\n",
    "\n",
    "if __name__ == '__main__':\n",
    "    fptr = open(os.environ['OUTPUT_PATH'], 'w')\n",
    "\n",
    "    s = input()\n",
    "\n",
    "    result = solve(s)\n",
    "\n",
    "    fptr.write(result + '\\n')\n",
    "\n",
    "    fptr.close()"
   ]
  },
  {
   "cell_type": "markdown",
   "metadata": {},
   "source": [
    "# Validating Email Addresses With a Filter\n"
   ]
  },
  {
   "cell_type": "code",
   "execution_count": 15,
   "metadata": {},
   "outputs": [
    {
     "name": "stdout",
     "output_type": "stream",
     "text": [
      "Abay\n"
     ]
    },
    {
     "ename": "ValueError",
     "evalue": "invalid literal for int() with base 10: 'Abay'",
     "output_type": "error",
     "traceback": [
      "\u001b[0;31m---------------------------------------------------------------------------\u001b[0m",
      "\u001b[0;31mValueError\u001b[0m                                Traceback (most recent call last)",
      "\u001b[0;32m<ipython-input-15-0d56f8b02613>\u001b[0m in \u001b[0;36m<module>\u001b[0;34m()\u001b[0m\n\u001b[1;32m     18\u001b[0m \u001b[0;34m\u001b[0m\u001b[0m\n\u001b[1;32m     19\u001b[0m \u001b[0;32mif\u001b[0m \u001b[0m__name__\u001b[0m \u001b[0;34m==\u001b[0m \u001b[0;34m'__main__'\u001b[0m\u001b[0;34m:\u001b[0m\u001b[0;34m\u001b[0m\u001b[0;34m\u001b[0m\u001b[0m\n\u001b[0;32m---> 20\u001b[0;31m     \u001b[0mn\u001b[0m \u001b[0;34m=\u001b[0m \u001b[0mint\u001b[0m\u001b[0;34m(\u001b[0m\u001b[0minput\u001b[0m\u001b[0;34m(\u001b[0m\u001b[0;34m)\u001b[0m\u001b[0;34m)\u001b[0m\u001b[0;34m\u001b[0m\u001b[0;34m\u001b[0m\u001b[0m\n\u001b[0m\u001b[1;32m     21\u001b[0m     \u001b[0memails\u001b[0m \u001b[0;34m=\u001b[0m \u001b[0;34m[\u001b[0m\u001b[0;34m]\u001b[0m\u001b[0;34m\u001b[0m\u001b[0;34m\u001b[0m\u001b[0m\n\u001b[1;32m     22\u001b[0m     \u001b[0;32mfor\u001b[0m \u001b[0m_\u001b[0m \u001b[0;32min\u001b[0m \u001b[0mrange\u001b[0m\u001b[0;34m(\u001b[0m\u001b[0mn\u001b[0m\u001b[0;34m)\u001b[0m\u001b[0;34m:\u001b[0m\u001b[0;34m\u001b[0m\u001b[0;34m\u001b[0m\u001b[0m\n",
      "\u001b[0;31mValueError\u001b[0m: invalid literal for int() with base 10: 'Abay'"
     ]
    }
   ],
   "source": [
    "\n",
    "import re\n",
    "def fun(s):\n",
    "    # return True if s is a valid email, else return False\n",
    "    # s = s.split(' ')\n",
    "    \"\"\" for i in s:\n",
    "        Email = i\n",
    "        m = re.match(r'<[A-Za-z](\\w|-|\\.|_)+@[A-Za-z]+\\.[A-Za-z]{1,3}>', Email)\n",
    "        if m: \n",
    "            return True\n",
    "        else:       \n",
    "            return False\"\"\"\n",
    "    p = re.compile(\"^[\\\\w-]+@[0-9a-zA-Z]+\\\\.[a-z]{1,3}$\")\n",
    "    return p.match(s)\n",
    "\n",
    "def filter_mail(emails):\n",
    "    return list(filter(fun, emails))\n",
    "\n",
    "if __name__ == '__main__':\n",
    "    n = int(input())\n",
    "    emails = []\n",
    "    for _ in range(n):\n",
    "        emails.append(input())\n",
    "\n",
    "filtered_emails = filter_mail(emails)\n",
    "filtered_emails.sort()\n",
    "print(filtered_emails)"
   ]
  },
  {
   "cell_type": "code",
   "execution_count": 26,
   "metadata": {},
   "outputs": [],
   "source": [
    "# Reduce Function\n",
    "\n",
    "from fractions import Fraction\n",
    "from functools import reduce\n",
    "from operator import mul\n",
    "def product(fracs):\n",
    "    t = reduce(mul, fracs)# complete this line with a reduce statement\n",
    "    return t.numerator, t.denominator\n",
    "\n",
    "if __name__ == '__main__':\n",
    "    fracs = []\n",
    "    for _ in range(int(input())):\n",
    "        fracs.append(Fraction(*map(int, input().split())))\n",
    "    result = product(fracs)\n",
    "    print(*result)"
   ]
  },
  {
   "cell_type": "code",
   "execution_count": 48,
   "metadata": {},
   "outputs": [
    {
     "name": "stdout",
     "output_type": "stream",
     "text": [
      "\n"
     ]
    },
    {
     "ename": "ValueError",
     "evalue": "invalid literal for int() with base 10: ''",
     "output_type": "error",
     "traceback": [
      "\u001b[0;31m---------------------------------------------------------------------------\u001b[0m",
      "\u001b[0;31mValueError\u001b[0m                                Traceback (most recent call last)",
      "\u001b[0;32m<ipython-input-48-4a8c2b02c22e>\u001b[0m in \u001b[0;36m<module>\u001b[0;34m\u001b[0m\n\u001b[1;32m      1\u001b[0m \u001b[0;32mimport\u001b[0m \u001b[0mnumpy\u001b[0m \u001b[0;32mas\u001b[0m \u001b[0mnp\u001b[0m\u001b[0;34m\u001b[0m\u001b[0;34m\u001b[0m\u001b[0m\n\u001b[0;32m----> 2\u001b[0;31m \u001b[0mn\u001b[0m \u001b[0;34m=\u001b[0m \u001b[0mint\u001b[0m\u001b[0;34m(\u001b[0m\u001b[0minput\u001b[0m\u001b[0;34m(\u001b[0m\u001b[0;34m)\u001b[0m\u001b[0;34m)\u001b[0m\u001b[0;34m\u001b[0m\u001b[0;34m\u001b[0m\u001b[0m\n\u001b[0m\u001b[1;32m      3\u001b[0m \u001b[0marray_1\u001b[0m \u001b[0;34m=\u001b[0m \u001b[0mnp\u001b[0m\u001b[0;34m.\u001b[0m\u001b[0marray\u001b[0m\u001b[0;34m(\u001b[0m\u001b[0;34m[\u001b[0m\u001b[0mlist\u001b[0m\u001b[0;34m(\u001b[0m\u001b[0mmap\u001b[0m\u001b[0;34m(\u001b[0m\u001b[0mint\u001b[0m\u001b[0;34m,\u001b[0m \u001b[0minput\u001b[0m\u001b[0;34m(\u001b[0m\u001b[0;34m)\u001b[0m\u001b[0;34m.\u001b[0m\u001b[0msplit\u001b[0m\u001b[0;34m(\u001b[0m\u001b[0;34m)\u001b[0m\u001b[0;34m)\u001b[0m\u001b[0;34m)\u001b[0m \u001b[0;32mfor\u001b[0m \u001b[0m_\u001b[0m \u001b[0;32min\u001b[0m \u001b[0mrange\u001b[0m\u001b[0;34m(\u001b[0m\u001b[0;36m2\u001b[0m\u001b[0;34m)\u001b[0m\u001b[0;34m]\u001b[0m\u001b[0;34m)\u001b[0m\u001b[0;34m\u001b[0m\u001b[0;34m\u001b[0m\u001b[0m\n\u001b[1;32m      4\u001b[0m \u001b[0marray_2\u001b[0m \u001b[0;34m=\u001b[0m \u001b[0mnp\u001b[0m\u001b[0;34m.\u001b[0m\u001b[0marray\u001b[0m\u001b[0;34m(\u001b[0m\u001b[0;34m[\u001b[0m\u001b[0mlist\u001b[0m\u001b[0;34m(\u001b[0m\u001b[0mmap\u001b[0m\u001b[0;34m(\u001b[0m\u001b[0mint\u001b[0m\u001b[0;34m,\u001b[0m \u001b[0minput\u001b[0m\u001b[0;34m(\u001b[0m\u001b[0;34m)\u001b[0m\u001b[0;34m.\u001b[0m\u001b[0msplit\u001b[0m\u001b[0;34m(\u001b[0m\u001b[0;34m)\u001b[0m\u001b[0;34m)\u001b[0m\u001b[0;34m)\u001b[0m \u001b[0;32mfor\u001b[0m \u001b[0m_\u001b[0m \u001b[0;32min\u001b[0m \u001b[0mrange\u001b[0m\u001b[0;34m(\u001b[0m\u001b[0;36m2\u001b[0m\u001b[0;34m)\u001b[0m\u001b[0;34m]\u001b[0m\u001b[0;34m)\u001b[0m\u001b[0;34m\u001b[0m\u001b[0;34m\u001b[0m\u001b[0m\n\u001b[1;32m      5\u001b[0m \u001b[0mprod\u001b[0m \u001b[0;34m=\u001b[0m \u001b[0mnp\u001b[0m\u001b[0;34m.\u001b[0m\u001b[0mdot\u001b[0m\u001b[0;34m(\u001b[0m\u001b[0marray_1\u001b[0m\u001b[0;34m,\u001b[0m \u001b[0marray_2\u001b[0m\u001b[0;34m)\u001b[0m\u001b[0;34m\u001b[0m\u001b[0;34m\u001b[0m\u001b[0m\n",
      "\u001b[0;31mValueError\u001b[0m: invalid literal for int() with base 10: ''"
     ]
    }
   ],
   "source": [
    "# Dot and cross product \n",
    "\n",
    "import numpy as np\n",
    "n = int(input())\n",
    "array_1 = np.array([list(map(int, input().split())) for _ in range(2)])\n",
    "array_2 = np.array([list(map(int, input().split())) for _ in range(2)])\n",
    "prod = np.dot(array_1, array_2)\n",
    "print(prod) "
   ]
  },
  {
   "cell_type": "code",
   "execution_count": null,
   "metadata": {},
   "outputs": [],
   "source": [
    "# Inner and outer product \n",
    "import numpy as np\n",
    "\n",
    "#n = int(input())\n",
    " \n",
    "\n",
    "A = np.array(input().split(), int)\n",
    "B = np.array(input().split(), int)\n",
    "\n",
    "\n",
    "inner_product = np.inner(A,B)\n",
    "outer_product = np.outer(A,B)\n",
    "\n",
    "print(inner_product, outer_product, sep='\\n')"
   ]
  },
  {
   "cell_type": "code",
   "execution_count": null,
   "metadata": {},
   "outputs": [],
   "source": [
    "# polynomial evaluation \n",
    "\n",
    "import numpy as np\n",
    "\n",
    "coef = list(map(float, input().split()))\n",
    "\n",
    "print(np.polyval(coef, int(input())))\n"
   ]
  },
  {
   "cell_type": "code",
   "execution_count": 49,
   "metadata": {},
   "outputs": [
    {
     "name": "stdout",
     "output_type": "stream",
     "text": [
      "\n"
     ]
    },
    {
     "ename": "ValueError",
     "evalue": "invalid literal for int() with base 10: ''",
     "output_type": "error",
     "traceback": [
      "\u001b[0;31m---------------------------------------------------------------------------\u001b[0m",
      "\u001b[0;31mValueError\u001b[0m                                Traceback (most recent call last)",
      "\u001b[0;32m<ipython-input-49-e9c737aef067>\u001b[0m in \u001b[0;36m<module>\u001b[0;34m\u001b[0m\n\u001b[1;32m      6\u001b[0m \u001b[0;32mimport\u001b[0m \u001b[0mnumpy\u001b[0m \u001b[0;32mas\u001b[0m \u001b[0mnp\u001b[0m\u001b[0;34m\u001b[0m\u001b[0;34m\u001b[0m\u001b[0m\n\u001b[1;32m      7\u001b[0m \u001b[0;34m\u001b[0m\u001b[0m\n\u001b[0;32m----> 8\u001b[0;31m \u001b[0marra\u001b[0m \u001b[0;34m=\u001b[0m \u001b[0mnp\u001b[0m\u001b[0;34m.\u001b[0m\u001b[0marray\u001b[0m\u001b[0;34m(\u001b[0m\u001b[0;34m[\u001b[0m\u001b[0mlist\u001b[0m\u001b[0;34m(\u001b[0m\u001b[0mmap\u001b[0m\u001b[0;34m(\u001b[0m\u001b[0mfloat\u001b[0m\u001b[0;34m,\u001b[0m \u001b[0minput\u001b[0m\u001b[0;34m(\u001b[0m\u001b[0;34m)\u001b[0m\u001b[0;34m.\u001b[0m\u001b[0msplit\u001b[0m\u001b[0;34m(\u001b[0m\u001b[0;34m)\u001b[0m\u001b[0;34m)\u001b[0m\u001b[0;34m)\u001b[0m \u001b[0;32mfor\u001b[0m \u001b[0m_\u001b[0m \u001b[0;32min\u001b[0m \u001b[0mrange\u001b[0m\u001b[0;34m(\u001b[0m\u001b[0mint\u001b[0m\u001b[0;34m(\u001b[0m\u001b[0minput\u001b[0m\u001b[0;34m(\u001b[0m\u001b[0;34m)\u001b[0m\u001b[0;34m)\u001b[0m\u001b[0;34m)\u001b[0m\u001b[0;34m]\u001b[0m\u001b[0;34m)\u001b[0m\u001b[0;34m\u001b[0m\u001b[0;34m\u001b[0m\u001b[0m\n\u001b[0m\u001b[1;32m      9\u001b[0m \u001b[0;34m\u001b[0m\u001b[0m\n\u001b[1;32m     10\u001b[0m \u001b[0mdet\u001b[0m \u001b[0;34m=\u001b[0m \u001b[0mnp\u001b[0m\u001b[0;34m.\u001b[0m\u001b[0mlinalg\u001b[0m\u001b[0;34m.\u001b[0m\u001b[0mdet\u001b[0m\u001b[0;34m(\u001b[0m\u001b[0marra\u001b[0m\u001b[0;34m)\u001b[0m\u001b[0;34m\u001b[0m\u001b[0;34m\u001b[0m\u001b[0m\n",
      "\u001b[0;31mValueError\u001b[0m: invalid literal for int() with base 10: ''"
     ]
    }
   ],
   "source": [
    "#Linear algebra \n",
    "# functions numpy.linalg.det() determinant\n",
    "# function eigen_vect, eigen_value = numpy.linalg.eig() \n",
    "\n",
    "import numpy as np\n",
    "\n",
    "arra = np.array([list(map(float, input().split())) for _ in range(int(input()))])\n",
    "\n",
    "det = np.linalg.det(arra)\n",
    "print(det)\n"
   ]
  },
  {
   "cell_type": "code",
   "execution_count": 51,
   "metadata": {},
   "outputs": [
    {
     "data": {
      "text/plain": [
       "9"
      ]
     },
     "execution_count": 51,
     "metadata": {},
     "output_type": "execute_result"
    }
   ],
   "source": [
    "# A python regex to validate roman numerals\n",
    "\n",
    "thousand = \"(?:(M){0,3})?\"\n",
    "hundred  = \"(?:(D?(C){0,3})|(CM)|(CD))?\"\n",
    "ten      = \"(?:(L?(X){0,3})|(XC)|(XL))?\"\n",
    "unit     = \"(?:(V?(I){0,3})|(IX)|(IV))?\"\n",
    "\n",
    "regex_pattern = r\"^\" + thousand + hundred + ten + unit + \"$\"\n",
    "\n",
    "import re\n",
    "print(str(bool(re.match(regex_pattern, input()))))"
   ]
  },
  {
   "cell_type": "code",
   "execution_count": 52,
   "metadata": {},
   "outputs": [
    {
     "name": "stdout",
     "output_type": "stream",
     "text": [
      "1\n",
      "7878787898\n",
      "YES\n"
     ]
    }
   ],
   "source": [
    "# Validating phone numbers\n",
    "\n",
    "import re\n",
    "\n",
    "n = int(input())\n",
    "phone_no =  [input() for _ in range(n)]\n",
    "for i in phone_no:\n",
    "    patern = re.compile(r'^[7-9]\\d{9}$')\n",
    "    print('YES' if patern.match(i) else 'NO')"
   ]
  },
  {
   "cell_type": "code",
   "execution_count": null,
   "metadata": {},
   "outputs": [],
   "source": [
    "#HTML Parser - Part 1\n",
    "# Enter your code here. Read input from STDIN. Print output to STDOUT\n",
    "\n",
    "from html.parser import HTMLParser\n",
    "class MyHTMLParser(HTMLParser):\n",
    "    def handle_starttag(self, tag, attrs):\n",
    "        print('Start :', tag)\n",
    "        for attr in attrs:\n",
    "            print('->', attr[0],'>', attr[1])            \n",
    "    def handle_endtag(self, tag):\n",
    "        print('End   :', tag)    \n",
    "    def handle_startendtag(self, tag, attrs):\n",
    "        print('Empty :', tag)\n",
    "        for attr in attrs:\n",
    "            print('->', attr[0],'>', attr[1])            \n",
    "MyParser = MyHTMLParser()\n",
    "MyParser.feed(''.join([input().strip() for _ in range(int(input()))]))"
   ]
  },
  {
   "cell_type": "code",
   "execution_count": null,
   "metadata": {},
   "outputs": [],
   "source": [
    "# HTML parser II\n",
    "\n",
    "from html.parser import HTMLParser\n",
    "\n",
    "class MyHTMLParser(HTMLParser):\n",
    "    def handle_data(self, data):\n",
    "        if data != '\\n':\n",
    "            print('>>> Data   ')\n",
    "            print(data)\n",
    "    def handle_comment(self, data):\n",
    "        if len(data.split('\\n')) == 1:\n",
    "            print('>>> Single-line Comment  ')\n",
    "            print(data)\n",
    "        elif len(data.split('\\n')) > 1:\n",
    "            print('>>> Multi-line Comment  ',)\n",
    "            for i in data.split('\\n'):\n",
    "                print(i)  \n",
    "  \n",
    "  \n",
    "html = \"\"       \n",
    "for i in range(int(input())):\n",
    "    html += input().rstrip()\n",
    "    html += '\\n'\n",
    "    \n",
    "parser = MyHTMLParser()\n",
    "parser.feed(html)\n",
    "parser.close()"
   ]
  },
  {
   "cell_type": "code",
   "execution_count": 53,
   "metadata": {},
   "outputs": [
    {
     "name": "stdout",
     "output_type": "stream",
     "text": [
      "\n"
     ]
    },
    {
     "ename": "ValueError",
     "evalue": "invalid literal for int() with base 10: ''",
     "output_type": "error",
     "traceback": [
      "\u001b[0;31m---------------------------------------------------------------------------\u001b[0m",
      "\u001b[0;31mValueError\u001b[0m                                Traceback (most recent call last)",
      "\u001b[0;32m<ipython-input-53-9129b0d6a20d>\u001b[0m in \u001b[0;36m<module>\u001b[0;34m\u001b[0m\n\u001b[1;32m     13\u001b[0m \u001b[0;34m\u001b[0m\u001b[0m\n\u001b[1;32m     14\u001b[0m \u001b[0mhtml\u001b[0m \u001b[0;34m=\u001b[0m \u001b[0;34m\"\"\u001b[0m\u001b[0;34m\u001b[0m\u001b[0;34m\u001b[0m\u001b[0m\n\u001b[0;32m---> 15\u001b[0;31m \u001b[0;32mfor\u001b[0m \u001b[0mi\u001b[0m \u001b[0;32min\u001b[0m \u001b[0mrange\u001b[0m\u001b[0;34m(\u001b[0m\u001b[0mint\u001b[0m\u001b[0;34m(\u001b[0m\u001b[0minput\u001b[0m\u001b[0;34m(\u001b[0m\u001b[0;34m)\u001b[0m\u001b[0;34m)\u001b[0m\u001b[0;34m)\u001b[0m\u001b[0;34m:\u001b[0m\u001b[0;34m\u001b[0m\u001b[0;34m\u001b[0m\u001b[0m\n\u001b[0m\u001b[1;32m     16\u001b[0m     \u001b[0mhtml\u001b[0m \u001b[0;34m+=\u001b[0m \u001b[0minput\u001b[0m\u001b[0;34m(\u001b[0m\u001b[0;34m)\u001b[0m\u001b[0;34m.\u001b[0m\u001b[0mrstrip\u001b[0m\u001b[0;34m(\u001b[0m\u001b[0;34m)\u001b[0m\u001b[0;34m\u001b[0m\u001b[0;34m\u001b[0m\u001b[0m\n\u001b[1;32m     17\u001b[0m     \u001b[0mhtml\u001b[0m \u001b[0;34m+=\u001b[0m \u001b[0;34m'\\n'\u001b[0m\u001b[0;34m\u001b[0m\u001b[0;34m\u001b[0m\u001b[0m\n",
      "\u001b[0;31mValueError\u001b[0m: invalid literal for int() with base 10: ''"
     ]
    }
   ],
   "source": [
    "# Your Detect HTML Tags, Attributes and Attribute Values \n",
    "  \n",
    "# Enter your code here. Read input from STDIN. Print output to STDOUT\n",
    "from html.parser import HTMLParser\n",
    "class MyHTMLParser(HTMLParser):\n",
    "    def handle_starttag(self, tag, attrs):\n",
    "        print(tag)\n",
    "        for attr in attrs:\n",
    "            print('->', attr[0],'>', attr[1])            \n",
    "    #def handle_endtag(self, tag):\n",
    "    #    print(tag)    \n",
    "    \n",
    "    \n",
    "html = \"\"       \n",
    "for i in range(int(input())):\n",
    "    html += input().rstrip()\n",
    "    html += '\\n'\n",
    "    \n",
    "parser = MyHTMLParser()\n",
    "parser.feed(html)"
   ]
  },
  {
   "cell_type": "markdown",
   "metadata": {},
   "source": [
    "# Validating UID\n",
    "ABCXYZ company has up to\n",
    "\n",
    "employees.\n",
    "The company decides to create a unique identification number (UID) for each of its employees.\n",
    "The company has assigned you the task of validating all the randomly generated UIDs.\n",
    "\n",
    "A valid UID must follow the rules below:\n",
    "\n",
    "It must contain at least 2 uppercase English alphabet characters.\n",
    "\n",
    "It must contain at least 3 digits ( 0 - 9).\n",
    "\n",
    "It should only contain alphanumeric characters (a-z, A-Z and 0-9).\n",
    "\n",
    "No character should repeat.\n",
    "\n",
    "There must be exactly 10 characters in a valid UID.  "
   ]
  },
  {
   "cell_type": "code",
   "execution_count": 1,
   "metadata": {},
   "outputs": [],
   "source": [
    "import re\n",
    "n = int(input())\n",
    "#uid = [input().split() for _ in range(n)]\n",
    "\n",
    "for i in range(n):\n",
    "    #uid = input().split()\n",
    "    patern = re.match(r'^(?!.*(.).*\\1)(?=(?:.*[A-Z]){2,})(?=(?:.*\\d){3,})[a-zA-Z0-9]{10}$', input())\n",
    "    print('Valid' if patern else 'Invalid')\n",
    "    \n",
    "\"\"\" Explanations \n",
    "(?!.*(.).*\\1) checkes no repeating characters \n",
    "(?=(?:.*[A-Z]){2,3}) checkes atleast 2 upper cases \n",
    "(?=(?:.*\\d{3,})) checkes atveast three digits \n",
    "[a-zA-Z0-9]{10} checks exacty 10 aphanumeric characters \n",
    "\n",
    "\"\"\""
   ]
  },
  {
   "cell_type": "markdown",
   "metadata": {},
   "source": [
    "# Validating Credit Card Numbers\n",
    "\n",
    "You and Fredrick are good friends. Yesterday, Fredrick received N\n",
    "\n",
    "credit cards from ABCD Bank. He wants to verify whether his credit card numbers are valid or not. \n",
    "You happen to be great at regex so he is asking for your help!\n",
    "\n",
    "A valid credit card from ABCD Bank has the following characteristics:\n",
    "\n",
    "► It must start with a 4, 5, or 6.\n",
    "► It must contain exactly 16 digits.\n",
    "► It must only consist of digits (0-9).\n",
    "► It may have digits in groups of 4, separated by one hyphen \"-\".\n",
    "► It must NOT use any other separator like ' ' , '_', etc.\n",
    "► It must NOT have 4 or more consecutive repeated digits. \n",
    "\n"
   ]
  },
  {
   "cell_type": "code",
   "execution_count": 6,
   "metadata": {},
   "outputs": [
    {
     "name": "stdout",
     "output_type": "stream",
     "text": [
      "1\n",
      "233435\n",
      "Invalid\n"
     ]
    }
   ],
   "source": [
    "import re\n",
    "for i in range(int(input())):\n",
    "    card_no = input()\n",
    "    \n",
    "    patern = re.match(r'^[456]\\d{3}(-?\\d{4}){3}$',card_no)\\\n",
    "    and not re.search(r'(\\d)\\1{3,}',''.join(card_no.split('-')))\n",
    "    \n",
    "    #patern = all(re.match(f, input()) for f in filters)\n",
    "    print('Valid' if patern else 'Invalid')\n"
   ]
  },
  {
   "cell_type": "markdown",
   "metadata": {},
   "source": [
    "# Time Conversion\n",
    "\n",
    "Given a time in 12-hour AM/PM format, convert it to military (24-hour) time. "
   ]
  },
  {
   "cell_type": "code",
   "execution_count": null,
   "metadata": {},
   "outputs": [],
   "source": [
    "import math\n",
    "import os\n",
    "import random\n",
    "import re\n",
    "import sys\n",
    "\n",
    "#\n",
    "# Complete the 'timeConversion' function below.\n",
    "#\n",
    "# The function is expected to return a STRING.\n",
    "# The function accepts STRING s as parameter.\n",
    "#\n",
    "\n",
    "def timeConversion(s):\n",
    "    AMPM, s_dig = s[-2:], s[:8] #Split the AM/PM and the hour\n",
    "    \n",
    "    # Split the d_dig as hour, minute, and second    \n",
    "    h, m, s = [int(t) for t in s_dig.split(':')]\n",
    "    \n",
    "    if AMPM == 'AM' and h == 12:\n",
    "        return('{:02}:{:02}:{:02}'.format(0, m, s)) \n",
    "    elif AMPM == 'PM' and h != 12:\n",
    "        return('{:02}:{:02}:{:02}'.format(int(h)+12, m, s))\n",
    "    else:\n",
    "        return('{:02}:{:02}:{:02}'.format(h, m, s))\n",
    "        \n",
    "    \n",
    "    \n",
    "    # Write your code here\n",
    "\n",
    "if __name__ == '__main__':\n",
    "    fptr = open(os.environ['OUTPUT_PATH'], 'w')\n",
    "\n",
    "    s = input()\n",
    "\n",
    "    result = timeConversion(s)\n",
    "\n",
    "    fptr.write(result + '\\n')\n",
    "\n",
    "    fptr.close()"
   ]
  },
  {
   "cell_type": "code",
   "execution_count": null,
   "metadata": {},
   "outputs": [],
   "source": []
  },
  {
   "cell_type": "code",
   "execution_count": 2,
   "metadata": {},
   "outputs": [
    {
     "data": {
      "text/plain": [
       "Counter({'ab': 2, 'ca': 1, 'cadd': 2})"
      ]
     },
     "execution_count": 2,
     "metadata": {},
     "output_type": "execute_result"
    }
   ],
   "source": [
    "from collections import Counter\n",
    "a = ['ab', 'ca', 'ab', 'cadd', 'cadd']\n",
    "\n",
    "Counter(a)"
   ]
  },
  {
   "cell_type": "markdown",
   "metadata": {},
   "source": [
    "# Word occurance \n",
    "\n",
    "You are given n words. Some words may repeat. \n",
    "For each word, output its number of occurrences. \n",
    "The output order should correspond with the input order of \n",
    "appearance of the word. See the sample input/output for clarification. \n"
   ]
  },
  {
   "cell_type": "code",
   "execution_count": 3,
   "metadata": {},
   "outputs": [
    {
     "name": "stdout",
     "output_type": "stream",
     "text": [
      "3\n",
      "Abay \n",
      "Kassa\n",
      "Abebe\n",
      "3\n",
      "1 1 1 \n"
     ]
    }
   ],
   "source": [
    "# Enter your code here. Read input from STDIN. Print output to STDOUT\n",
    "from collections import Counter\n",
    "\n",
    "n = int(input())\n",
    "list_words = [input().strip() for _ in range(n)]\n",
    "\n",
    "count_word = Counter(list_words)\n",
    "Count_value = ''\n",
    "for key, value in count_word.items():\n",
    "    Count_value += str(value) + ' '\n",
    "print(len(set(list_words)))    \n",
    "print(Count_value)"
   ]
  },
  {
   "cell_type": "markdown",
   "metadata": {},
   "source": [
    "# Deque\n",
    "\n",
    "A deque is a double-ended queue. It can be used to add or remove elements from both ends.\n",
    "Deques support thread safe, memory efficient appends and pops from either side of the deque\n",
    "with approximately the same O(1) performance in either direction. \n",
    "\n"
   ]
  },
  {
   "cell_type": "code",
   "execution_count": null,
   "metadata": {},
   "outputs": [],
   "source": [
    "# Enter your code here. Read input from STDIN. Print output to STDOUT\n",
    "from collections import defaultdict, deque\n",
    "n= int(input())\n",
    "d = deque()\n",
    "#methods = ([input().split() for _ in range(n)])\n",
    "for _ in range(n):\n",
    "    method, *value = input().split()\n",
    "    getattr(d, method)(*value)            \n",
    "print(*[v for v in d]) # avoiding the list using *"
   ]
  },
  {
   "cell_type": "markdown",
   "metadata": {},
   "source": [
    "# NO idea\n",
    "\n",
    "\"\"\"There is an array of $n$ integers. There are also disjoint sets, $A$ and $B$, each containing integers. \n",
    "You like all the integers in set $A$ and dislike all the integers in set $B$. Your initial happiness is 0. \n",
    "For each $i$ integer in the array, if $i+in A$, you add 1 to your happiness. If $i\\in B$, \n",
    "you add $-1$ to your happiness. Otherwise, your happiness does not change. Output your \n",
    "final happiness at the end. \"\"\"\n"
   ]
  },
  {
   "cell_type": "code",
   "execution_count": null,
   "metadata": {},
   "outputs": [],
   "source": [
    "n, m = input().split()\n",
    "\n",
    "arr, A, B = [input().split() if i < 1 else set(input().split()) for i in range(3)]\n",
    "happiness = sum([(i in A) - (i in B) for i in arr])\n",
    "print(happiness)"
   ]
  },
  {
   "cell_type": "markdown",
   "metadata": {},
   "source": [
    "# Two arrays\n",
    "\n",
    "There will be two arrays of integers. Determine all integers that satisfy the following two conditions: \n",
    "- The elements of the first array are all factors of the integer being considered\n",
    "- The integer being considered is a factor of all elements of the second array\n",
    "- These numbers are referred to as being between the two arrays. Determine how many such numbers exist.\n"
   ]
  },
  {
   "cell_type": "code",
   "execution_count": null,
   "metadata": {},
   "outputs": [],
   "source": [
    "\"\"\"\"\"\"\n",
    "\n",
    "import math\n",
    "import os\n",
    "import random\n",
    "import re\n",
    "import sys\n",
    " \n",
    "def getTotalX(a, b):\n",
    "    # Write your code here\n",
    "    max_a, min_b = max(a), min(b)\n",
    "    count_ = 0\n",
    "    for i in range(max_a, min_b+1):\n",
    "        if all([i%k == 0 for k in a]) and all([k%i == 0 for k in b]):\n",
    "            count_ += 1\n",
    "    \n",
    "    return count_\n",
    "            \n",
    " \n",
    "if __name__ == '__main__':\n",
    "    fptr = open(os.environ['OUTPUT_PATH'], 'w')\n",
    "    first_multiple_input = input().rstrip().split()\n",
    "    n = int(first_multiple_input[0])\n",
    "    m = int(first_multiple_input[1])\n",
    "\n",
    "    arr = list(map(int, input().rstrip().split()))\n",
    "    brr = list(map(int, input().rstrip().split()))\n",
    "\n",
    "    total = getTotalX(arr, brr)\n",
    "\n",
    "    fptr.write(str(total) + '\\n')\n",
    "    fptr.close()\n"
   ]
  },
  {
   "cell_type": "code",
   "execution_count": null,
   "metadata": {},
   "outputs": [],
   "source": [
    "73%5"
   ]
  },
  {
   "cell_type": "code",
   "execution_count": null,
   "metadata": {},
   "outputs": [],
   "source": [
    "# Grading Students\n",
    "\n",
    "#!/bin/python3\n",
    "\n",
    "import math\n",
    "import os\n",
    "import random\n",
    "import re\n",
    "import sys\n",
    "\n",
    "#\n",
    "# Complete the 'gradingStudents' function below.\n",
    "#\n",
    "# The function is expected to return an INTEGER_ARRAY.\n",
    "# The function accepts INTEGER_ARRAY grades as parameter.\n",
    "#\n",
    "\n",
    "def gradingStudents(grades):\n",
    "    # Write your code here\n",
    "    for i in range(len(grades)):\n",
    "        \n",
    "        if (5 - grades[i] % 5) < 3:\n",
    "            New_grade = grades[i] + (5 - grades[i] % 5)\n",
    "            if New_grade < 40:\n",
    "                grades[i] = grades[i]\n",
    "            else:\n",
    "                grades[i] = New_grade\n",
    "                \n",
    "    return grades\n",
    "            \n",
    "            \n",
    "\n",
    "if __name__ == '__main__':\n",
    "    fptr = open(os.environ['OUTPUT_PATH'], 'w')\n",
    "\n",
    "    grades_count = int(input().strip())\n",
    "\n",
    "    grades = []\n",
    "\n",
    "    for _ in range(grades_count):\n",
    "        grades_item = int(input().strip())\n",
    "        grades.append(grades_item)\n",
    "\n",
    "    result = gradingStudents(grades)\n",
    "\n",
    "    fptr.write('\\n'.join(map(str, result)))\n",
    "    fptr.write('\\n')\n",
    "\n",
    "    fptr.close()\n"
   ]
  },
  {
   "cell_type": "markdown",
   "metadata": {},
   "source": [
    "#  Sales by match \n",
    "\n",
    "There is a large pile of socks that must be paired by color.\n",
    "Given an array of integers representing the color of each sock, \n",
    "determine how many pairs of socks with matching colors there are."
   ]
  },
  {
   "cell_type": "code",
   "execution_count": null,
   "metadata": {},
   "outputs": [],
   "source": [
    "#!/bin/python3\n",
    "\n",
    "import math\n",
    "import os\n",
    "import random\n",
    "import re\n",
    "import sys\n",
    "\n",
    "#\n",
    "# Complete the 'sockMerchant' function below.\n",
    "#\n",
    "# The function is expected to return an INTEGER.\n",
    "# The function accepts following parameters:\n",
    "#  1. INTEGER n\n",
    "#  2. INTEGER_ARRAY ar\n",
    "#\n",
    "\n",
    "def sockMerchant(n, ar): \n",
    "    pairs = 0\n",
    "    for element in set(ar):\n",
    "        pairs += ar.count(element) // 2\n",
    "    return(pairs)\n",
    "\n",
    "if __name__ == '__main__':\n",
    "    fptr = open(os.environ['OUTPUT_PATH'], 'w')\n",
    "\n",
    "    n = int(input().strip())\n",
    "\n",
    "    ar = list(map(int, input().rstrip().split()))\n",
    "\n",
    "    result = sockMerchant(n, ar)\n",
    "\n",
    "    fptr.write(str(result) + '\\n')\n",
    "\n",
    "    fptr.close()\n"
   ]
  },
  {
   "cell_type": "markdown",
   "metadata": {},
   "source": [
    "# Hiking: Counting va\n",
    "\n",
    "\n",
    "An avid hiker keeps meticulous records of their hikes. \n",
    "During the last hike that took steps, for every step it was noted if it was an uphill, U,\n",
    "or a downhill, D, step. Hikes always start and end at sea level, and each step up or down represents a 1\n",
    "unit change in altitude. We define the following terms:\n",
    "- A mountain is a sequence of consecutive steps above sea level, \n",
    "  starting with a step up from sea level and ending with a step down to sea level.\n",
    "  \n",
    "- A valley is a sequence of consecutive steps below sea level, starting with a step down \n",
    "  from sea level and ending with a step up to sea level.\n",
    "\n",
    "Given the sequence of up and down steps during a hike, find and print the number of valleys walked through."
   ]
  },
  {
   "cell_type": "code",
   "execution_count": null,
   "metadata": {},
   "outputs": [],
   "source": [
    "#!/bin/python3\n",
    "\n",
    "import math\n",
    "import os\n",
    "import random\n",
    "import re\n",
    "import sys\n",
    "\n",
    "#\n",
    "# Complete the 'countingValleys' function below.\n",
    "#\n",
    "# The function is expected to return an INTEGER.\n",
    "# The function accepts following parameters:\n",
    "#  1. INTEGER steps\n",
    "#  2. STRING path\n",
    "#\n",
    "\n",
    "def countingValleys(steps, path):\n",
    "    # Write your code here\n",
    "    #return(path)\n",
    "    level, no_va = 0, 0\n",
    "    for k in path:\n",
    "        level += 1 if k == 'U' else -1\n",
    "        if level == 0 and k == 'U':\n",
    "            no_va += 1       \n",
    "    \n",
    "    \n",
    "    return no_va\n",
    "\n",
    "if __name__ == '__main__':\n",
    "    fptr = open(os.environ['OUTPUT_PATH'], 'w')\n",
    "\n",
    "    steps = int(input().strip())\n",
    "\n",
    "    path = input()\n",
    "\n",
    "    result = countingValleys(steps, path)\n",
    "\n",
    "    fptr.write(str(result) + '\\n')\n",
    "\n",
    "    fptr.close()"
   ]
  },
  {
   "cell_type": "markdown",
   "metadata": {},
   "source": [
    "# Jumping Clouds \n",
    "\n",
    "There is a new mobile game that starts with consecutively numbered clouds. \n",
    "Some of the clouds are thunderheads and others are cumulus. \n",
    "The player can jump on any cumulus cloud having a number that is equal to the number of the current cloud\n",
    "plus 1 or 2. The player must avoid the thunderheads. Determine the minimum number of jumps it will take to\n",
    "jump from the starting postion to the last cloud. It is always possible to win the game.\n",
    "\n",
    "For each game, you will get an array of clouds numbered\n",
    "0 if they are safe or 1 if they must be avoided. \n",
    "\n",
    "Descrition \n",
    "\n",
    "https://www.hackerrank.com/challenges/jumping-on-the-clouds/problem?h_l=interview&playlist_slugs%5B%5D=interview-reparation-kit&playlist_slugs%5B%5D=warmup&h_r=next-challenge&h_v=zen"
   ]
  },
  {
   "cell_type": "code",
   "execution_count": 72,
   "metadata": {},
   "outputs": [],
   "source": [
    "#!/bin/python3\n",
    "\n",
    "import math\n",
    "import os\n",
    "import random\n",
    "import re\n",
    "import sys\n",
    "\n",
    "#\n",
    "# Complete the 'jumpingOnClouds' function below.\n",
    "#\n",
    "# The function is expected to return an INTEGER.\n",
    "# The function accepts INTEGER_ARRAY c as parameter.\n",
    "#\n",
    "\n",
    "def jumpingOnClouds(c):\n",
    "    # Write your code here\n",
    "    #c = str(*c)\n",
    "    s = ''\n",
    "    for i in c:\n",
    "        s += str(i)\n",
    "    jump = s.count('1')\n",
    "    c = s.split('1')\n",
    "    for seg in c:\n",
    "        jump+=len(seg)//2\n",
    "    return jump\n",
    "\n",
    "if __name__ == '__main__':\n",
    "    fptr = open(os.environ['Desktop'], 'w')\n",
    "    n = int(input().strip())\n",
    "    c = list(map(int, input().rstrip().split()))\n",
    "\n",
    "    result = jumpingOnClouds(c)\n",
    "    fptr.write(str(result) + '\\n')\n",
    "\n",
    "    fptr.close()"
   ]
  },
  {
   "cell_type": "markdown",
   "metadata": {},
   "source": [
    "# Repeated string \n",
    "\n",
    "\n",
    "\n",
    "There is a string, s, of lowercase English letters that is repeated infinitely many times. \n",
    "Given an integer, n, find and print the number of letter a's in the first n letters of the infinite string."
   ]
  },
  {
   "cell_type": "code",
   "execution_count": null,
   "metadata": {},
   "outputs": [],
   "source": [
    "#!/bin/python3\n",
    "import math\n",
    "import os\n",
    "import random\n",
    "import re\n",
    "import sys\n",
    "\n",
    "#\n",
    "# Complete the 'repeatedString' function below.\n",
    "#\n",
    "# The function is expected to return a LONG_INTEGER.\n",
    "# The function accepts following parameters:\n",
    "#  1. STRING s\n",
    "#  2. LONG_INTEGER n\n",
    "#\n",
    "\n",
    "from collections import Counter\n",
    "def repeatedString(s, n):\n",
    "    #while (len(s) < n):\n",
    "    no_a = s.count(\"a\") * (n // len(s)) + s[:n % len(s)].count(\"a\")\n",
    "    \n",
    "    #cou = Counter(s[:n])\n",
    "    return no_a\n",
    "\n",
    "if __name__ == '__main__':\n",
    "    fptr = open(os.environ['OUTPUT_PATH'], 'w')\n",
    "    s = input()\n",
    "    n = int(input().strip())\n",
    "\n",
    "    result = repeatedString(s, n)\n",
    "    fptr.write(str(result) + '\\n')\n",
    "    fptr.close()\n"
   ]
  },
  {
   "cell_type": "markdown",
   "metadata": {},
   "source": [
    "# The highest hourglass sum "
   ]
  },
  {
   "cell_type": "code",
   "execution_count": null,
   "metadata": {},
   "outputs": [],
   "source": [
    "\n",
    "\n",
    "#!/bin/python3\n",
    "\n",
    "import math\n",
    "import os\n",
    "import random\n",
    "import re\n",
    "import sys\n",
    "\n",
    "#\n",
    "# Complete the 'hourglassSum' function below.\n",
    "#\n",
    "# The function is expected to return an INTEGER.\n",
    "# The function accepts 2D_INTEGER_ARRAY arr as parameter.\n",
    "#\n",
    "\n",
    "def hourglassSum(arr):\n",
    "    # Write your code here\n",
    "    n = len(arr)\n",
    "    if n < 3:\n",
    "        return -1\n",
    "    max_sum = -100000000000000000000000000\n",
    "    for i in range(n-2):\n",
    "        for k in range(n-2):\n",
    "            sum_glashour = (arr[i][k] + arr[i][k+1] + arr[i][k+2] +\n",
    "            arr[i+1][k+1] + arr[i+2][k] + arr[i+2][k+1] + arr[i+2][k+2])\n",
    "            if sum_glashour > max_sum:\n",
    "                max_sum = sum_glashour\n",
    "            else:\n",
    "                continue\n",
    "    return max_sum\n",
    "if __name__ == '__main__':\n",
    "    fptr = open(os.environ['OUTPUT_PATH'], 'w')\n",
    "    arr = []\n",
    "    for _ in range(6):\n",
    "        arr.append(list(map(int, input().rstrip().split())))\n",
    "\n",
    "    result = hourglassSum(arr)\n",
    "    fptr.write(str(result) + '\\n')\n",
    "    fptr.close()\n"
   ]
  },
  {
   "cell_type": "markdown",
   "metadata": {},
   "source": [
    "# Day of the programmer \n",
    "\n",
    "Marie invented a Time Machine and wants to test it by time-traveling to visit Russia\n",
    "on the Day of the Programmer (the 256th day of the year) during a year in the inclusive range from 1700 to 2700.\n",
    "\n",
    "From 1700 to 1917, Russia's official calendar was the Julian calendar; \n",
    "since 1919 they used the Gregorian calendar system. \n",
    "The transition from the Julian to Gregorian calendar system occurred in 1918, \n",
    "when the next day after January 31st was February 14th. This means that in 1918, \n",
    "February 14th was the 32nd day of the year in Russia.\n",
    "\n",
    "In both calendar systems, February is the only month with a variable amount of days; \n",
    "it has 29 days during a leap year, and 28 days during all other years. \n",
    "In the Julian calendar, leap years are divisible by 4; in the Gregorian calendar, \n",
    "leap years are either of the following:\n",
    "\n",
    "    -Divisible by 400.\n",
    "    -Divisible by 4 and not divisible by 100.\n",
    "\n",
    "Given a year, find the date of the 256th day of that year according to the official Russian calendar during \n",
    "that year. Then print it in the format dd.mm.yyyy, where dd is the two-digit day, mm is the two-digit month, \n",
    "and yyyy is year\n",
    "\n",
    "For example, the given year $y=1984$. 1984 is divisible by 4, so it is a leap year. \n",
    "The 256th day of a leap year after 1918 is September 12, so the answer is"
   ]
  },
  {
   "cell_type": "code",
   "execution_count": 74,
   "metadata": {},
   "outputs": [],
   "source": [
    "import math\n",
    "import os\n",
    "import random\n",
    "import re\n",
    "import sys\n",
    "\n",
    "#\n",
    "# Complete the 'dayOfProgrammer' function below.\n",
    "#\n",
    "# The function is expected to return a STRING.\n",
    "# The function accepts INTEGER year as parameter.\n",
    "#\n",
    "\n",
    "def dayOfProgrammer(year):\n",
    "    if year == 1918:\n",
    "        return \"26.09.1918\"\n",
    "    if year%4 == 0 and (year < 1918 or year % 400 == 0 or year % 100 != 0):\n",
    "        dofp = 256 - 244\n",
    "    else:\n",
    "        dofp = 256 - 243\n",
    "    return str(dofp) + '.09.' + str(year)\n",
    "if __name__ == '__main__':\n",
    "    fptr = open(os.environ['OUTPUT_PATH'], 'w')\n",
    "    year = int(input().strip())\n",
    "    result = dayOfProgrammer(year)\n",
    "\n",
    "    fptr.write(result + '\\n')\n",
    "    fptr.close()\n"
   ]
  },
  {
   "cell_type": "markdown",
   "metadata": {},
   "source": [
    "# Bi dicision\n",
    "\n",
    "Two friends Anna and Brian, are deciding how to split the bill at a dinner. \n",
    "Each will only pay for the items they consume. Brian gets the check and calculates Anna's portion. \n",
    "You must determine if his calculation is correct.\n",
    "\n",
    "For example, assume the bill has the following prices: $bill = [2,4,6]$.\n",
    "Anna declines to eat item $k=2, i.e.,  bill[2]$ which costs 6. \n",
    "If Brian calculates the bill correctly, Anna will pay $(2+4)/2 = 3$. \n",
    "\n",
    "If he includes the cost of $bill[2]$, he will calculate $(2+4+6)/6. In the second case, he should refund\n",
    "3 to Anna.\n",
    "\n",
    "Function Description\n",
    "\n",
    "Complete the bonAppetit function in the editor below. It should print Bon Appetit if the bill is fairly split. \n",
    "Otherwise, it should print the integer amount of money that Brian owes Anna.\n",
    "\n",
    "bonAppetit has the following parameter(s):\n",
    "\n",
    "    - bill: an array of integers representing the cost of each item ordered\n",
    "    - k: an integer representing the zero-based index of the item Anna doesn't eat\n",
    "    - b: the amount of money that Anna contributed to the bill"
   ]
  },
  {
   "cell_type": "code",
   "execution_count": null,
   "metadata": {},
   "outputs": [],
   "source": [
    "import math\n",
    "import os\n",
    "import random\n",
    "import re\n",
    "import sys\n",
    "\n",
    "#\n",
    "# Complete the 'bonAppetit' function below.\n",
    "#\n",
    "# The function accepts following parameters:\n",
    "#  1. INTEGER_ARRAY bill\n",
    "#  2. INTEGER k\n",
    "#  3. INTEGER b\n",
    "#\n",
    "\n",
    "def bonAppetit(bill, k, b):\n",
    "    # Write your code here\n",
    "    B_owes_A = (sum(bill) - bill[k])/2\n",
    "    if B_owes_A == b:\n",
    "        print('Bon Appetit')\n",
    "    elif b > B_owes_A:\n",
    "        print(int(b-B_owes_A))\n",
    "    else:\n",
    "        print('B owes more Anna contrinuted')\n",
    "    \n",
    "\n",
    "if __name__ == '__main__':\n",
    "    first_multiple_input = input().rstrip().split()\n",
    "    n = int(first_multiple_input[0])\n",
    "    k = int(first_multiple_input[1])\n",
    "    bill = list(map(int, input().rstrip().split()))\n",
    "\n",
    "    b = int(input().strip())\n",
    "    bonAppetit(bill, k, b)\n"
   ]
  },
  {
   "cell_type": "markdown",
   "metadata": {},
   "source": [
    "# Drawing Book\n",
    "\n",
    "https://www.hackerrank.com/challenges/drawing-book/problem?h_r=next-challenge&h_v=zen&h_r=next-challenge&h_v=zen "
   ]
  },
  {
   "cell_type": "code",
   "execution_count": null,
   "metadata": {},
   "outputs": [],
   "source": [
    "#!/bin/python3\n",
    "\n",
    "import math\n",
    "import os\n",
    "import random\n",
    "import re\n",
    "import sys\n",
    "\n",
    "#\n",
    "# Complete the 'pageCount' function below.\n",
    "#\n",
    "# The function is expected to return an INTEGER.\n",
    "# The function accepts following parameters:\n",
    "#  1. INTEGER n\n",
    "#  2. INTEGER p\n",
    "#\n",
    "\n",
    "def pageCount(n, p):\n",
    "    # Write your code here\n",
    "    if p != 1 and n-p == 1 and n%2==0:\n",
    "        return 1\n",
    "    else:\n",
    "        return int(min(p/2, n/2-p/2))\n",
    "\n",
    "if __name__ == '__main__':\n",
    "    fptr = open(os.environ['OUTPUT_PATH'], 'w')\n",
    "\n",
    "    n = int(input().strip())\n",
    "\n",
    "    p = int(input().strip())\n",
    "\n",
    "    result = pageCount(n, p)\n",
    "\n",
    "    fptr.write(str(result) + '\\n')\n",
    "\n",
    "    fptr.close()"
   ]
  },
  {
   "cell_type": "markdown",
   "metadata": {},
   "source": [
    "# Electronics Shop\n",
    "\n",
    "\n",
    "https://www.hackerrank.com/challenges/electronics-shop/problem?h_r=next-challenge&h_v=zen"
   ]
  },
  {
   "cell_type": "code",
   "execution_count": 3,
   "metadata": {},
   "outputs": [
    {
     "data": {
      "text/plain": [
       "1"
      ]
     },
     "execution_count": 3,
     "metadata": {},
     "output_type": "execute_result"
    }
   ],
   "source": [
    "#!/bin/python3\n",
    "# Electronics Shop\n",
    "\n",
    "import os\n",
    "import sys\n",
    "from itertools import combinations\n",
    "def getMoneySpent(keyboards, drives, b):\n",
    "    #\n",
    "    # Write your code here.\n",
    "    value = []\n",
    "    for i in drives:\n",
    "        for j in keyboards:\n",
    "            if i+j <= b:\n",
    "                value.append(i+j)\n",
    "    \n",
    "    if len(value) == 0:\n",
    "        return -1\n",
    "    else:\n",
    "        return max(value)\n",
    "if __name__ == '__main__':\n",
    "    fptr = open(os.environ['OUTPUT_PATH'], 'w')\n",
    "    bnm = input().split()\n",
    "    b = int(bnm[0])\n",
    "    n = int(bnm[1])\n",
    "    m = int(bnm[2])\n",
    "\n",
    "    keyboards = list(map(int, input().rstrip().split()))\n",
    "    drives = list(map(int, input().rstrip().split()))\n",
    "\n",
    "    moneySpent = getMoneySpent(keyboards, drives, b)\n",
    "    fptr.write(str(moneySpent) + '\\n')\n",
    "    fptr.close()\n"
   ]
  },
  {
   "cell_type": "code",
   "execution_count": 7,
   "metadata": {},
   "outputs": [
    {
     "data": {
      "text/plain": [
       "<itertools.combinations at 0x7f67bdc9e228>"
      ]
     },
     "execution_count": 7,
     "metadata": {},
     "output_type": "execute_result"
    }
   ],
   "source": [
    "#!/bin/python3\n",
    "\n",
    "import math\n",
    "import os\n",
    "import random\n",
    "import re\n",
    "import sys\n",
    "\n",
    "# Complete the catAndMouse function below.\n",
    "def catAndMouse(x, y, z):\n",
    "    if abs(z-x) == abs(z-y):\n",
    "        return \"Mouse C\"\n",
    "    elif abs(z-x) > abs(z-y):\n",
    "        return \"Cat B\"\n",
    "    else:\n",
    "        return \"Cat A\"\n",
    "\n",
    "if __name__ == '__main__':\n",
    "    fptr = open(os.environ['OUTPUT_PATH'], 'w')\n",
    "\n",
    "    q = int(input())\n",
    "\n",
    "    for q_itr in range(q):\n",
    "        xyz = input().split()\n",
    "\n",
    "        x = int(xyz[0])\n",
    "\n",
    "        y = int(xyz[1])\n",
    "\n",
    "        z = int(xyz[2])\n",
    "\n",
    "        result = catAndMouse(x, y, z)\n",
    "\n",
    "        fptr.write(result + '\\n')\n",
    "\n",
    "    fptr.close()"
   ]
  },
  {
   "cell_type": "markdown",
   "metadata": {},
   "source": [
    "# Magic array\n",
    "\n",
    "\"https://www.hackerrank.com/challenges/magic-square-forming/problem?h_r=next-challenge&h_v=zen\""
   ]
  },
  {
   "cell_type": "code",
   "execution_count": 55,
   "metadata": {},
   "outputs": [],
   "source": [
    "import math\n",
    "import os\n",
    "import random\n",
    "import re\n",
    "import sys\n",
    "\n",
    "#\n",
    "# Complete the 'formingMagicSquare' function below.\n",
    "#\n",
    "# The function is expected to return an INTEGER.\n",
    "# The function accepts 2D_INTEGER_ARRAY s as parameter.\n",
    "#\n",
    "\n",
    "def formingMagicSquare(s):\n",
    "    # reform the array to one dimension\n",
    "    s = s[0] + s[1] + s[2]\n",
    "    # these are all forms of a 3x3 magic array\n",
    "    magic_array = [[6, 1, 8, 7, 5, 3, 2, 9, 4],[8, 1, 6, 3, 5, 7, 4, 9, 2], \n",
    "            [4, 3, 8, 9, 5, 1, 2, 7, 6], [2, 7, 6, 9, 5, 1, 4, 3, 8],\n",
    "            [2, 9, 4, 7, 5, 3, 6, 1, 8], [4, 9, 2, 3, 5, 7, 8, 1, 6],\n",
    "            [6, 7, 2, 1, 5, 9, 8, 3, 4], [8, 3, 4, 1, 5, 9, 6, 7, 2]]\n",
    "    mini_cost = 2**64\n",
    "    \n",
    "    for arr in magic_array:\n",
    "        diff = 0\n",
    "        for i, j in zip(s, arr):\n",
    "            diff += abs(i - j)\n",
    "        mini_cost = min(diff, mini_cost)\n",
    "    return mini_cost\n",
    "\n",
    "if __name__ == '__main__':\n",
    "    fptr = open(os.environ['OUTPUT_PATH'], 'w')\n",
    "\n",
    "    s = []\n",
    "\n",
    "    for _ in range(3):\n",
    "        s.append(list(map(int, input().rstrip().split())))\n",
    "\n",
    "    result = formingMagicSquare(s)\n",
    "\n",
    "    fptr.write(str(result) + '\\n')\n",
    "\n",
    "    fptr.close()"
   ]
  },
  {
   "cell_type": "markdown",
   "metadata": {},
   "source": [
    "# Number Line Jumps\n",
    "\n",
    "\"\"\" https://www.hackerrank.com/challenges/kangaroo/problem \"\"\"\n",
    "\n"
   ]
  },
  {
   "cell_type": "code",
   "execution_count": 12,
   "metadata": {},
   "outputs": [
    {
     "data": {
      "text/plain": [
       "2"
      ]
     },
     "execution_count": 12,
     "metadata": {},
     "output_type": "execute_result"
    }
   ],
   "source": [
    "\n",
    "#!/bin/python3\n",
    "\n",
    "import math\n",
    "import os\n",
    "import random\n",
    "import re\n",
    "import sys\n",
    "\n",
    "#\n",
    "# Complete the 'kangaroo' function below.\n",
    "#\n",
    "# The function is expected to return a STRING.\n",
    "# The function accepts following parameters:\n",
    "#  1. INTEGER x1\n",
    "#  2. INTEGER v1\n",
    "#  3. INTEGER x2\n",
    "#  4. INTEGER v2\n",
    "#\n",
    "\n",
    "def kangaroo(x1, v1, x2, v2):\n",
    "    # Write your code here\n",
    "    if (x2 - x1) * (v2 - v1) < 0 and (x1-x2) % (v2-v1) == 0:\n",
    "        return 'YES'\n",
    "    else:\n",
    "        return 'NO' \n",
    "    \n",
    "        \n",
    "\n",
    "if __name__ == '__main__':\n",
    "    fptr = open(os.environ['OUTPUT_PATH'], 'w')\n",
    "    first_multiple_input = input().rstrip().split()\n",
    "    x1 = int(first_multiple_input[0])\n",
    "\n",
    "    v1 = int(first_multiple_input[1])\n",
    "    x2 = int(first_multiple_input[2])\n",
    "    v2 = int(first_multiple_input[3])\n",
    "    result = kangaroo(x1, v1, x2, v2)\n",
    "\n",
    "    fptr.write(result + '\\n')\n",
    "    fptr.close()\n"
   ]
  },
  {
   "cell_type": "markdown",
   "metadata": {},
   "source": [
    "# Breaking the Records\n",
    "\n",
    "\n",
    "\"\"\"https://www.hackerrank.com/challenges/breaking-best-and-worst-records/problem?h_r=next-challenge&h_v=zen\"\"\"\n"
   ]
  },
  {
   "cell_type": "code",
   "execution_count": 54,
   "metadata": {},
   "outputs": [],
   "source": [
    "#!/bin/python3\n",
    "\n",
    "import math\n",
    "import os\n",
    "import random\n",
    "import re\n",
    "import sys\n",
    "def breakingRecords(scores):\n",
    "    # Write your code here\n",
    "    min_score, max_score = [], []\n",
    "    max_count, min_count = 0, 0\n",
    "    for k in range(len(scores)):\n",
    "        if k == 0:\n",
    "            max_score.append(scores[k])\n",
    "            min_score.append(scores[k])\n",
    "        else:\n",
    "            if scores[k] <= max(max_score):\n",
    "                max_score.append(max(max_score))\n",
    "            else:\n",
    "                max_score.append(scores[k])\n",
    "                max_count += 1\n",
    "            if scores[k] >= min(min_score):\n",
    "                min_score.append(min(min_score))\n",
    "            else:\n",
    "                min_score.append(scores[k])\n",
    "                min_count += 1\n",
    "    return [max_count, min_count]\n",
    "            \n",
    "\n",
    "if __name__ == '__main__':\n",
    "    fptr = open(os.environ['OUTPUT_PATH'], 'w')\n",
    "    n = int(input().strip())\n",
    "    scores = list(map(int, input().rstrip().split()))\n",
    "    result = breakingRecords(scores)\n",
    "    fptr.write(' '.join(map(str, result)))\n",
    "    fptr.write('\\n')\n",
    "\n",
    "    fptr.close()\n"
   ]
  },
  {
   "cell_type": "markdown",
   "metadata": {},
   "source": [
    "# Subarray division\n",
    "\n",
    "https://www.hackerrank.com/challenges/the-birthday-bar/problem?h_r=next-challenge&h_v=zen&h_r=next-challenge&h_v=zen\n",
    "\n"
   ]
  },
  {
   "cell_type": "code",
   "execution_count": 4,
   "metadata": {},
   "outputs": [],
   "source": [
    "#!/bin/python3\n",
    "\n",
    "import math\n",
    "import os\n",
    "import random\n",
    "import re\n",
    "import sys\n",
    "\n",
    "def birthday(s, d, m):\n",
    "    # Write your code here\n",
    "    com = 0\n",
    "    for i in range(len(s)):\n",
    "        seg = s[i:i+m]\n",
    "        if sum(seg) == d:\n",
    "            com += 1\n",
    "    return com\n",
    "if __name__ == '__main__':\n",
    "    fptr = open(os.environ['OUTPUT_PATH'], 'w')\n",
    "    n = int(input().strip())\n",
    "    s = list(map(int, input().rstrip().split()))\n",
    "    first_multiple_input = input().rstrip().split()\n",
    "    d = int(first_multiple_input[0])\n",
    "    m = int(first_multiple_input[1])\n",
    "    result = birthday(s, d, m)\n",
    "    fptr.write(str(result) + '\\n')\n",
    "    fptr.close()\n"
   ]
  },
  {
   "cell_type": "markdown",
   "metadata": {},
   "source": [
    "# Divisib e sum pairs\n",
    "\n",
    "https://www.hackerrank.com/challenges/divisible-sum-pairs/problem?h_r=next-challenge&h_v=zen&h_r=next-challenge&h_v=zen&h_r=next-challenge&h_v=zen "
   ]
  },
  {
   "cell_type": "code",
   "execution_count": 5,
   "metadata": {},
   "outputs": [],
   "source": [
    "#!/bin/python3\n",
    "\n",
    "import math\n",
    "import os\n",
    "import random\n",
    "import re\n",
    "import sys\n",
    "def divisibleSumPairs(n, k, ar):\n",
    "    # Write your code here\n",
    "    no_count = 0\n",
    "    for i in range(n-1):\n",
    "        for j in range(i+1,n):\n",
    "            add = ar[i] +ar[j] \n",
    "            if add%k == 0:\n",
    "                no_count += 1\n",
    "    return no_count  \n",
    "\n",
    "if __name__ == '__main__':\n",
    "    fptr = open(os.environ['OUTPUT_PATH'], 'w')\n",
    "    first_multiple_input = input().rstrip().split()\n",
    "    n = int(first_multiple_input[0])\n",
    "    k = int(first_multiple_input[1])\n",
    "    ar = list(map(int, input().rstrip().split()))\n",
    "    result = divisibleSumPairs(n, k, ar)\n",
    "    fptr.write(str(result) + '\\n')\n",
    "    fptr.close()\n"
   ]
  },
  {
   "cell_type": "markdown",
   "metadata": {},
   "source": [
    "# Migratory birds \n",
    "\n",
    "https://www.hackerrank.com/challenges/migratory-birds/problem?h_r=next-challenge&h_v=zen&h_r=next-challenge&h_v=zen&h_r=next-challenge&h_v=zen&h_r=next-challenge&h_v=zen\n"
   ]
  },
  {
   "cell_type": "code",
   "execution_count": 6,
   "metadata": {},
   "outputs": [],
   "source": [
    "#!/bin/python3\n",
    "\n",
    "import math\n",
    "import os\n",
    "import random\n",
    "import re\n",
    "import sys\n",
    "\n",
    "#\n",
    "# Complete the 'migratoryBirds' function below.\n",
    "#\n",
    "# The function is expected to return an INTEGER.\n",
    "# The function accepts INTEGER_ARRAY arr as parameter.\n",
    "#\n",
    "\n",
    "\n",
    "def migratoryBirds(arr):\n",
    "    data = {} # create empty dictionary\n",
    "    for id in set(arr):\n",
    "        data[id] = arr.count(id)\n",
    "    return max(data,key=(lambda x: data[x]))     \n",
    "\n",
    "if __name__ == '__main__':\n",
    "    fptr = open(os.environ['OUTPUT_PATH'], 'w')\n",
    "    arr_count = int(input().strip())\n",
    "    arr = list(map(int, input().rstrip().split()))\n",
    "    result = migratoryBirds(arr)\n",
    "    fptr.write(str(result) + '\\n')\n",
    "    fptr.close()\n"
   ]
  },
  {
   "cell_type": "markdown",
   "metadata": {},
   "source": [
    "# Picking Numbers\n",
    "\n",
    "https://www.hackerrank.com/challenges/picking-numbers/problem"
   ]
  },
  {
   "cell_type": "code",
   "execution_count": 7,
   "metadata": {},
   "outputs": [],
   "source": [
    "#!/bin/python3\n",
    "\n",
    "import math\n",
    "import os\n",
    "import random\n",
    "import re\n",
    "import sys\n",
    "\n",
    "#\n",
    "# Complete the 'pickingNumbers' function below.\n",
    "#\n",
    "# The function is expected to return an INTEGER.\n",
    "# The function accepts INTEGER_ARRAY a as parameter.\n",
    "#\n",
    "\n",
    "def pickingNumbers(a):\n",
    "    # Write your code here\n",
    "    max_no = 0\n",
    "    for i in range(len(a)):\n",
    "        no_count = 0\n",
    "        count_i = a.count(i)\n",
    "        count_neighbour = a.count(i-1)\n",
    "        no_count = count_i + count_neighbour\n",
    "        if no_count > max_no:\n",
    "            max_no = no_count\n",
    "    return max_no\n",
    "        \n",
    "if __name__ == '__main__':\n",
    "    fptr = open(os.environ['OUTPUT_PATH'], 'w')\n",
    "    n = int(input().strip())\n",
    "    a = list(map(int, input().rstrip().split()))\n",
    "    result = pickingNumbers(a)\n",
    "    fptr.write(str(result) + '\\n')\n",
    "    fptr.close()"
   ]
  },
  {
   "cell_type": "markdown",
   "metadata": {},
   "source": [
    "# Climbing Leaders Board\n",
    "\n",
    "https://www.hackerrank.com/challenges/climbing-the-leaderboard/problem?h_r=next-challenge&h_v=zen"
   ]
  },
  {
   "cell_type": "code",
   "execution_count": 27,
   "metadata": {},
   "outputs": [],
   "source": [
    "#!/bin/python3\n",
    "\n",
    "import math\n",
    "import os\n",
    "import random\n",
    "import re\n",
    "import sys\n",
    "\n",
    "#\n",
    "# Complete the 'climbingLeaderboard' function below.\n",
    "#\n",
    "# The function is expected to return an INTEGER_ARRAY.\n",
    "# The function accepts following parameters:\n",
    "#  1. INTEGER_ARRAY ranked\n",
    "#  2. INTEGER_ARRAY player\n",
    "#\n",
    "\n",
    "def climbingLeaderboard(ranked, player):\n",
    "    # Write your code here\n",
    "    unique_rank = list(set(ranked)) # Remove duplicated values\n",
    "    unique_rank.sort(reverse=True) # sort the unique values in descending order \n",
    "    leng = len(unique_rank)\n",
    "    new_rank = []\n",
    "    for p in player:\n",
    "        while (p >= unique_rank[leng-1]) and (leng > 0):\n",
    "            leng -= 1\n",
    "        new_rank.append(leng + 1)       \n",
    "                  \n",
    "    return new_rank\n",
    "\n",
    "if __name__ == '__main__':\n",
    "    fptr = open(os.environ['OUTPUT_PATH'], 'w')\n",
    "    ranked_count = int(input().strip())\n",
    "    ranked = list(map(int, input().rstrip().split()))\n",
    "    player_count = int(input().strip())\n",
    "    player = list(map(int, input().rstrip().split()))\n",
    "    result = climbingLeaderboard(ranked, player)\n",
    "    fptr.write('\\n'.join(map(str, result)))\n",
    "    fptr.write('\\n')\n",
    "    fptr.close()"
   ]
  },
  {
   "cell_type": "markdown",
   "metadata": {},
   "source": [
    "# The Hurdle Race\n",
    "\n",
    "https://www.hackerrank.com/challenges/the-hurdle-race/problem?h_r=next-challenge&h_v=zen&h_r=next-challenge&h_v=zen\n",
    "\n"
   ]
  },
  {
   "cell_type": "code",
   "execution_count": null,
   "metadata": {},
   "outputs": [],
   "source": [
    "# The Hurdle Race\n",
    "\n",
    "\"\"\"https://www.hackerrank.com/challenges/the-hurdle-race/problem?h_r=next-challenge&h_v=zen&h_r=next-challenge&h_v=zen\"\"\"\n",
    "\n",
    "#!/bin/python3\n",
    "\n",
    "import math\n",
    "import os\n",
    "import random\n",
    "import re\n",
    "import sys\n",
    "\n",
    "#\n",
    "# Complete the 'hurdleRace' function below.\n",
    "#\n",
    "# The function is expected to return an INTEGER.\n",
    "# The function accepts following parameters:\n",
    "#  1. INTEGER k\n",
    "#  2. INTEGER_ARRAY height\n",
    "#\n",
    "\n",
    "def hurdleRace(k, height):\n",
    "    # Write your code here\n",
    "    if k >= max(height):\n",
    "        return 0\n",
    "    else:\n",
    "        return max(height) - k\n",
    "\n",
    "if __name__ == '__main__':\n",
    "    fptr = open(os.environ['OUTPUT_PATH'], 'w')\n",
    "\n",
    "    first_multiple_input = input().rstrip().split()\n",
    "\n",
    "    n = int(first_multiple_input[0])\n",
    "\n",
    "    k = int(first_multiple_input[1])\n",
    "\n",
    "    height = list(map(int, input().rstrip().split()))\n",
    "\n",
    "    result = hurdleRace(k, height)\n",
    "\n",
    "    fptr.write(str(result) + '\\n')\n",
    "\n",
    "    fptr.close()\n",
    "\n",
    "    \n"
   ]
  },
  {
   "cell_type": "markdown",
   "metadata": {},
   "source": [
    "# Designer PDF Viewer\n",
    "\n",
    "https://www.hackerrank.com/challenges/designer-pdf-viewer/problem?h_r=next-challenge&h_v=zen&h_r=next-challenge&h_v=zen&h_r=next-challenge&h_v=zen"
   ]
  },
  {
   "cell_type": "code",
   "execution_count": 51,
   "metadata": {},
   "outputs": [],
   "source": [
    "#!/bin/python3\n",
    "\n",
    "import math\n",
    "import os\n",
    "import random\n",
    "import re\n",
    "import sys\n",
    "\n",
    "#\n",
    "# Complete the 'designerPdfViewer' function below.\n",
    "#\n",
    "# The function is expected to return an INTEGER.\n",
    "# The function accepts following parameters:\n",
    "#  1. INTEGER_ARRAY h\n",
    "#  2. STRING word\n",
    "#\n",
    "\n",
    "def designerPdfViewer(h, word):\n",
    "    # Write your code here\n",
    "    letters = 'abcdefghijklmnopqrstuvwxyz'\n",
    "    \n",
    "    word_list = sorted(word)\n",
    "    word_h    = []\n",
    "    for l in word:\n",
    "        ind = letters.index(l)\n",
    "        word_h.append(h[ind])\n",
    "    area = len(word)*max(word_h)\n",
    "    return area     \n",
    "\n",
    "if __name__ == '__main__':\n",
    "    fptr = open(os.environ['OUTPUT_PATH'], 'w')\n",
    "    h = list(map(int, input().rstrip().split()))\n",
    "    word = input()\n",
    "    result = designerPdfViewer(h, word)\n",
    "    fptr.write(str(result) + '\\n')\n",
    "    fptr.close()\n"
   ]
  },
  {
   "cell_type": "markdown",
   "metadata": {},
   "source": [
    "# Utopian Tree\n",
    "\n",
    "https://www.hackerrank.com/challenges/utopian-tree/problem?h_r=next-challenge&h_v=zen&h_r=next-challenge&h_v=zen&h_r=next-challenge&h_v=zen&h_r=next-challenge&h_v=zen"
   ]
  },
  {
   "cell_type": "code",
   "execution_count": 53,
   "metadata": {},
   "outputs": [],
   "source": [
    "#!/bin/python3\n",
    "\n",
    "import math\n",
    "import os\n",
    "import random\n",
    "import re\n",
    "import sys\n",
    "\n",
    "def utopianTree(n):\n",
    "    if n < 3:\n",
    "        return n + 1\n",
    "    if n % 2 == 0:\n",
    "        return (utopianTree(n - 2) * 2) + 1\n",
    "    else:\n",
    "        return (utopianTree(n - 2) + 1) * 2\n",
    "            \n",
    "if __name__ == '__main__':\n",
    "    fptr = open(os.environ['OUTPUT_PATH'], 'w')\n",
    "\n",
    "    t = int(input().strip())\n",
    "\n",
    "    for t_itr in range(t):\n",
    "        n = int(input().strip())\n",
    "\n",
    "        result = utopianTree(n)\n",
    "\n",
    "        fptr.write(str(result) + '\\n')\n",
    "\n",
    "    fptr.close()\n"
   ]
  },
  {
   "cell_type": "markdown",
   "metadata": {},
   "source": [
    "# Angry professor\n",
    "https://www.hackerrank.com/challenges/angry-professor/problem?h_r=next-challenge&h_v=zen&h_r=next-challenge&h_v=zen&h_r=next-challenge&h_v=zen&h_r=next-challenge&h_v=zen&h_r=next-challenge&h_v=zen\n"
   ]
  },
  {
   "cell_type": "code",
   "execution_count": 56,
   "metadata": {},
   "outputs": [],
   "source": [
    "#!/bin/python3\n",
    "\n",
    "import math\n",
    "import os\n",
    "import random\n",
    "import re\n",
    "import sys\n",
    "\n",
    "#\n",
    "# Complete the 'angryProfessor' function below.\n",
    "#\n",
    "# The function is expected to return a STRING.\n",
    "# The function accepts following parameters:\n",
    "#  1. INTEGER k\n",
    "#  2. INTEGER_ARRAY a\n",
    "#\n",
    "\n",
    "def angryProfessor(k, a):\n",
    "    # Write your code here\n",
    "    On_time = [1 for i in a if i <= 0]\n",
    "    \n",
    "    if sum(On_time) >= k:\n",
    "        return 'NO'\n",
    "    else:\n",
    "        return 'YES'\n",
    "\n",
    "if __name__ == '__main__':\n",
    "    fptr = open(os.environ['OUTPUT_PATH'], 'w')\n",
    "    t = int(input().strip())\n",
    "    for t_itr in range(t):\n",
    "        first_multiple_input = input().rstrip().split()\n",
    "        n = int(first_multiple_input[0])\n",
    "        k = int(first_multiple_input[1])\n",
    "        a = list(map(int, input().rstrip().split()))\n",
    "        result = angryProfessor(k, a)\n",
    "        fptr.write(result + '\\n')\n",
    "    fptr.close()\n"
   ]
  },
  {
   "cell_type": "markdown",
   "metadata": {},
   "source": [
    "# Beautiful Days at the Movies \n",
    "\n",
    "https://www.hackerrank.com/challenges/beautiful-days-at-the-movies/problem?h_r=next-challenge&h_v=zen&h_r=next-challenge&h_v=zen&h_r=next-challenge&h_v=zen&h_r=next-challenge&h_v=zen&h_r=next-challenge&h_v=zen&h_r=next-challenge&h_v=zen"
   ]
  },
  {
   "cell_type": "code",
   "execution_count": 58,
   "metadata": {},
   "outputs": [],
   "source": [
    "#!/bin/python3\n",
    "\n",
    "import math\n",
    "import os\n",
    "import random\n",
    "import re\n",
    "import sys\n",
    "\n",
    "#\n",
    "# Complete the 'beautifulDays' function below.\n",
    "#\n",
    "# The function is expected to return an INTEGER.\n",
    "# The function accepts following parameters:\n",
    "#  1. INTEGER i\n",
    "#  2. INTEGER j\n",
    "#  3. INTEGER k\n",
    "#\n",
    "\n",
    "def beautifulDays(i, j, k):\n",
    "    beauty_days = [d for d in range(i, j+1) if (d - int(str(d)[::-1]))%k == 0]\n",
    "    return len(beauty_days)\n",
    "\n",
    "if __name__ == '__main__':\n",
    "    fptr = open(os.environ['OUTPUT_PATH'], 'w')\n",
    "    first_multiple_input = input().rstrip().split()\n",
    "    i = int(first_multiple_input[0])\n",
    "    j = int(first_multiple_input[1])\n",
    "    k = int(first_multiple_input[2])\n",
    "    result = beautifulDays(i, j, k)\n",
    "    fptr.write(str(result) + '\\n')\n",
    "    fptr.close()\n"
   ]
  },
  {
   "cell_type": "markdown",
   "metadata": {},
   "source": [
    "# Viral Advertising\n",
    "\n",
    "https://www.hackerrank.com/challenges/strange-advertising/problem\n"
   ]
  },
  {
   "cell_type": "code",
   "execution_count": 60,
   "metadata": {},
   "outputs": [],
   "source": [
    "#!/bin/python3\n",
    "\n",
    "import math\n",
    "import os\n",
    "import random\n",
    "import re\n",
    "import sys\n",
    "\n",
    "#\n",
    "# Complete the 'viralAdvertising' function below.\n",
    "#\n",
    "# The function is expected to return an INTEGER.\n",
    "# The function accepts INTEGER n as parameter.\n",
    "#\n",
    "\n",
    "def viralAdvertising(n):\n",
    "    # Write your code here\n",
    "    com = 0 # initially\n",
    "    shared = 5\n",
    "    for a in range(n):\n",
    "        liked = math.floor(shared/2)\n",
    "        com += liked\n",
    "        shared = 3*liked\n",
    "    return com\n",
    "\n",
    "if __name__ == '__main__':\n",
    "    fptr = open(os.environ['OUTPUT_PATH'], 'w')\n",
    "    n = int(input().strip())\n",
    "    result = viralAdvertising(n)\n",
    "    fptr.write(str(result) + '\\n')\n",
    "    fptr.close()\n"
   ]
  },
  {
   "cell_type": "markdown",
   "metadata": {},
   "source": [
    "# Save the Prisoner! \n",
    "\n",
    "https://www.hackerrank.com/challenges/save-the-prisoner/problem?h_r=next-challenge&h_v=zen"
   ]
  },
  {
   "cell_type": "code",
   "execution_count": 69,
   "metadata": {},
   "outputs": [],
   "source": [
    "#!/bin/python3\n",
    "\n",
    "import math\n",
    "import os\n",
    "import random\n",
    "import re\n",
    "import sys\n",
    "\n",
    "#\n",
    "# Complete the 'saveThePrisoner' function below.\n",
    "#\n",
    "# The function is expected to return an INTEGER.\n",
    "# The function accepts following parameters:\n",
    "#  1. INTEGER n\n",
    "#  2. INTEGER m\n",
    "#  3. INTEGER s\n",
    "#\n",
    "\n",
    "def saveThePrisoner(n, m, s):\n",
    "    # Write your code here\n",
    "    # calculate the round \n",
    "    \n",
    "    warn = (s + m - 1)    \n",
    "    return (n if warn % n == 0 else warn % n)\n",
    "     \n",
    "if __name__ == '__main__':\n",
    "    fptr = open(os.environ['OUTPUT_PATH'], 'w')\n",
    "\n",
    "    t = int(input().strip())\n",
    "\n",
    "    for t_itr in range(t):\n",
    "        first_multiple_input = input().rstrip().split()\n",
    "\n",
    "        n = int(first_multiple_input[0])\n",
    "\n",
    "        m = int(first_multiple_input[1])\n",
    "\n",
    "        s = int(first_multiple_input[2])\n",
    "\n",
    "        result = saveThePrisoner(n, m, s)\n",
    "\n",
    "        fptr.write(str(result) + '\\n')\n",
    "\n",
    "    fptr.close()\n"
   ]
  },
  {
   "cell_type": "markdown",
   "metadata": {},
   "source": [
    "# Circular Array Rotation\n",
    "\n",
    "https://www.hackerrank.com/challenges/circular-array-rotation/problem"
   ]
  },
  {
   "cell_type": "code",
   "execution_count": null,
   "metadata": {},
   "outputs": [],
   "source": [
    "#!/bin/python3\n",
    "\n",
    "import math, os, random, re, sys\n",
    "\n",
    "#\n",
    "# Complete the 'circularArrayRotation' function below.\n",
    "#\n",
    "# The function is expected to return an INTEGER_ARRAY.\n",
    "# The function accepts following parameters:\n",
    "#  1. INTEGER_ARRAY a\n",
    "#  2. INTEGER k\n",
    "#  3. INTEGER_ARRAY queries\n",
    "#\n",
    "\n",
    "from collections import deque\n",
    "def circularArrayRotation(a, k, queries):\n",
    "    d = deque(a)\n",
    "    d.rotate(k)\n",
    "    \n",
    "    res = []\n",
    "    for i in range(len(queries)):\n",
    "        res.append(d[queries[i]])\n",
    "    return res\n",
    "    \n",
    "    # Write your code here\n",
    "\n",
    "if __name__ == '__main__':\n",
    "    fptr = open(os.environ['OUTPUT_PATH'], 'w')\n",
    "    first_multiple_input = input().rstrip().split()\n",
    "    n = int(first_multiple_input[0])\n",
    "    k = int(first_multiple_input[1])\n",
    "    q = int(first_multiple_input[2])\n",
    "    a = list(map(int, input().rstrip().split()))\n",
    "    queries = []\n",
    "    for _ in range(q):\n",
    "        queries_item = int(input().strip())\n",
    "        queries.append(queries_item)\n",
    "    result = circularArrayRotation(a, k, queries)\n",
    "    fptr.write('\\n'.join(map(str, result)))\n",
    "    fptr.write('\\n')\n",
    "    fptr.close()\n"
   ]
  },
  {
   "cell_type": "markdown",
   "metadata": {},
   "source": [
    "# Sequence Equation\n",
    "\n",
    "https://www.hackerrank.com/challenges/permutation-equation/problem?h_r=next-challenge&h_v=zen"
   ]
  },
  {
   "cell_type": "code",
   "execution_count": 71,
   "metadata": {},
   "outputs": [],
   "source": [
    "#!/bin/python3\n",
    "\n",
    "import math\n",
    "import os\n",
    "import random\n",
    "import re\n",
    "import sys\n",
    "\n",
    "#\n",
    "# Complete the 'permutationEquation' function below.\n",
    "#\n",
    "# The function is expected to return an INTEGER_ARRAY.\n",
    "# The function accepts INTEGER_ARRAY p as parameter.\n",
    "#\n",
    "\n",
    "def permutationEquation(p):\n",
    "    # Write your code here\n",
    "    ind_y = []\n",
    "    for i in range(1, len(p)+1):\n",
    "        ind_x = p.index(i)\n",
    "        in_y  = p.index(ind_x + 1) + 1 # since indexing starts at 0 in python\n",
    "        ind_y.append(in_y)\n",
    "    return ind_y\n",
    "\n",
    "if __name__ == '__main__':\n",
    "    fptr = open(os.environ['OUTPUT_PATH'], 'w')\n",
    "\n",
    "    n = int(input().strip())\n",
    "\n",
    "    p = list(map(int, input().rstrip().split()))\n",
    "\n",
    "    result = permutationEquation(p)\n",
    "\n",
    "    fptr.write('\\n'.join(map(str, result)))\n",
    "    fptr.write('\\n')\n",
    "\n",
    "    fptr.close()\n"
   ]
  },
  {
   "cell_type": "markdown",
   "metadata": {},
   "source": [
    "# Jumping on the Clouds: Revisited\n",
    "\n",
    "https://www.hackerrank.com/challenges/jumping-on-the-clouds-revisited/problem?h_r=next-challenge&h_v=zen&h_r=next-challenge&h_v=zen"
   ]
  },
  {
   "cell_type": "code",
   "execution_count": 81,
   "metadata": {},
   "outputs": [],
   "source": [
    "#!/bin/python3\n",
    "\n",
    "import math\n",
    "import os\n",
    "import random\n",
    "import re\n",
    "import sys\n",
    "\n",
    "# Complete the jumpingOnClouds function below.\n",
    "def jumpingOnClouds(c, k):\n",
    "    e = 100\n",
    "    # Initial losses of energy \n",
    "    i = k%len(c) # since i=0 initially\n",
    "    e -= 2*c[i] + 1 # if c[i]=0 unit energy loss\n",
    "    # the rest the game's energy loss is calculated as:\n",
    "    \n",
    "    while i != 0:\n",
    "        # update i\n",
    "        i = (i+k)%len(c)\n",
    "        e -= 2*c[i]+ 1\n",
    "    return e\n",
    "            \n",
    "        \n",
    "\n",
    "if __name__ == '__main__':\n",
    "    fptr = open(os.environ['OUTPUT_PATH'], 'w')\n",
    "\n",
    "    nk = input().split()\n",
    "\n",
    "    n = int(nk[0])\n",
    "\n",
    "    k = int(nk[1])\n",
    "\n",
    "    c = list(map(int, input().rstrip().split()))\n",
    "\n",
    "    result = jumpingOnClouds(c, k)\n",
    "\n",
    "    fptr.write(str(result) + '\\n')\n",
    "\n",
    "    fptr.close()"
   ]
  },
  {
   "cell_type": "markdown",
   "metadata": {},
   "source": [
    "# Find Digits\n",
    "\n",
    "https://www.hackerrank.com/challenges/find-digits/problem?h_r=next-challenge&h_v=zen&h_r=next-challenge&h_v=zen&h_r=next-challenge&h_v=zen"
   ]
  },
  {
   "cell_type": "code",
   "execution_count": null,
   "metadata": {},
   "outputs": [],
   "source": [
    "#!/bin/python3\n",
    "\n",
    "import math\n",
    "import os\n",
    "import random\n",
    "import re\n",
    "import sys\n",
    "\n",
    "#\n",
    "# Complete the 'findDigits' function below.\n",
    "#\n",
    "# The function is expected to return an INTEGER.\n",
    "# The function accepts INTEGER n as parameter.\n",
    "#\n",
    "\n",
    "def findDigits(n):\n",
    "    # Write your code here\n",
    "    cout = 0\n",
    "    for i in map(int, str(n)):\n",
    "        if (i != 0):\n",
    "            if (n%i == 0): \n",
    "                cout += 1\n",
    "    return cout\n",
    "        \n",
    "\n",
    "if __name__ == '__main__':\n",
    "    fptr = open(os.environ['OUTPUT_PATH'], 'w')\n",
    "\n",
    "    t = int(input().strip())\n",
    "\n",
    "    for t_itr in range(t):\n",
    "        n = int(input().strip())\n",
    "\n",
    "        result = findDigits(n)\n",
    "\n",
    "        fptr.write(str(result) + '\\n')\n",
    "\n",
    "    fptr.close()\n"
   ]
  },
  {
   "cell_type": "markdown",
   "metadata": {},
   "source": [
    "# Extra Long Factorials\n",
    "\n",
    "https://www.hackerrank.com/challenges/extra-long-factorials/problem?h_r=next-challenge&h_v=zen&h_r=next-challenge&h_v=zen&h_r=next-challenge&h_v=zen&h_r=next-challenge&h_v=zen"
   ]
  },
  {
   "cell_type": "code",
   "execution_count": 6,
   "metadata": {},
   "outputs": [],
   "source": [
    "#!/bin/python3\n",
    "\n",
    "import math\n",
    "import os\n",
    "import random\n",
    "import re\n",
    "import sys\n",
    "\n",
    "#\n",
    "# Complete the 'extraLongFactorials' function below.\n",
    "#\n",
    "# The function accepts INTEGER n as parameter.\n",
    "#\n",
    "\n",
    "def extraLongFactorials(n):\n",
    "    # Write your code here\n",
    "    print(math.factorial(n))\n",
    "\n",
    "if __name__ == '__main__':\n",
    "    n = int(input().strip())\n",
    "\n",
    "    extraLongFactorials(n)\n"
   ]
  },
  {
   "cell_type": "markdown",
   "metadata": {},
   "source": [
    "# Append and Delete: chanllenging\n",
    "\n",
    "https://www.hackerrank.com/challenges/append-and-delete/problem?h_r=next-challenge&h_v=zen&h_r=next-challenge&h_v=zen&h_r=next-challenge&h_v=zen&h_r=next-challenge&h_v=zen&h_r=next-challenge&h_v=zen\n"
   ]
  },
  {
   "cell_type": "code",
   "execution_count": 8,
   "metadata": {},
   "outputs": [],
   "source": [
    "#!/bin/python3\n",
    "\n",
    "import math\n",
    "import os\n",
    "import random\n",
    "import re\n",
    "import sys\n",
    "\n",
    "#\n",
    "# Complete the 'appendAndDelete' function below.\n",
    "#\n",
    "# The function is expected to return a STRING.\n",
    "# The function accepts following parameters:\n",
    "#  1. STRING s\n",
    "#  2. STRING t\n",
    "#  3. INTEGER k\n",
    "#\n",
    "\n",
    "def appendAndDelete(s, t, k):\n",
    "    # Write your code here\n",
    "    ns, nt = len(s), len(t)\n",
    "    numSameChars = min(ns, nt) # Assume the same \n",
    "    for i in range(nt):\n",
    "        if s[:i] != t[:i]:\n",
    "            numSameChars = i-1 #update the length of the same charachters\n",
    "            break\n",
    "\n",
    "    dif = ns-numSameChars + nt-numSameChars      \n",
    "    if (dif <= k and dif%2 == k%2) or ns + nt < k:\n",
    "        ans = 'Yes'\n",
    "    else: ans = 'No'\n",
    "    return ans\n",
    "\n",
    "if __name__ == '__main__':\n",
    "    fptr = open(os.environ['OUTPUT_PATH'], 'w')\n",
    "\n",
    "    s = input()\n",
    "\n",
    "    t = input()\n",
    "\n",
    "    k = int(input().strip())\n",
    "\n",
    "    result = appendAndDelete(s, t, k)\n",
    "\n",
    "    fptr.write(result + '\\n')\n",
    "\n",
    "    fptr.close()\n"
   ]
  },
  {
   "cell_type": "markdown",
   "metadata": {},
   "source": [
    "# Sherlock and Squares\n",
    "\n",
    "https://www.hackerrank.com/challenges/sherlock-and-squares/problem?h_r=next-challenge&h_v=zen&h_r=next-challenge&h_v=zen&h_r=next-challenge&h_v=zen&h_r=next-challenge&h_v=zen&h_r=next-challenge&h_v=zen&h_r=next-challenge&h_v=zen"
   ]
  },
  {
   "cell_type": "code",
   "execution_count": 22,
   "metadata": {},
   "outputs": [
    {
     "data": {
      "text/plain": [
       "0.0"
      ]
     },
     "execution_count": 22,
     "metadata": {},
     "output_type": "execute_result"
    }
   ],
   "source": [
    "#!/bin/python3\n",
    "\n",
    "import math\n",
    "import os\n",
    "import random\n",
    "import re\n",
    "import sys\n",
    "\n",
    "#\n",
    "# Complete the 'squares' function below.\n",
    "#\n",
    "# The function is expected to return an INTEGER.\n",
    "# The function accepts following parameters:\n",
    "#  1. INTEGER a\n",
    "#  2. INTEGER b\n",
    "#\n",
    "\n",
    "def squares(a, b):\n",
    "    # Write your code here\n",
    "    if a % math.sqrt(a) == 0:\n",
    "        nextN = math.floor(math.sqrt(a))\n",
    "    else:\n",
    "        nextN = math.floor(math.sqrt(a)) + 1\n",
    "    \n",
    "    #if b%math.sqrt(b)%\n",
    "    \n",
    "    backN = math.floor(math.sqrt(b)) # + 1\n",
    "    nu_int = backN - nextN + 1\n",
    "    return nu_int\n",
    "\n",
    "\n",
    "\n",
    "if __name__ == '__main__':\n",
    "    fptr = open(os.environ['OUTPUT_PATH'], 'w')\n",
    "\n",
    "    q = int(input().strip())\n",
    "\n",
    "    for q_itr in range(q):\n",
    "        first_multiple_input = input().rstrip().split()\n",
    "\n",
    "        a = int(first_multiple_input[0])\n",
    "\n",
    "        b = int(first_multiple_input[1])\n",
    "\n",
    "        result = squares(a, b)\n",
    "\n",
    "        fptr.write(str(result) + '\\n')\n",
    "\n",
    "    fptr.close()"
   ]
  },
  {
   "cell_type": "markdown",
   "metadata": {},
   "source": [
    "# Library Fine\n",
    "\n",
    "https://www.hackerrank.com/challenges/library-fine/problem?h_r=next-challenge&h_v=zen&h_r=next-challenge&h_v=zen&h_r=next-challenge&h_v=zen&h_r=next-challenge&h_v=zen&h_r=next-challenge&h_v=zen&h_r=next-challenge&h_v=zen&h_r=next-challenge&h_v=zen"
   ]
  },
  {
   "cell_type": "code",
   "execution_count": 36,
   "metadata": {},
   "outputs": [],
   "source": [
    "#!/bin/python3\n",
    "\n",
    "import math\n",
    "import os\n",
    "import random\n",
    "import re\n",
    "import sys\n",
    "\n",
    "#\n",
    "# Complete the 'libraryFine' function below.\n",
    "#\n",
    "# The function is expected to return an INTEGER.\n",
    "# The function accepts following parameters:\n",
    "#  1. INTEGER d1\n",
    "#  2. INTEGER m1\n",
    "#  3. INTEGER y1\n",
    "#  4. INTEGER d2\n",
    "#  5. INTEGER m2\n",
    "#  6. INTEGER y2\n",
    "#\n",
    "\n",
    "def libraryFine(d1, m1, y1, d2, m2, y2):    \n",
    "    if y1 < y2: # green\n",
    "        fine = 0\n",
    "    elif y1 == y2:\n",
    "        if m1 < m2:\n",
    "            fine = 0\n",
    "        elif m1 == m2:\n",
    "            if d1 <= d2:\n",
    "                fine = 0\n",
    "            else:\n",
    "                fine = (d1 - d2)*15\n",
    "        else:\n",
    "            fine = (m1-m2)*500\n",
    "    else:\n",
    "        fine = 10000 \n",
    "    \n",
    "    return fine\n",
    "    # Write your code here\n",
    "\n",
    "if __name__ == '__main__':\n",
    "    fptr = open(os.environ['OUTPUT_PATH'], 'w')\n",
    "\n",
    "    first_multiple_input = input().rstrip().split()\n",
    "\n",
    "    d1 = int(first_multiple_input[0])\n",
    "\n",
    "    m1 = int(first_multiple_input[1])\n",
    "\n",
    "    y1 = int(first_multiple_input[2])\n",
    "\n",
    "    second_multiple_input = input().rstrip().split()\n",
    "\n",
    "    d2 = int(second_multiple_input[0])\n",
    "\n",
    "    m2 = int(second_multiple_input[1])\n",
    "\n",
    "    y2 = int(second_multiple_input[2])\n",
    "\n",
    "    result = libraryFine(d1, m1, y1, d2, m2, y2)\n",
    "\n",
    "    fptr.write(str(result) + '\\n')\n",
    "\n",
    "    fptr.close()\n"
   ]
  },
  {
   "cell_type": "markdown",
   "metadata": {},
   "source": [
    "# Cut the sticks\n",
    "\n",
    "https://www.hackerrank.com/challenges/cut-the-sticks/problem?h_r=next-challenge&h_v=zen&h_r=next-challenge&h_v=zen&h_r=next-challenge&h_v=zen&h_r=next-challenge&h_v=zen&h_r=next-challenge&h_v=zen&h_r=next-challenge&h_v=zen&h_r=next-challenge&h_v=zen&h_r=next-challenge&h_v=zen"
   ]
  },
  {
   "cell_type": "code",
   "execution_count": 50,
   "metadata": {},
   "outputs": [
    {
     "data": {
      "text/plain": [
       "list"
      ]
     },
     "execution_count": 50,
     "metadata": {},
     "output_type": "execute_result"
    }
   ],
   "source": [
    "#!/bin/python3\n",
    "\n",
    "import math\n",
    "import os\n",
    "import random\n",
    "import re\n",
    "import sys\n",
    "\n",
    "#\n",
    "# Complete the 'cutTheSticks' function below.\n",
    "#\n",
    "# The function is expected to return an INTEGER_ARRAY.\n",
    "# The function accepts INTEGER_ARRAY arr as parameter.\n",
    "#\n",
    "\n",
    "def cutTheSticks(arr):\n",
    "    # Write your code here\n",
    "    \n",
    "     \n",
    "    no_s = []\n",
    "    while arr:\n",
    "        n = len(arr)\n",
    "        arr_min = min(arr)\n",
    "        arr = [x for k, x in enumerate(arr) if x != arr_min]\n",
    "        no_s.append(n)\n",
    "        #arr = arr - min(arr)    \n",
    "        #ind = math.where(arr == 0)\n",
    "        #math.delete(arr, ind)\n",
    "        \n",
    "    return no_s\n",
    "    \n",
    "if __name__ == '__main__':\n",
    "    fptr = open(os.environ['OUTPUT_PATH'], 'w')\n",
    "\n",
    "    n = int(input().strip())\n",
    "\n",
    "    arr = list(map(int, input().rstrip().split()))\n",
    "\n",
    "    result = cutTheSticks(arr)\n",
    "\n",
    "    fptr.write('\\n'.join(map(str, result)))\n",
    "    fptr.write('\\n')\n",
    "\n",
    "    fptr.close()\n"
   ]
  },
  {
   "cell_type": "markdown",
   "metadata": {},
   "source": [
    "# Non-Divisible Subset\n",
    "\n",
    "https://www.hackerrank.com/challenges/non-divisible-subset/problem"
   ]
  },
  {
   "cell_type": "code",
   "execution_count": 79,
   "metadata": {},
   "outputs": [
    {
     "data": {
      "text/plain": [
       "[0, 3, 1]"
      ]
     },
     "execution_count": 79,
     "metadata": {},
     "output_type": "execute_result"
    }
   ],
   "source": [
    "#!/bin/python3\n",
    "\n",
    "import math\n",
    "import os\n",
    "import random\n",
    "import re\n",
    "import sys\n",
    "\n",
    "#\n",
    "# Complete the 'nonDivisibleSubset' function below.\n",
    "#\n",
    "# The function is expected to return an INTEGER.\n",
    "# The function accepts following parameters:\n",
    "#  1. INTEGER k\n",
    "#  2. INTEGER_ARRAY s\n",
    "#\n",
    "\n",
    "def nonDivisibleSubset(k, s):\n",
    "    # Write your code here\n",
    "    \n",
    "    even_odd = [0] * k\n",
    "    for i in s:\n",
    "        even_odd[i%k]+=1#update to 1 if the element is evenly divisible by k else odd\n",
    "\n",
    "    count = min(even_odd[0], 1)\n",
    "    for i in range(1, k//2+1):\n",
    "        if i != k - i:\n",
    "            count += max(even_odd[i], even_odd[k-i])\n",
    "    if k % 2 == 0: \n",
    "        count += 1\n",
    "\n",
    "    return count\n",
    "if __name__ == '__main__':\n",
    "    fptr = open(os.environ['OUTPUT_PATH'], 'w')\n",
    "\n",
    "    first_multiple_input = input().rstrip().split()\n",
    "\n",
    "    n = int(first_multiple_input[0])\n",
    "\n",
    "    k = int(first_multiple_input[1])\n",
    "\n",
    "    s = list(map(int, input().rstrip().split()))\n",
    "\n",
    "    result = nonDivisibleSubset(k, s)\n",
    "\n",
    "    fptr.write(str(result) + '\\n')\n",
    "\n",
    "    fptr.close()\n"
   ]
  },
  {
   "cell_type": "markdown",
   "metadata": {},
   "source": [
    "# Equalize the Array\n",
    "\n",
    "https://www.hackerrank.com/challenges/equality-in-a-array/problem?h_r=next-challenge&h_v=zen"
   ]
  },
  {
   "cell_type": "code",
   "execution_count": 81,
   "metadata": {},
   "outputs": [],
   "source": [
    "#!/bin/python3\n",
    "\n",
    "import math\n",
    "import os\n",
    "import random\n",
    "import re\n",
    "import sys\n",
    "\n",
    "#\n",
    "# Complete the 'equalizeArray' function below.\n",
    "#\n",
    "# The function is expected to return an INTEGER.\n",
    "# The function accepts INTEGER_ARRAY arr as parameter.\n",
    "#\n",
    "\n",
    "def equalizeArray(data):\n",
    "    # Write your code here\n",
    "    # Count = Counter(arr)\n",
    "    \n",
    "    return len(data) - max([arr.count(value) for value in data]) #data,key=(lambda x: data[x]))\n",
    "    ##return (data)\n",
    "    #return len(arr) - max(data)\n",
    "\n",
    "if __name__ == '__main__':\n",
    "    fptr = open(os.environ['OUTPUT_PATH'], 'w')\n",
    "\n",
    "    n = int(input().strip())\n",
    "\n",
    "    arr = list(map(int, input().rstrip().split()))\n",
    "\n",
    "    result = equalizeArray(arr)\n",
    "\n",
    "    fptr.write(str(result) + '\\n')\n",
    "\n",
    "    fptr.close()\n"
   ]
  },
  {
   "cell_type": "markdown",
   "metadata": {},
   "source": [
    "# Queen's Attack II\n",
    "\n",
    "https://www.hackerrank.com/challenges/queens-attack-2/problem"
   ]
  },
  {
   "cell_type": "code",
   "execution_count": 84,
   "metadata": {},
   "outputs": [],
   "source": [
    "#!/bin/python3\n",
    "\n",
    "import math\n",
    "import os\n",
    "import random\n",
    "import re\n",
    "import sys\n",
    "\n",
    "#\n",
    "# Complete the 'queensAttack' function below.\n",
    "#\n",
    "# The function is expected to return an INTEGER.\n",
    "# The function accepts following parameters:\n",
    "#  1. INTEGER n\n",
    "#  2. INTEGER k\n",
    "#  3. INTEGER r_q\n",
    "#  4. INTEGER c_q\n",
    "#  5. 2D_INTEGER_ARRAY obstacles\n",
    "#\n",
    "\n",
    "\n",
    "\n",
    "def queensAttack(n, k, r_q, c_q, obst):\n",
    "\n",
    "    obstacles = {(ob[0],ob[1]) for ob in obst}\n",
    "\n",
    "    mvs, count = [(1,0),(0,1),(-1,0),(0,-1),(1,1),(-1,-1),(-1,1),(1,-1)], 0\n",
    "\n",
    "    for m in mvs:\n",
    "        cr, cc = r_q, c_q\n",
    "        while (cr + m[0] >= 1 and cr + m[0] <= n) and (cc + m[1] >= 1 and cc + m[1] <= n):\n",
    "            cr += m[0]\n",
    "            cc += m[1]\n",
    "            if (cr, cc) in obstacles:break\n",
    "            count += 1\n",
    "\n",
    "    return count\n",
    "\n",
    "\n",
    "if __name__ == '__main__':\n",
    "    fptr = open(os.environ['OUTPUT_PATH'], 'w')\n",
    "\n",
    "    first_multiple_input = input().rstrip().split()\n",
    "\n",
    "    n = int(first_multiple_input[0])\n",
    "\n",
    "    k = int(first_multiple_input[1])\n",
    "\n",
    "    second_multiple_input = input().rstrip().split()\n",
    "\n",
    "    r_q = int(second_multiple_input[0])\n",
    "\n",
    "    c_q = int(second_multiple_input[1])\n",
    "\n",
    "    obstacles = []\n",
    "\n",
    "    for _ in range(k):\n",
    "        obstacles.append(list(map(int, input().rstrip().split())))\n",
    "\n",
    "    result = queensAttack(n, k, r_q, c_q, obstacles)\n",
    "\n",
    "    fptr.write(str(result) + '\\n')\n",
    "\n",
    "    fptr.close()"
   ]
  },
  {
   "cell_type": "markdown",
   "metadata": {},
   "source": [
    "# ACM ICPC Team\n",
    "\n",
    "https://www.hackerrank.com/challenges/acm-icpc-team/problem?h_r=next-challenge&h_v=zen&h_r=next-challenge&h_v=zen&h_r=next-challenge&h_v=zen"
   ]
  },
  {
   "cell_type": "code",
   "execution_count": 88,
   "metadata": {},
   "outputs": [],
   "source": [
    "#!/bin/python3\n",
    "\n",
    "import math\n",
    "import os\n",
    "import random\n",
    "import re\n",
    "import sys\n",
    "\n",
    "#\n",
    "# Complete the 'acmTeam' function below.\n",
    "#\n",
    "# The function is expected to return an INTEGER_ARRAY.\n",
    "# The function accepts STRING_ARRAY topic as parameter.\n",
    "#\n",
    "from itertools import combinations\n",
    "def acmTeam(topic):\n",
    "    # Write your code here\n",
    "    max_no_topic, max_count = 0, 0\n",
    "    for i in combinations(topic, 2):\n",
    "        st = bin(int(i[0], 2) | int(i[1], 2)).count('1')\n",
    "        if max_no_topic < st:\n",
    "            max_no_topic, max_count = st, 0\n",
    "        if st == max_no_topic:\n",
    "            max_count += 1\n",
    "    return (max_no_topic, max_count)\n",
    "\n",
    "if __name__ == '__main__':\n",
    "    fptr = open(os.environ['OUTPUT_PATH'], 'w')\n",
    "\n",
    "    first_multiple_input = input().rstrip().split()\n",
    "\n",
    "    n = int(first_multiple_input[0])\n",
    "\n",
    "    m = int(first_multiple_input[1])\n",
    "\n",
    "    topic = []\n",
    "\n",
    "    for _ in range(n):\n",
    "        topic_item = input()\n",
    "        topic.append(topic_item)\n",
    "\n",
    "    result = acmTeam(topic)\n",
    "\n",
    "    fptr.write('\\n'.join(map(str, result)))\n",
    "    fptr.write('\\n')\n",
    "\n",
    "    fptr.close()"
   ]
  },
  {
   "cell_type": "markdown",
   "metadata": {},
   "source": [
    "# Taum and B'day\n",
    "\n",
    "https://www.hackerrank.com/challenges/taum-and-bday/problem"
   ]
  },
  {
   "cell_type": "code",
   "execution_count": 90,
   "metadata": {},
   "outputs": [],
   "source": [
    "#!/bin/python3\n",
    "\n",
    "import math\n",
    "import os\n",
    "import random\n",
    "import re\n",
    "import sys\n",
    "\n",
    "#\n",
    "# Complete the 'taumBday' function below.\n",
    "#\n",
    "# The function is expected to return a LONG_INTEGER.\n",
    "# The function accepts following parameters:\n",
    "#  1. INTEGER b\n",
    "#  2. INTEGER w\n",
    "#  3. INTEGER bc\n",
    "#  4. INTEGER wc\n",
    "#  5. INTEGER z\n",
    "#\n",
    "\n",
    "def taumBday(b, w, bc, wc, z):\n",
    "    # Write your code here\n",
    "    \n",
    "    \n",
    "    return min(bc, wc + z)*b + min(bc + z, wc)*w \n",
    "\n",
    "if __name__ == '__main__':\n",
    "    fptr = open(os.environ['OUTPUT_PATH'], 'w')\n",
    "\n",
    "    t = int(input().strip())\n",
    "\n",
    "    for t_itr in range(t):\n",
    "        first_multiple_input = input().rstrip().split()\n",
    "\n",
    "        b = int(first_multiple_input[0])\n",
    "\n",
    "        w = int(first_multiple_input[1])\n",
    "\n",
    "        second_multiple_input = input().rstrip().split()\n",
    "\n",
    "        bc = int(second_multiple_input[0])\n",
    "\n",
    "        wc = int(second_multiple_input[1])\n",
    "\n",
    "        z = int(second_multiple_input[2])\n",
    "\n",
    "        result = taumBday(b, w, bc, wc, z)\n",
    "\n",
    "        fptr.write(str(result) + '\\n')\n",
    "\n",
    "    fptr.close()"
   ]
  },
  {
   "cell_type": "markdown",
   "metadata": {},
   "source": [
    "# Organizing Containers of Balls\n",
    "\n",
    "\n",
    "https://www.hackerrank.com/challenges/organizing-containers-of-balls/problem"
   ]
  },
  {
   "cell_type": "code",
   "execution_count": 92,
   "metadata": {},
   "outputs": [],
   "source": [
    "#!/bin/python3\n",
    "\n",
    "import math\n",
    "import os\n",
    "import random\n",
    "import re\n",
    "import sys\n",
    "\n",
    "#\n",
    "# Complete the 'organizingContainers' function below.\n",
    "#\n",
    "# The function is expected to return a STRING.\n",
    "# The function accepts 2D_INTEGER_ARRAY container as parameter.\n",
    "#\n",
    "\n",
    "def organizingContainers(container):\n",
    "    # Write your code here\n",
    "    tot_col = sorted([sum(c) for c in zip(*container)]) #total colors\n",
    "    tot_cap = sorted([sum(ca) for ca in container])\n",
    "    \n",
    "    return \"Possible\" if tot_cap == tot_col else \"Impossible\"\n",
    "    \n",
    "    \n",
    "    \n",
    "\n",
    "if __name__ == '__main__':\n",
    "    fptr = open(os.environ['OUTPUT_PATH'], 'w')\n",
    "\n",
    "    q = int(input().strip())\n",
    "\n",
    "    for q_itr in range(q):\n",
    "        n = int(input().strip())\n",
    "\n",
    "        container = []\n",
    "\n",
    "        for _ in range(n):\n",
    "            container.append(list(map(int, input().rstrip().split())))\n",
    "\n",
    "        result = organizingContainers(container)\n",
    "\n",
    "        fptr.write(result + '\\n')\n",
    "\n",
    "    fptr.close()"
   ]
  },
  {
   "cell_type": "markdown",
   "metadata": {},
   "source": [
    "# Encription\n",
    "\n",
    "https://www.hackerrank.com/challenges/encryption/problem?h_r=next-challenge&h_v=zen"
   ]
  },
  {
   "cell_type": "code",
   "execution_count": 94,
   "metadata": {},
   "outputs": [],
   "source": [
    "#!/bin/python3\n",
    "\n",
    "import math\n",
    "import os\n",
    "import random\n",
    "import re\n",
    "import sys\n",
    "\n",
    "#\n",
    "# Complete the 'encryption' function below.\n",
    "#\n",
    "# The function is expected to return a STRING.\n",
    "# The function accepts STRING s as parameter.\n",
    "#\n",
    "import textwrap\n",
    "\n",
    "def encryption(s):\n",
    "    # Write your code here\n",
    "    n = len(s)\n",
    "    row = math.floor(math.sqrt(n))\n",
    "    col = math.ceil(math.sqrt(n))\n",
    "    if row*col < n:\n",
    "        row += 1\n",
    "    coded_words = ''\n",
    "        \n",
    "    for l in range(col):\n",
    "        coded_words += str(s[l::col]) + ' '\n",
    "        \n",
    "    return str(coded_words)\n",
    "\n",
    "if __name__ == '__main__':\n",
    "    fptr = open(os.environ['OUTPUT_PATH'], 'w')\n",
    "\n",
    "    s = input()\n",
    "\n",
    "    result = encryption(s)\n",
    "\n",
    "    fptr.write(result + '\\n')\n",
    "\n",
    "    fptr.close()\n"
   ]
  },
  {
   "cell_type": "markdown",
   "metadata": {},
   "source": [
    "# Bigger is Greater\n",
    "\n",
    "https://www.hackerrank.com/challenges/bigger-is-greater/problem?h_r=next-challenge&h_v=zen&h_r=next-challenge&h_v=zen"
   ]
  },
  {
   "cell_type": "code",
   "execution_count": 10,
   "metadata": {},
   "outputs": [],
   "source": [
    "#!/bin/python3\n",
    "\n",
    "import math\n",
    "import os\n",
    "import random\n",
    "import re\n",
    "import sys\n",
    "\n",
    "#\n",
    "# Complete the 'biggerIsGreater' function below.\n",
    "#\n",
    "# The function is expected to return a STRING.\n",
    "# The function accepts STRING w as parameter.\n",
    "#\n",
    "\n",
    "def biggerIsGreater(w):\n",
    "    # Write your code here\n",
    "    nw = list(w)\n",
    "    list_ind  = [i for i in range(len(w)-1) if nw[i] < nw[i+1]]\n",
    "    \n",
    "    if list_ind:\n",
    "        highst_in = max(list_ind)\n",
    "        lis_ind2  = [j for j in range(highst_in, len(nw)) if nw[j] > nw[highst_in]]\n",
    "        highst_in2= max(lis_ind2)\n",
    "        nw[highst_in], nw[highst_in2] = nw[highst_in2], nw[highst_in]\n",
    "        nw[highst_in+1:] = nw[highst_in+1:][::-1]\n",
    "        new_word = ''.join(map(str, nw))\n",
    "    else:\n",
    "        new_word = w\n",
    "            \n",
    "            \n",
    "    return new_word if new_word != w else 'no answer'\n",
    "\n",
    "if __name__ == '__main__':\n",
    "    fptr = open(os.environ['OUTPUT_PATH'], 'w')\n",
    "\n",
    "    T = int(input().strip())\n",
    "\n",
    "    for T_itr in range(T):\n",
    "        w = input()\n",
    "\n",
    "        result = biggerIsGreater(w)\n",
    "\n",
    "        fptr.write(result + '\\n')\n",
    "\n",
    "    fptr.close()\n"
   ]
  },
  {
   "cell_type": "markdown",
   "metadata": {},
   "source": [
    "# Time Delta\n",
    "\n",
    "https://www.hackerrank.com/challenges/python-time-delta/problem"
   ]
  },
  {
   "cell_type": "code",
   "execution_count": 17,
   "metadata": {},
   "outputs": [
    {
     "data": {
      "text/plain": [
       "12"
      ]
     },
     "execution_count": 17,
     "metadata": {},
     "output_type": "execute_result"
    }
   ],
   "source": [
    "#!/bin/python3\n",
    "\n",
    "import math\n",
    "import os\n",
    "import random\n",
    "import re\n",
    "import sys\n",
    "from datetime import datetime as dt\n",
    "\n",
    "# Complete the time_delta function below.\n",
    "def time_delta(t1, t2):\n",
    "    fmt = '%a %d %b %Y %H:%M:%S %z'\n",
    "    t_1 = dt.strptime(t1, fmt)\n",
    "    t_2 = dt.strptime(t2, fmt)\n",
    "    time_dif = (t_1-t_2).total_seconds()\n",
    "    tdiff = str(int(abs(time_dif)))\n",
    "    return tdiff\n",
    "\n",
    "if __name__ == '__main__':\n",
    "    fptr = open(os.environ['OUTPUT_PATH'], 'w')\n",
    "\n",
    "    t = int(input())\n",
    "\n",
    "    for t_itr in range(t):\n",
    "        t1, t2 = input(), input()\n",
    "        delta = time_delta(t1, t2)\n",
    "\n",
    "        fptr.write(delta + '\\n')\n",
    "\n",
    "    fptr.close()\n"
   ]
  },
  {
   "cell_type": "markdown",
   "metadata": {},
   "source": [
    "# Incorrect Regex\n",
    "\n",
    "\n",
    "https://www.hackerrank.com/challenges/incorrect-regex/problem?h_r=next-challenge&h_v=zen"
   ]
  },
  {
   "cell_type": "code",
   "execution_count": 19,
   "metadata": {},
   "outputs": [
    {
     "name": "stdout",
     "output_type": "stream",
     "text": [
      "2\n",
      "**\n",
      "False\n",
      "*\\+\n",
      "False\n"
     ]
    }
   ],
   "source": [
    "# Enter your code here. Read input from STDIN. Print output to STDOUT\n",
    "import re\n",
    "n = int(input())\n",
    "for _ in range(n):\n",
    "    valid = True\n",
    "    try:\n",
    "        re.compile(input())\n",
    "    except re.error:\n",
    "        valid = False\n",
    "    print(valid)"
   ]
  },
  {
   "cell_type": "markdown",
   "metadata": {},
   "source": [
    "# Lists\n",
    "\n",
    "https://www.hackerrank.com/challenges/python-lists/problem?h_r=next-challenge&h_v=zen&h_r=next-challenge&h_v=zen"
   ]
  },
  {
   "cell_type": "code",
   "execution_count": 21,
   "metadata": {},
   "outputs": [
    {
     "ename": "ValueError",
     "evalue": "not enough values to unpack (expected 3, got 1)",
     "output_type": "error",
     "traceback": [
      "\u001b[0;31m---------------------------------------------------------------------------\u001b[0m",
      "\u001b[0;31mValueError\u001b[0m                                Traceback (most recent call last)",
      "\u001b[0;32m<ipython-input-21-3ec21a809018>\u001b[0m in \u001b[0;36m<module>\u001b[0;34m\u001b[0m\n\u001b[1;32m      1\u001b[0m \u001b[0ms\u001b[0m\u001b[0;34m=\u001b[0m\u001b[0;34m'print'\u001b[0m\u001b[0;34m\u001b[0m\u001b[0;34m\u001b[0m\u001b[0m\n\u001b[0;32m----> 2\u001b[0;31m \u001b[0ma\u001b[0m\u001b[0;34m,\u001b[0m \u001b[0mb\u001b[0m\u001b[0;34m,\u001b[0m \u001b[0mc\u001b[0m \u001b[0;34m=\u001b[0m \u001b[0ma\u001b[0m\u001b[0;34m.\u001b[0m\u001b[0msplit\u001b[0m\u001b[0;34m(\u001b[0m\u001b[0;34m' '\u001b[0m\u001b[0;34m)\u001b[0m\u001b[0;34m\u001b[0m\u001b[0;34m\u001b[0m\u001b[0m\n\u001b[0m\u001b[1;32m      3\u001b[0m \u001b[0ma\u001b[0m\u001b[0;34m\u001b[0m\u001b[0;34m\u001b[0m\u001b[0m\n",
      "\u001b[0;31mValueError\u001b[0m: not enough values to unpack (expected 3, got 1)"
     ]
    }
   ],
   "source": [
    "# \n",
    "\n",
    "if __name__ == '__main__':\n",
    "l = []\n",
    "for _ in range(int(raw_input())):\n",
    "    line = raw_input().strip()\n",
    "    if line == \"print\":\n",
    "        print l\n",
    "        continue\n",
    "    parts = line.split()\n",
    "    getattr(l, parts[0])(*(map(int, parts[1:])))\n",
    "    \n",
    "    \n",
    "# OR    \n",
    "if __name__ == '__main__':\n",
    "    N = int(input())\n",
    "    lis = []\n",
    "    for i in range(N):\n",
    "        a = input()\n",
    "        if len(a) > 1:\n",
    "            list_in = a.split(' ') \n",
    "        else:\n",
    "            list_in = a\n",
    "        \n",
    "        if list_in[0] == 'insert':\n",
    "            lis.insert(int(list_in[1]), int(list_in[2]))\n",
    "        elif list_in[0] == 'remove':\n",
    "            lis.remove(int(list_in[1]))\n",
    "        elif list_in[0] == 'append':\n",
    "            lis.append(int(list_in[1]))\n",
    "        elif list_in[0] == 'pop':\n",
    "            lis.pop()\n",
    "        elif list_in[0] == 'print':\n",
    "            print(lis)\n",
    "        elif list_in[0] == 'sort':\n",
    "            lis.sort()        \n",
    "        else:\n",
    "            lis.reverse()"
   ]
  },
  {
   "cell_type": "code",
   "execution_count": 23,
   "metadata": {},
   "outputs": [
    {
     "name": "stdout",
     "output_type": "stream",
     "text": [
      "Collecting django\n",
      "\u001b[33m  Cache entry deserialization failed, entry ignored\u001b[0m\n",
      "  Downloading https://files.pythonhosted.org/packages/37/a1/790e01bf4348dd68090d47108052a8130954d473d54b4ea7924f5bb154de/Django-3.2.5-py3-none-any.whl (7.9MB)\n",
      "\u001b[K    100% |████████████████████████████████| 7.9MB 177kB/s eta 0:00:01\n",
      "\u001b[?25hCollecting pytz (from django)\n",
      "  Downloading https://files.pythonhosted.org/packages/70/94/784178ca5dd892a98f113cdd923372024dc04b8d40abe77ca76b5fb90ca6/pytz-2021.1-py2.py3-none-any.whl (510kB)\n",
      "\u001b[K    100% |████████████████████████████████| 512kB 1.8MB/s ta 0:00:011\n",
      "\u001b[?25hCollecting sqlparse>=0.2.2 (from django)\n",
      "\u001b[33m  Cache entry deserialization failed, entry ignored\u001b[0m\n",
      "\u001b[33m  Cache entry deserialization failed, entry ignored\u001b[0m\n",
      "  Downloading https://files.pythonhosted.org/packages/14/05/6e8eb62ca685b10e34051a80d7ea94b7137369d8c0be5c3b9d9b6e3f5dae/sqlparse-0.4.1-py3-none-any.whl (42kB)\n",
      "\u001b[K    100% |████████████████████████████████| 51kB 5.9MB/s ta 0:00:01\n",
      "\u001b[?25hCollecting asgiref<4,>=3.3.2 (from django)\n",
      "\u001b[33m  Cache entry deserialization failed, entry ignored\u001b[0m\n",
      "  Downloading https://files.pythonhosted.org/packages/fe/66/577f32b54c50dcd8dec38447258e82ed327ecb86820d67ae7b3dea784f13/asgiref-3.4.1-py3-none-any.whl\n",
      "Collecting typing-extensions; python_version < \"3.8\" (from asgiref<4,>=3.3.2->django)\n",
      "  Using cached https://files.pythonhosted.org/packages/2e/35/6c4fff5ab443b57116cb1aad46421fb719bed2825664e8fe77d66d99bcbc/typing_extensions-3.10.0.0-py3-none-any.whl\n",
      "Installing collected packages: pytz, sqlparse, typing-extensions, asgiref, django\n",
      "Successfully installed asgiref-3.4.1 django-3.2.5 pytz-2021.1 sqlparse-0.4.1 typing-extensions-3.10.0.0\n",
      "Note: you may need to restart the kernel to use updated packages.\n"
     ]
    }
   ],
   "source": [
    "pip install django\n"
   ]
  },
  {
   "cell_type": "code",
   "execution_count": 1,
   "metadata": {},
   "outputs": [
    {
     "name": "stdout",
     "output_type": "stream",
     "text": [
      "Enter the number: 3\n"
     ]
    },
    {
     "ename": "TypeError",
     "evalue": "unsupported operand type(s) for ** or pow(): 'str' and 'float'",
     "output_type": "error",
     "traceback": [
      "\u001b[0;31m---------------------------------------------------------------------------\u001b[0m",
      "\u001b[0;31mTypeError\u001b[0m                                 Traceback (most recent call last)",
      "\u001b[0;32m<ipython-input-1-a354841d0dd1>\u001b[0m in \u001b[0;36m<module>\u001b[0;34m()\u001b[0m\n\u001b[1;32m      2\u001b[0m \u001b[0;34m\u001b[0m\u001b[0m\n\u001b[1;32m      3\u001b[0m \u001b[0ma\u001b[0m \u001b[0;34m=\u001b[0m \u001b[0minput\u001b[0m\u001b[0;34m(\u001b[0m\u001b[0;34m'Enter the number: '\u001b[0m\u001b[0;34m)\u001b[0m\u001b[0;34m\u001b[0m\u001b[0;34m\u001b[0m\u001b[0m\n\u001b[0;32m----> 4\u001b[0;31m \u001b[0;32mfor\u001b[0m \u001b[0mi\u001b[0m \u001b[0;32min\u001b[0m \u001b[0mrange\u001b[0m\u001b[0;34m(\u001b[0m\u001b[0;36m2\u001b[0m\u001b[0;34m,\u001b[0m \u001b[0mint\u001b[0m\u001b[0;34m(\u001b[0m\u001b[0ma\u001b[0m\u001b[0;34m**\u001b[0m\u001b[0;36m0.5\u001b[0m\u001b[0;34m)\u001b[0m \u001b[0;34m+\u001b[0m \u001b[0;36m1\u001b[0m\u001b[0;34m)\u001b[0m\u001b[0;34m:\u001b[0m\u001b[0;34m\u001b[0m\u001b[0;34m\u001b[0m\u001b[0m\n\u001b[0m\u001b[1;32m      5\u001b[0m     \u001b[0;32mif\u001b[0m \u001b[0ma\u001b[0m\u001b[0;34m%\u001b[0m\u001b[0mi\u001b[0m \u001b[0;34m==\u001b[0m \u001b[0;36m0\u001b[0m\u001b[0;34m:\u001b[0m\u001b[0;34m\u001b[0m\u001b[0;34m\u001b[0m\u001b[0m\n\u001b[1;32m      6\u001b[0m         \u001b[0mprint\u001b[0m\u001b[0;34m(\u001b[0m\u001b[0;34m'The number is not prime'\u001b[0m\u001b[0;34m)\u001b[0m\u001b[0;34m\u001b[0m\u001b[0;34m\u001b[0m\u001b[0m\n",
      "\u001b[0;31mTypeError\u001b[0m: unsupported operand type(s) for ** or pow(): 'str' and 'float'"
     ]
    }
   ],
   "source": [
    "# Finding a prime number \n",
    "\n",
    "a = input('Enter the number: ')\n",
    "for i in range(2, int(a**0.5) + 1):\n",
    "    if a%i == 0:\n",
    "        print('The number is not prime')\n",
    "        break\n",
    "    else:\n",
    "        print('The number is prime, hurra')\n",
    "            "
   ]
  },
  {
   "cell_type": "code",
   "execution_count": 19,
   "metadata": {},
   "outputs": [
    {
     "name": "stdout",
     "output_type": "stream",
     "text": [
      "1.09 1\n"
     ]
    },
    {
     "data": {
      "text/plain": [
       "0.696"
      ]
     },
     "execution_count": 19,
     "metadata": {},
     "output_type": "execute_result"
    }
   ],
   "source": [
    "def facto(n):\n",
    "    if n == 0:\n",
    "        return 1\n",
    "    else:\n",
    "        return n*facto(n-1)\n",
    "    \n",
    "def comb(n,x):\n",
    "    return facto(n)/(facto(n-x)*facto(x))\n",
    "\n",
    "def bino_dist(x, n, p):\n",
    "    return comb(n, x)*p**x*(1-p)**(n-x)\n",
    "\n",
    "n, x = list(map(float, input().split(' ')))\n",
    "p = n/x\n",
    "\n",
    "resu = round(sum([bino_dist(i, 6, p/(p+1)) for i in range(3,7)]), 3)\n",
    "resu"
   ]
  },
  {
   "cell_type": "code",
   "execution_count": 4,
   "metadata": {},
   "outputs": [
    {
     "name": "stdout",
     "output_type": "stream",
     "text": [
      "12 10\n",
      "0.891\n",
      "0.342\n"
     ]
    }
   ],
   "source": [
    "def facto(n):\n",
    "    return 1 if n==0 else n*facto(n-1)\n",
    "\n",
    "def comb(n, x):\n",
    "    return facto(n)/(facto(n-x)*facto(x))\n",
    "\n",
    "def bino_dist(x, n, p):\n",
    "    return comb(n, x)*p**x*(1-p)**(n-x)\n",
    "\n",
    "percentage, n = list(map(float, input().split(' ')))    \n",
    "p = percentage/100\n",
    "    \n",
    "print(round(sum([bino_dist(i, n, p) for i in range(0, 3)]), 3))\n",
    "\n",
    "print(round(sum([bino_dist(item, n, p) for item in range(2, 11)]), 3))"
   ]
  },
  {
   "cell_type": "code",
   "execution_count": 5,
   "metadata": {},
   "outputs": [
    {
     "name": "stdout",
     "output_type": "stream",
     "text": [
      "1 3\n",
      "5\n",
      "0.044\n"
     ]
    }
   ],
   "source": [
    "# Enter your code here. Read input from STDIN. Print output to STDOUT\n",
    "\n",
    "num, deno = list(map(float, input().split(' ')))\n",
    "\n",
    "\n",
    "n = int(input())\n",
    "p = num/deno\n",
    "\n",
    "def geo_dist(n, p):\n",
    "    return (1-p)**n*p\n",
    "\n",
    "print(round(geo_dist(n, p),3))"
   ]
  },
  {
   "cell_type": "code",
   "execution_count": 7,
   "metadata": {},
   "outputs": [
    {
     "name": "stdout",
     "output_type": "stream",
     "text": [
      "1 3\n",
      "5\n",
      "0.868\n"
     ]
    }
   ],
   "source": [
    "num, deno = list(map(float, input().split(' ')))\n",
    "\n",
    "\n",
    "n = int(input())\n",
    "p = num/deno\n",
    "\n",
    "def geo_dist(n, p):\n",
    "    return (1-p)**(n-1)*p\n",
    "\n",
    "print(round(sum([geo_dist(n, p) for n in range(1, 6)]) ,3))"
   ]
  },
  {
   "cell_type": "code",
   "execution_count": 18,
   "metadata": {},
   "outputs": [
    {
     "name": "stdout",
     "output_type": "stream",
     "text": [
      "2.5\n",
      "5\n",
      "0.067\n"
     ]
    }
   ],
   "source": [
    "def facto(n):\n",
    "    return 1 if n == 0 else n*facto(n-1)\n",
    "\n",
    "def poisson_dist(k, avg):\n",
    "    # k is the actual number of success that occure in a specified region \n",
    "    # avg is the average number of sucess that occur in a specified region \n",
    "    poisson = (avg**k*2.71828**(-avg))/facto(k)\n",
    "    return poisson\n",
    "\n",
    "avg = float(input())\n",
    "\n",
    "k = int(input())\n",
    "print(round(poisson_dist(k, avg), 3))"
   ]
  },
  {
   "cell_type": "code",
   "execution_count": 20,
   "metadata": {},
   "outputs": [
    {
     "name": "stdout",
     "output_type": "stream",
     "text": [
      "0.88 1.55\n",
      "190.976 \n",
      " 224.1\n"
     ]
    }
   ],
   "source": [
    "def expected_value(x_avg, y_avg):\n",
    "    Ca = 160 + 40*x_avg**2\n",
    "    Cb = 128 + 40*y_avg**2\n",
    "    return Ca, Cb\n",
    "\n",
    "    \n",
    "x_avg, y_avg = list(map(float, input().split(' ')))\n",
    "Ca, Cb = expected_value(x_avg, y_avg)\n",
    "print(round(Ca, 3),'\\n', round(Cb, 3))"
   ]
  },
  {
   "cell_type": "code",
   "execution_count": 22,
   "metadata": {},
   "outputs": [
    {
     "name": "stdout",
     "output_type": "stream",
     "text": [
      "20 2\n",
      "19.5\n",
      "0.401\n",
      "20 22\n",
      "0.34099999999999997\n"
     ]
    }
   ],
   "source": [
    "from math import erf, sqrt\n",
    "def cum_norm_dist(x, avg, std):\n",
    "    err = erf((x-avg)/(sqrt(2)*std))\n",
    "    dist = 0.5*(1 + err)\n",
    "    return dist\n",
    "\n",
    "avg, std = list(map(float, input().split(' ')))\n",
    "x = float(input())\n",
    "print(round(cum_norm_dist(x, avg, std), 3))\n",
    "x, y = list(map(float, input().split(' ')))\n",
    "print(round(cum_norm_dist(y, avg, std) - cum_norm_dist(x, avg, std), 3))"
   ]
  },
  {
   "cell_type": "code",
   "execution_count": 43,
   "metadata": {},
   "outputs": [
    {
     "name": "stdout",
     "output_type": "stream",
     "text": [
      "250\n",
      "100\n",
      "2.4\n",
      "2.0\n",
      "0.6915\n"
     ]
    }
   ],
   "source": [
    "from math import erf, sqrt\n",
    "def norm_dist(x, mu, std):\n",
    "    err = erf((x-mu)/(sqrt(2)*std))\n",
    "    dist = 0.5*(1+err)\n",
    "    return dist\n",
    "\n",
    "'''mu, std = list(map(float, input().split(' ')))\n",
    "p1 = float(input())\n",
    "print(round((1 - norm_dist(p1, mu, std))*100, 2))\n",
    "\n",
    "p2 = float(input())\n",
    "print(round((1 - norm_dist(p2, mu, std))*100, 2))\n",
    "\n",
    "print(round(norm_dist(p2, mu, std)*100, 2))'''\n",
    "\n",
    "x    = float(input())\n",
    "n    = int(input())\n",
    "mu   = float(input())\n",
    "std  = float(input())\n",
    "\n",
    "mu_sum = n * mu\n",
    "sigma_sum = sqrt(n) * std\n",
    "\n",
    "print(round(norm_dist(x, mu_sum, sigma_sum), 4))"
   ]
  },
  {
   "cell_type": "code",
   "execution_count": 66,
   "metadata": {},
   "outputs": [
    {
     "name": "stdout",
     "output_type": "stream",
     "text": [
      "\n"
     ]
    },
    {
     "ename": "ValueError",
     "evalue": "invalid literal for int() with base 10: ''",
     "output_type": "error",
     "traceback": [
      "\u001b[0;31m---------------------------------------------------------------------------\u001b[0m",
      "\u001b[0;31mValueError\u001b[0m                                Traceback (most recent call last)",
      "\u001b[0;32m<ipython-input-66-19071263e2af>\u001b[0m in \u001b[0;36m<module>\u001b[0;34m()\u001b[0m\n\u001b[1;32m     23\u001b[0m     \u001b[0;32mreturn\u001b[0m \u001b[0mper_corr_coef\u001b[0m\u001b[0;34m\u001b[0m\u001b[0;34m\u001b[0m\u001b[0m\n\u001b[1;32m     24\u001b[0m \u001b[0;34m\u001b[0m\u001b[0m\n\u001b[0;32m---> 25\u001b[0;31m \u001b[0mn\u001b[0m \u001b[0;34m=\u001b[0m \u001b[0mint\u001b[0m\u001b[0;34m(\u001b[0m\u001b[0minput\u001b[0m\u001b[0;34m(\u001b[0m\u001b[0;34m)\u001b[0m\u001b[0;34m)\u001b[0m\u001b[0;34m\u001b[0m\u001b[0;34m\u001b[0m\u001b[0m\n\u001b[0m\u001b[1;32m     26\u001b[0m \u001b[0mx\u001b[0m \u001b[0;34m=\u001b[0m \u001b[0mlist\u001b[0m\u001b[0;34m(\u001b[0m\u001b[0mmap\u001b[0m\u001b[0;34m(\u001b[0m\u001b[0mfloat\u001b[0m\u001b[0;34m,\u001b[0m \u001b[0minput\u001b[0m\u001b[0;34m(\u001b[0m\u001b[0;34m)\u001b[0m\u001b[0;34m.\u001b[0m\u001b[0mstrip\u001b[0m\u001b[0;34m(\u001b[0m\u001b[0;34m)\u001b[0m\u001b[0;34m.\u001b[0m\u001b[0msplit\u001b[0m\u001b[0;34m(\u001b[0m\u001b[0;34m' '\u001b[0m\u001b[0;34m)\u001b[0m\u001b[0;34m)\u001b[0m\u001b[0;34m)\u001b[0m\u001b[0;34m\u001b[0m\u001b[0;34m\u001b[0m\u001b[0m\n\u001b[1;32m     27\u001b[0m \u001b[0my\u001b[0m \u001b[0;34m=\u001b[0m \u001b[0mlist\u001b[0m\u001b[0;34m(\u001b[0m\u001b[0mmap\u001b[0m\u001b[0;34m(\u001b[0m\u001b[0mfloat\u001b[0m\u001b[0;34m,\u001b[0m \u001b[0minput\u001b[0m\u001b[0;34m(\u001b[0m\u001b[0;34m)\u001b[0m\u001b[0;34m.\u001b[0m\u001b[0mstrip\u001b[0m\u001b[0;34m(\u001b[0m\u001b[0;34m)\u001b[0m\u001b[0;34m.\u001b[0m\u001b[0msplit\u001b[0m\u001b[0;34m(\u001b[0m\u001b[0;34m' '\u001b[0m\u001b[0;34m)\u001b[0m\u001b[0;34m)\u001b[0m\u001b[0;34m)\u001b[0m\u001b[0;34m\u001b[0m\u001b[0;34m\u001b[0m\u001b[0m\n",
      "\u001b[0;31mValueError\u001b[0m: invalid literal for int() with base 10: ''"
     ]
    }
   ],
   "source": [
    "def standard_deviation(x, n):\n",
    "    mu = sum(x)/n\n",
    "    std = (sum(map(lambda x: (x-mu)**2, x))/n)**0.5\n",
    "    return std\n",
    "\n",
    "def covariance(x, y, n):\n",
    "    mu_x, mu_y = sum(x)/n, sum(y)/n\n",
    "    \n",
    "    x_var = list(map(lambda x: x - mu_x, x))\n",
    "    y_var = list(map(lambda y: y - mu_y, y))\n",
    "    \n",
    "    cov = sum([x_var[i]*y_var[i] for i in range(0, n)])/n\n",
    "    return cov\n",
    "\n",
    "def pearson_corr_coeff(x, y, n):\n",
    "    mu_x, mu_y = sum(x)/n, sum(y)/n\n",
    "    \n",
    "    std_x = standard_deviation(x, n)\n",
    "    std_y = standard_deviation(y, n)\n",
    "    cov = covariance(x, y, n)\n",
    "    \n",
    "    per_corr_coef = cov/(std_x*std_y)\n",
    "    return per_corr_coef\n",
    "\n",
    "n = int(input())\n",
    "x = list(map(float, input().strip().split(' ')))\n",
    "y = list(map(float, input().strip().split(' ')))\n",
    "\n",
    "print(round(pearson_corr_coeff(x, y, n), 3))\n",
    "\n",
    "\n",
    "\n",
    "    \n",
    "    \n",
    "    "
   ]
  },
  {
   "cell_type": "markdown",
   "metadata": {},
   "source": [
    "# Ranks of elements in a list "
   ]
  },
  {
   "cell_type": "code",
   "execution_count": 76,
   "metadata": {},
   "outputs": [],
   "source": [
    "def rank(x): \n",
    "    uniq_dict = {}\n",
    "    rank = 1\n",
    "    for item in sorted(x):\n",
    "        if item not in uniq_dict:\n",
    "            uniq_dict[item] = rank \n",
    "            rank += 1\n",
    "    \n",
    "    r = [uniq_dict[i] for i in x]\n",
    "    return r\n",
    "\n",
    "def scc(x, y, n): # Spearsman correlation coefficient \n",
    "    r_x = rank(x)\n",
    "    r_y = rank(y)\n",
    "    pair = zip(r_x,r_y)\n",
    "    diff = list(map(lambda x: (x[0]-x[1])**2, pair))\n",
    "    sum_diff = sum(diff)\n",
    "    r_xy = 1-(6*sum_diff/(n*(n**2-1)))\n",
    "    return r_xy"
   ]
  },
  {
   "cell_type": "code",
   "execution_count": 77,
   "metadata": {},
   "outputs": [
    {
     "data": {
      "text/plain": [
       "0.9030303030303031"
      ]
     },
     "execution_count": 77,
     "metadata": {},
     "output_type": "execute_result"
    }
   ],
   "source": [
    "x = [10, 9.8, 8, 7.8, 7.7, 1.7, 6, 5, 1.4, 2]\n",
    "y = [200, 44, 32, 24, 22, 17, 15, 12, 8, 4]\n",
    "scc(x, y, 10)"
   ]
  },
  {
   "cell_type": "code",
   "execution_count": null,
   "metadata": {},
   "outputs": [],
   "source": [
    "# Enter your code here. Read input from STDIN. Print output to STDOUT\n",
    "\n",
    "def standard_deviation(x):\n",
    "    n = len(x)\n",
    "    mu = sum(x)/n\n",
    "    std = (sum(map(lambda x: (x-mu)**2, x))/n)**0.5\n",
    "    return std\n",
    "\n",
    "def covariance(x, y):\n",
    "    n = len(x)\n",
    "    mu_x, mu_y = sum(x)/n, sum(y)/n\n",
    "    \n",
    "    x_var = list(map(lambda x: x - mu_x, x))\n",
    "    y_var = list(map(lambda y: y - mu_y, y))\n",
    "    \n",
    "    cov = sum([x_var[i]*y_var[i] for i in range(0, n)])/n\n",
    "    return cov\n",
    "\n",
    "def pearson_corr_coeff(x, y):\n",
    "    n = len(x)\n",
    "    mu_x, mu_y = sum(x)/n, sum(y)/n\n",
    "    \n",
    "    std_x = standard_deviation(x, n)\n",
    "    std_y = standard_deviation(y, n)\n",
    "    cov = covariance(x, y, n)\n",
    "    \n",
    "    per_corr_coef = cov/(std_x*std_y)\n",
    "    return per_corr_coef, std_x, std_y\n",
    "\n",
    "def leat_square(x, y):\n",
    "    n = len(x)\n",
    "    pear_coeff, std_x, std_y = pearson_corr_coeff(x, y)\n",
    "    b = pear_coeff*std_y/std_x\n",
    "    \n",
    "    mu_x, mu_y = sum(x)/n, sum(y)/n\n",
    "    a = mu_y*b - mu_x\n",
    "    sst = sum([(y_i - mu_y)**2 for y_i in y])\n",
    "    ssr = sum([(a + b*y_i) - mu_y for y_i in y])\n",
    "    sse = sum([(a + b*y_i) - y_i for y_i in y])\n",
    "    \n",
    "    r2 = 1 - sse/sst\n",
    "    \n",
    "    return a, b\n",
    "\n",
    "x, y = input().split(' ')\n",
    "a, b = leat_square(x, y)\n",
    "print(round(a + b*80, 3))\n"
   ]
  },
  {
   "cell_type": "code",
   "execution_count": null,
   "metadata": {},
   "outputs": [],
   "source": []
  }
 ],
 "metadata": {
  "kernelspec": {
   "display_name": "Python 3",
   "language": "python",
   "name": "python3"
  },
  "language_info": {
   "codemirror_mode": {
    "name": "ipython",
    "version": 3
   },
   "file_extension": ".py",
   "mimetype": "text/x-python",
   "name": "python",
   "nbconvert_exporter": "python",
   "pygments_lexer": "ipython3",
   "version": "3.6.9"
  }
 },
 "nbformat": 4,
 "nbformat_minor": 2
}
