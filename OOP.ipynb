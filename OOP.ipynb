{
 "cells": [
  {
   "cell_type": "markdown",
   "metadata": {},
   "source": [
    "# Object oriented programming (OOP)\n",
    "\n",
    "This tutorial concerns about object oriented programming in python framework \n",
    "\n",
    "- It defines the given object based on the attributes that describe it.\n"
   ]
  },
  {
   "cell_type": "markdown",
   "metadata": {},
   "source": [
    "# E.g. \n",
    "\n",
    "The following class is used to get name, age and print out the name and age of a human object.\n",
    "\n",
    "- It has four methods get_name(), get_age(), put_name(), and put_age()"
   ]
  },
  {
   "cell_type": "code",
   "execution_count": 1,
   "metadata": {},
   "outputs": [],
   "source": [
    "class Human:\n",
    "    name = None\n",
    "    age  = None\n",
    "    def get_name(self):\n",
    "        print('Eneter your name')\n",
    "        self.name= input()\n",
    "    def get_age(self):\n",
    "        print('Enter your age')\n",
    "        self.age = input()\n",
    "    def put_name(self):\n",
    "        print('Your name is', self.name)\n",
    "    def put_age(self):\n",
    "        print('Your age is', self.age)"
   ]
  },
  {
   "cell_type": "code",
   "execution_count": 2,
   "metadata": {},
   "outputs": [
    {
     "name": "stdout",
     "output_type": "stream",
     "text": [
      "Eneter your name\n",
      "\n",
      "Your name is \n",
      "Enter your age\n",
      "\n",
      "Your age is \n"
     ]
    }
   ],
   "source": [
    "h = Human()\n",
    "h.get_name()\n",
    "h.put_name()\n",
    "h.get_age()\n",
    "h.put_age()"
   ]
  },
  {
   "cell_type": "markdown",
   "metadata": {},
   "source": [
    "# Student class\n",
    "\n",
    "- It takes the attributes Name, age, and departmment\n",
    "- It has two methods the 'constructor' and print method"
   ]
  },
  {
   "cell_type": "code",
   "execution_count": 3,
   "metadata": {},
   "outputs": [
    {
     "name": "stdout",
     "output_type": "stream",
     "text": [
      "Name: Abay Kassa\n",
      "Age: 30\n",
      "Branch: Maths\n"
     ]
    }
   ],
   "source": [
    "class Student:\n",
    "    def __init__(self, name, age, branch):\n",
    "        self.name = name\n",
    "        self.age = age\n",
    "        self.branch = branch\n",
    "    def print_student(self):\n",
    "        print('Name:', self.name)\n",
    "        print('Age:', self.age)\n",
    "        print('Branch:', self.branch)\n",
    "\n",
    "S = Student('Abay Kassa', '30', 'Maths')\n",
    "S.print_student()"
   ]
  },
  {
   "cell_type": "markdown",
   "metadata": {},
   "source": [
    "# Inheritance \n",
    "\n",
    "Python has inheritance, i.e., the subclass can inherit the attributes and methods from the parent class\n",
    "\n",
    "# E.g.\n",
    "\n",
    "The following OOP is used to construct a relation between the friut class and the citrus subclass\n"
   ]
  },
  {
   "cell_type": "code",
   "execution_count": 4,
   "metadata": {},
   "outputs": [
    {
     "name": "stdout",
     "output_type": "stream",
     "text": [
      "I am a Fruit.\n",
      " And, I am Citrus.\n"
     ]
    }
   ],
   "source": [
    "class Fruit:\n",
    "    def __init__(self):\n",
    "        print('I am a Fruit.')\n",
    "        \n",
    "class Citrus(Fruit):\n",
    "    def __init__(self):\n",
    "        super().__init__()\n",
    "        print(' And, I am Citrus.')\n",
    "\n",
    "lemon = Citrus()"
   ]
  },
  {
   "cell_type": "markdown",
   "metadata": {},
   "source": [
    "# A robot class\n",
    "- It has two methods, 1. the constructor and 2. the self inroduction method\n"
   ]
  },
  {
   "cell_type": "code",
   "execution_count": 5,
   "metadata": {},
   "outputs": [],
   "source": [
    "class Robot:\n",
    "    # consructor \n",
    "    def __init__(self, givenName, givenColor, givenWeight):\n",
    "        self.name = givenName\n",
    "        self.color = givenColor\n",
    "        self.weight = givenWeight \n",
    "    def introduce_self(self):\n",
    "        print('My name is ' + self.name+'.' ' I am ' + self.color + ' and ' + 'I weights', self.weight, 'Kg') "
   ]
  },
  {
   "cell_type": "code",
   "execution_count": 6,
   "metadata": {},
   "outputs": [
    {
     "name": "stdout",
     "output_type": "stream",
     "text": [
      "My name is Sofia. I am brown and I weights 20 Kg\n"
     ]
    }
   ],
   "source": [
    "r = Robot('Sofia', 'brown', 20)\n",
    "r.introduce_self()"
   ]
  },
  {
   "cell_type": "markdown",
   "metadata": {},
   "source": [
    "# Student class\n",
    "\n",
    "- This cass takes the name, major, gpa, probation condition and retuens the "
   ]
  },
  {
   "cell_type": "code",
   "execution_count": 7,
   "metadata": {},
   "outputs": [
    {
     "data": {
      "text/plain": [
       "True"
      ]
     },
     "execution_count": 7,
     "metadata": {},
     "output_type": "execute_result"
    }
   ],
   "source": [
    "class Student:\n",
    "    def __init__(self, name, major, gpa, is_on_probation):\n",
    "        self.name = name\n",
    "        self.major = major\n",
    "        self.gpa = gpa\n",
    "        self.is_probaion = is_on_probation\n",
    "    def on_honor_roll(self):\n",
    "        if self.gpa >= 3.5:\n",
    "            return True\n",
    "        else:\n",
    "            return False\n",
    "S = Student('Abay Kassa', 'Maths', 3.5, False)\n",
    "S.on_honor_roll()"
   ]
  },
  {
   "cell_type": "markdown",
   "metadata": {},
   "source": [
    "# Class for multiple questions \n",
    "\n",
    " - question and answer game "
   ]
  },
  {
   "cell_type": "code",
   "execution_count": 8,
   "metadata": {},
   "outputs": [
    {
     "name": "stdout",
     "output_type": "stream",
     "text": [
      "What color is apple?\n",
      "(a) Red/Green\n",
      "(b) Purple\n",
      "(c) Orage\n",
      "\n",
      "\n",
      "What color is banana?\n",
      "(a) Cyan\n",
      "(b) Purple\n",
      "(c) Yellow\n",
      "\n",
      "\n",
      "What color is strawberries?\n",
      "(a) Red\n",
      "(b) Yellow\n",
      "(c) Magneta\n",
      "\n",
      "\n",
      "What is the captal city of Norway?\n",
      "(a) Oslo\n",
      "(b) Stockholm\n",
      "(c) Bergen\n",
      "\n",
      "\n",
      "You got 0/4 correct\n"
     ]
    }
   ],
   "source": [
    "class Question:\n",
    "    def __init__(self, propt, answer):\n",
    "        self.propt = propt\n",
    "        self.answer = answer\n",
    "\n",
    "question_propt = [\n",
    "    \"What color is apple?\\n(a) Red/Green\\n(b) Purple\\n(c) Orage\\n\\n\",\n",
    "    \"What color is banana?\\n(a) Cyan\\n(b) Purple\\n(c) Yellow\\n\\n\",\n",
    "    \"What color is strawberries?\\n(a) Red\\n(b) Yellow\\n(c) Magneta\\n\\n\",\n",
    "    \"What is the captal city of Norway?\\n(a) Oslo\\n(b) Stockholm\\n(c) Bergen\\n\\n\" \n",
    "\n",
    "]\n",
    "\n",
    "questions = [\n",
    "    Question(question_propt[0], 'a'),\n",
    "    Question(question_propt[1], 'c'),\n",
    "    Question(question_propt[2], 'a'),\n",
    "    Question(question_propt[3], 'a')\n",
    "]\n",
    "\n",
    "def run_test(questions):\n",
    "    score = 0\n",
    "    for ques in questions:\n",
    "        answer = input(ques.propt)\n",
    "        if answer == ques.answer:\n",
    "            score += 1\n",
    "    print('You got ' + str(score) + '/' + str(len(questions)) + ' correct') \n",
    "\n",
    "run_test(questions)"
   ]
  },
  {
   "cell_type": "code",
   "execution_count": 9,
   "metadata": {},
   "outputs": [
    {
     "ename": "NameError",
     "evalue": "name 'dog' is not defined",
     "output_type": "error",
     "traceback": [
      "\u001b[0;31m---------------------------------------------------------------------------\u001b[0m",
      "\u001b[0;31mNameError\u001b[0m                                 Traceback (most recent call last)",
      "\u001b[0;32m<ipython-input-9-8bf27626fe1a>\u001b[0m in \u001b[0;36m<module>\u001b[0;34m\u001b[0m\n\u001b[1;32m     16\u001b[0m \u001b[0;31m# Create an instance\u001b[0m\u001b[0;34m\u001b[0m\u001b[0;34m\u001b[0m\u001b[0;34m\u001b[0m\u001b[0m\n\u001b[1;32m     17\u001b[0m \u001b[0;34m\u001b[0m\u001b[0m\n\u001b[0;32m---> 18\u001b[0;31m \u001b[0mdog\u001b[0m\u001b[0;34m\u001b[0m\u001b[0;34m\u001b[0m\u001b[0m\n\u001b[0m\u001b[1;32m     19\u001b[0m \u001b[0;34m\u001b[0m\u001b[0m\n\u001b[1;32m     20\u001b[0m \u001b[0md\u001b[0m \u001b[0;34m=\u001b[0m \u001b[0mDog\u001b[0m\u001b[0;34m(\u001b[0m\u001b[0;34m'Tomm'\u001b[0m\u001b[0;34m,\u001b[0m \u001b[0;36m32\u001b[0m\u001b[0;34m)\u001b[0m\u001b[0;34m\u001b[0m\u001b[0;34m\u001b[0m\u001b[0m\n",
      "\u001b[0;31mNameError\u001b[0m: name 'dog' is not defined"
     ]
    }
   ],
   "source": [
    "# Continued \n",
    "class Dog:\n",
    "    def __init__(self, name, age):\n",
    "        self.name = name   \n",
    "        self.age = age\n",
    "         \n",
    "    def get_name(self):\n",
    "        return self.name\n",
    "    \n",
    "    def get_age(self):\n",
    "        return self.age\n",
    "              \n",
    "    def set_age(self, age):\n",
    "        self.age = age\n",
    "        \n",
    "# Create an instance\n",
    "\n",
    "dog\n",
    "\n",
    "d = Dog('Tomm', 32)\n",
    "print(d.set_age(32))\n",
    "#d.add_one(2)\n",
    " "
   ]
  },
  {
   "cell_type": "code",
   "execution_count": 10,
   "metadata": {},
   "outputs": [
    {
     "name": "stdout",
     "output_type": "stream",
     "text": [
      "False\n"
     ]
    },
    {
     "data": {
      "text/plain": [
       "85.0"
      ]
     },
     "execution_count": 10,
     "metadata": {},
     "output_type": "execute_result"
    }
   ],
   "source": [
    "# Student class \n",
    "\n",
    "class Student:\n",
    "    def __init__(self, name, age, grade):\n",
    "        self.name = name\n",
    "        self.age = age \n",
    "        self.grade = grade\n",
    "    \n",
    "    def get_grade(self):\n",
    "        return self.grade \n",
    "    \n",
    "class Course:\n",
    "    def __init__(self, name, max_student):\n",
    "        self.name = name\n",
    "        self.max_student = max_student\n",
    "        self.students = []\n",
    "    \n",
    "    def add_student(self, student):\n",
    "        if len(self.students) < self.max_student:\n",
    "            self.students.append(student)\n",
    "            return True\n",
    "        return False\n",
    "    \n",
    "    def get_avg_grade(self):\n",
    "        vaue = 0\n",
    "        for student in self.students:\n",
    "            vaue += student.get_grade()\n",
    "            \n",
    "        return vaue/len(self.students)\n",
    "            \n",
    "            \n",
    "    \n",
    "\n",
    "s1 = Student('Tim', 19,95)\n",
    "s2 = Student('Bill', 19, 75)\n",
    "s3 = Student('Jill', 19, 65)\n",
    "\n",
    "course = Course('Science', 2)\n",
    "\n",
    "course.add_student(s1)\n",
    "course.add_student(s2)\n",
    "print(course.add_student(s3))\n",
    "course.get_avg_grade()"
   ]
  },
  {
   "cell_type": "code",
   "execution_count": 11,
   "metadata": {},
   "outputs": [
    {
     "name": "stdout",
     "output_type": "stream",
     "text": [
      "Meow\n",
      "I dont know what to say\n",
      "I am Tim and I am 19 years old\n"
     ]
    }
   ],
   "source": [
    "# Inheritance in OOP\n",
    "class Pet:\n",
    "    def __init__(self, name, age):\n",
    "        self.name = name \n",
    "        self.age = age\n",
    "        \n",
    "    def show(self):\n",
    "        print(f'I am {self.name} and I am {self.age} years old')\n",
    "        \n",
    "    def speak(self):\n",
    "        print('I dont know what to say')\n",
    "\n",
    "class Cat(Pet): \n",
    "    def __init__(self, name, age, color):\n",
    "        super().__init__(name, age)\n",
    "        self.color = color\n",
    "    \n",
    "    def speak(self):\n",
    "        print('Meow')\n",
    "        \n",
    "    def show(self):\n",
    "        print(f'I am {self.name} and I am {self.age} years old and I am {self.color}')\n",
    "        \n",
    "class Dog(Pet):\n",
    "        \n",
    "    def speak(self):\n",
    "        print('Bark')\n",
    "p = Pet('Tim', 19)\n",
    "c = Cat('Bill', 34, 'Brown')\n",
    "c.speak()\n",
    "\n",
    "p.speak()\n",
    "p.show()"
   ]
  },
  {
   "cell_type": "code",
   "execution_count": 13,
   "metadata": {},
   "outputs": [
    {
     "name": "stdout",
     "output_type": "stream",
     "text": [
      "1\n",
      "2\n"
     ]
    }
   ],
   "source": [
    "#  Class method\n",
    "class Person:\n",
    "    number_of_people = 0\n",
    "    \n",
    "    def __init__(self, name):\n",
    "        self.name = name\n",
    "        Person.add_person()\n",
    "         \n",
    "    @classmethod\n",
    "    def number_of_people_(cls):\n",
    "        return cls.number_of_people\n",
    "    \n",
    "    @classmethod\n",
    "    def add_person(cls):\n",
    "        cls.number_of_people += 1\n",
    "        \n",
    "p1 = Person('Tim')\n",
    "print(p1.number_of_people)\n",
    "p2 = Person('jil')\n",
    "#Person.number_of_people= 8\n",
    "\n",
    "print(p2.number_of_people)"
   ]
  },
  {
   "cell_type": "code",
   "execution_count": null,
   "metadata": {},
   "outputs": [],
   "source": [
    "#Static \n",
    "\n",
    "class Math:\n",
    "    @staticmethod\n",
    "    def add(x):\n",
    "        return x + 5"
   ]
  },
  {
   "cell_type": "code",
   "execution_count": null,
   "metadata": {},
   "outputs": [],
   "source": []
  }
 ],
 "metadata": {
  "kernelspec": {
   "display_name": "Python 3",
   "language": "python",
   "name": "python3"
  },
  "language_info": {
   "codemirror_mode": {
    "name": "ipython",
    "version": 3
   },
   "file_extension": ".py",
   "mimetype": "text/x-python",
   "name": "python",
   "nbconvert_exporter": "python",
   "pygments_lexer": "ipython3",
   "version": "3.6.9"
  }
 },
 "nbformat": 4,
 "nbformat_minor": 2
}
